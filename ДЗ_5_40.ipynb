{
  "nbformat": 4,
  "nbformat_minor": 0,
  "metadata": {
    "colab": {
      "name": " \"ДЗ_5_40.ipynb\"",
      "provenance": [],
      "collapsed_sections": [],
      "toc_visible": true
    },
    "kernelspec": {
      "name": "python3",
      "display_name": "Python 3"
    },
    "language_info": {
      "name": "python"
    }
  },
  "cells": [
    {
      "cell_type": "code",
      "metadata": {
        "id": "oxHK6_fckRNj"
      },
      "source": [
        "import os\n",
        "from zipfile import ZipFile\n",
        "import numpy as np\n",
        "import pandas as pd"
      ],
      "execution_count": 1,
      "outputs": []
    },
    {
      "cell_type": "code",
      "metadata": {
        "colab": {
          "base_uri": "https://localhost:8080/"
        },
        "id": "C_8aKgyLM_xF",
        "outputId": "b11d4146-042d-40a2-a42a-30f70b834854"
      },
      "source": [
        "from google.colab import drive\n",
        "drive.mount('/content/drive')"
      ],
      "execution_count": 2,
      "outputs": [
        {
          "output_type": "stream",
          "text": [
            "Mounted at /content/drive\n"
          ],
          "name": "stdout"
        }
      ]
    },
    {
      "cell_type": "markdown",
      "metadata": {
        "id": "NbklzkOioKV_"
      },
      "source": [
        "Необходимо разархивировать датасет в нужную директорию"
      ]
    },
    {
      "cell_type": "code",
      "metadata": {
        "id": "UGkkIsiOlVmA"
      },
      "source": [
        "data_path_zip = \"/content/drive/MyDrive/PyTorch_5/nturgbd_skeletons_s001_to_s017.zip\"\n",
        "extract_dir = \"/content/drive/MyDrive/PyTorch_5/SK\"\n",
        "with ZipFile(data_path_zip) as zf:\n",
        "    zf.extractall(extract_dir)"
      ],
      "execution_count": null,
      "outputs": []
    },
    {
      "cell_type": "markdown",
      "metadata": {
        "id": "Z3UrIh0AoYbm"
      },
      "source": [
        "Соответствующие пути для содержимого архива и файла txt"
      ]
    },
    {
      "cell_type": "code",
      "metadata": {
        "id": "dfvE_cGcm6U-"
      },
      "source": [
        "data_path = \"/content/drive/MyDrive/PyTorch_5/SK/skeletons/\"\n",
        "#### список отсутсвующих элементов так же будет доступен \n",
        "broken_files_path = \"/content/drive/MyDrive/PyTorch_5/missing_skeletons.txt\""
      ],
      "execution_count": null,
      "outputs": []
    },
    {
      "cell_type": "code",
      "metadata": {
        "id": "eWQ15KALngbV"
      },
      "source": [
        "training_subjects = list(range(0, 28)) #количество людей выполняющих действия\n",
        "training_classes = [ 44, 14, 34, 40, 10, 50, 5, 24] #классы которые будем использовать для обучения, полный список прдставлен тут https://github.com/shahroudy/NTURGB-D\n",
        "training_cameras = [1, 2, 3] \n",
        "\n",
        "max_body_true = 1\n",
        "max_body_kinect = 1\n",
        "\n",
        "num_joint = 25\n",
        "max_frame = 300 # Длина отрезка которую мы вычленяем из большого датасета"
      ],
      "execution_count": null,
      "outputs": []
    },
    {
      "cell_type": "markdown",
      "metadata": {
        "id": "zCT74oO8uDYk"
      },
      "source": [
        "Функция, которая позволяет нам считать данные для каждого класса"
      ]
    },
    {
      "cell_type": "code",
      "metadata": {
        "id": "JYeqrTPXn9_D"
      },
      "source": [
        "def read_data(data_path, broken_files_path):\n",
        "    labels = []\n",
        "    files = []\n",
        "    action_classes = {}\n",
        "    counter = 0\n",
        "    files_counter = {}\n",
        "              \n",
        "    with open(broken_files_path, 'r') as f:\n",
        "        broken_files = f.read().split(\"\\n\")\n",
        "\n",
        "    raw_files = os.listdir(data_path)\n",
        "    num_frames = 0\n",
        "\n",
        "    for filename in raw_files:\n",
        "        if filename not in broken_files:\n",
        "            action_class = int(filename[filename.find('A') + 1:filename.find('A') + 4])\n",
        "            subject_id = int(filename[filename.find('P') + 1:filename.find('P') + 4])\n",
        "            camera_id = int(filename[filename.find('C') + 1:filename.find('C') + 4])\n",
        "            if action_class in training_classes and camera_id in training_cameras:  #and subject_id in training_subjects:\n",
        "                if action_class in action_classes:\n",
        "                    if files_counter[action_class] < 120:\n",
        "                        files.append([filename,action_classes[action_class]])\n",
        "                        files_counter[action_class] = files_counter[action_class] + 1\n",
        "                else:\n",
        "                    action_classes.update({action_class : counter})\n",
        "                    files_counter.update({action_class : 1})\n",
        "                    counter+=1\n",
        "                    files.append([filename,action_classes[action_class]])\n",
        "#                     labels.append([action_class])\n",
        "    print(\"action classes: \", action_classes)\n",
        "    print(\"action files: \", files_counter)\n",
        "    \n",
        "    return files, action_classes"
      ],
      "execution_count": null,
      "outputs": []
    },
    {
      "cell_type": "code",
      "metadata": {
        "id": "BLSr5I-poikj"
      },
      "source": [
        "def get_nonzero_std(s): \n",
        "    index = s.sum(-1).sum(-1) != 0  \n",
        "    s = s[index]\n",
        "    if len(s) != 0:\n",
        "        s = s[:, :, 0].std() + s[:, :, 1].std() + s[:, :, 2].std()  \n",
        "    else:\n",
        "        s = 0\n",
        "    return s\n",
        "\n",
        "# Функция фильтр для того, что бы найти только координаты x,y,z(т.к. в датасете\n",
        "# хранится на порядок больше информации, нежели только координаты x,y,z)\n",
        "# (Остальные данные нам и не нужны, т.к. у нас нет ик-камер)\n",
        "def read_skeleton_filter(file):\n",
        "    with open(file, 'r') as f:\n",
        "        skeleton_sequence = {}\n",
        "        skeleton_sequence['numFrame'] = int(f.readline())\n",
        "        skeleton_sequence['frameInfo'] = []\n",
        "        for t in range(skeleton_sequence['numFrame']):\n",
        "            frame_info = {}\n",
        "            frame_info['numBody'] = int(f.readline())\n",
        "            frame_info['bodyInfo'] = []\n",
        "\n",
        "            for m in range(frame_info['numBody']):\n",
        "                body_info = {}\n",
        "                body_info_key = [\n",
        "                    'bodyID', 'clipedEdges', 'handLeftConfidence',\n",
        "                    'handLeftState', 'handRightConfidence', 'handRightState',\n",
        "                    'isResticted', 'leanX', 'leanY', 'trackingState'\n",
        "                ]\n",
        "                body_info = {\n",
        "                    k: float(v)\n",
        "                    for k, v in zip(body_info_key, f.readline().split())\n",
        "                }\n",
        "                body_info['numJoint'] = int(f.readline())\n",
        "                body_info['jointInfo'] = []\n",
        "                for v in range(body_info['numJoint']):\n",
        "                    joint_info_key = [\n",
        "                        'x', 'y', 'z', 'depthX', 'depthY', 'colorX', 'colorY',\n",
        "                        'orientationW', 'orientationX', 'orientationY',\n",
        "                        'orientationZ', 'trackingState'\n",
        "                    ]\n",
        "                    joint_info = {\n",
        "                        k: float(v)\n",
        "                        for k, v in zip(joint_info_key, f.readline().split())\n",
        "                    }\n",
        "                    body_info['jointInfo'].append(joint_info)\n",
        "                frame_info['bodyInfo'].append(body_info)\n",
        "            skeleton_sequence['frameInfo'].append(frame_info)\n",
        "\n",
        "    return skeleton_sequence\n",
        "\n",
        "def read_xyz(file, max_body=1, num_joint=25):\n",
        "    seq_info = read_skeleton_filter(file)\n",
        "    data = np.zeros((max_body, seq_info['numFrame'], num_joint, 3))\n",
        "    for n, f in enumerate(seq_info['frameInfo']):\n",
        "        for m, b in enumerate(f['bodyInfo']):\n",
        "            for j, v in enumerate(b['jointInfo']):\n",
        "                if m < max_body and j < num_joint:\n",
        "                    data[m, n, j, :] = [v['x'], v['y'], v['z']]\n",
        "\n",
        "                else:\n",
        "                    pass\n",
        "\n",
        "    return data"
      ],
      "execution_count": null,
      "outputs": []
    },
    {
      "cell_type": "markdown",
      "metadata": {
        "id": "Se6tqtghuM2O"
      },
      "source": [
        "В этой функции меняем количество фреймов подаваемых на вход модели\n",
        "В задании нужно пронаблюдать зависимость качества обучения модели от количества кадров, которые мы подаем в модель. Т.е. то, cколько кадров у нас отведено на один блок. В ноутбуке мы обучали модель на 45 кадрах. Вам предлагается посмотреть в меньшую или большую сторону.\n",
        "\n"
      ]
    },
    {
      "cell_type": "code",
      "metadata": {
        "id": "_KIm3Y8UuPDW"
      },
      "source": [
        "def create_coords_blocks(test_file, chonk_len = 40):   \n",
        "    frame_counter = 0\n",
        "    new_labels = []\n",
        "    new_frames = []\n",
        "    blocks = []\n",
        "    \n",
        "    test_frames = read_xyz(data_path + test_file[0])[0]\n",
        "    label = test_file[1]\n",
        "    slice_len = chonk_len * int(len(test_frames)/chonk_len)\n",
        "\n",
        "\n",
        "    for index in range(len(test_frames[:slice_len])):\n",
        "        frame_counter += 1\n",
        "        new_frames.append(test_frames[index].flatten())\n",
        "        if frame_counter == chonk_len:\n",
        "            frame_counter = 0\n",
        "            blocks.append(np.array(new_frames))\n",
        "            new_labels = new_labels + [label]\n",
        "            new_frames = []\n",
        "       \n",
        "            \n",
        "    return blocks, new_labels"
      ],
      "execution_count": null,
      "outputs": []
    },
    {
      "cell_type": "code",
      "metadata": {
        "colab": {
          "base_uri": "https://localhost:8080/"
        },
        "id": "Wtg4U-1SubU1",
        "outputId": "32c8d5f0-9ebf-467c-ff15-1fb2b91fdb56"
      },
      "source": [
        "##### список файлов с лейблами на каждый файл \n",
        "working_files_with_labels, action_classes = read_data(data_path, broken_files_path)"
      ],
      "execution_count": null,
      "outputs": [
        {
          "output_type": "stream",
          "text": [
            "action classes:  {5: 0, 44: 1, 14: 2, 40: 3, 34: 4, 50: 5, 24: 6, 10: 7}\n",
            "action files:  {5: 120, 44: 120, 14: 120, 40: 120, 34: 120, 50: 120, 24: 120, 10: 120}\n"
          ],
          "name": "stdout"
        }
      ]
    },
    {
      "cell_type": "code",
      "metadata": {
        "colab": {
          "base_uri": "https://localhost:8080/"
        },
        "id": "agveMr59wkWn",
        "outputId": "57fa9377-fdfd-408e-80f6-14971d68c38c"
      },
      "source": [
        "LABELS = {v: k for k, v in action_classes.items()}\n",
        "print(LABELS)"
      ],
      "execution_count": null,
      "outputs": [
        {
          "output_type": "stream",
          "text": [
            "{0: 5, 1: 44, 2: 14, 3: 40, 4: 34, 5: 50, 6: 24, 7: 10}\n"
          ],
          "name": "stdout"
        }
      ]
    },
    {
      "cell_type": "code",
      "metadata": {
        "colab": {
          "base_uri": "https://localhost:8080/"
        },
        "id": "lmNd6QT-wtDq",
        "outputId": "41d16e57-2ed1-4cf7-bf4d-c0671d5039aa"
      },
      "source": [
        "len(working_files_with_labels)"
      ],
      "execution_count": null,
      "outputs": [
        {
          "output_type": "execute_result",
          "data": {
            "text/plain": [
              "960"
            ]
          },
          "metadata": {
            "tags": []
          },
          "execution_count": 15
        }
      ]
    },
    {
      "cell_type": "code",
      "metadata": {
        "colab": {
          "base_uri": "https://localhost:8080/"
        },
        "id": "eMGq_J25zVJG",
        "outputId": "9c5080b4-42f2-4ac3-9727-f91a730caf66"
      },
      "source": [
        "print(working_files_with_labels)"
      ],
      "execution_count": null,
      "outputs": [
        {
          "output_type": "stream",
          "text": [
            "[['S010C001P013R002A005.skeleton', 0], ['S002C003P014R002A005.skeleton', 0], ['S002C003P014R001A044.skeleton', 1], ['S012C003P016R001A014.skeleton', 2], ['S005C003P010R002A040.skeleton', 3], ['S011C002P027R001A034.skeleton', 4], ['S011C001P017R002A050.skeleton', 5], ['S008C003P015R001A024.skeleton', 6], ['S004C003P003R002A040.skeleton', 3], ['S012C002P018R002A034.skeleton', 4], ['S013C003P016R001A050.skeleton', 5], ['S002C002P008R002A034.skeleton', 4], ['S007C002P028R001A010.skeleton', 7], ['S010C002P019R002A034.skeleton', 4], ['S008C001P033R001A034.skeleton', 4], ['S013C003P028R002A005.skeleton', 0], ['S008C003P015R002A024.skeleton', 6], ['S010C002P017R002A044.skeleton', 1], ['S016C001P039R002A040.skeleton', 3], ['S012C003P007R001A044.skeleton', 1], ['S010C001P008R001A040.skeleton', 3], ['S002C003P013R002A034.skeleton', 4], ['S011C002P018R002A014.skeleton', 2], ['S017C002P009R002A010.skeleton', 7], ['S016C001P025R001A005.skeleton', 0], ['S007C002P019R001A040.skeleton', 3], ['S011C003P038R002A014.skeleton', 2], ['S017C001P009R001A010.skeleton', 7], ['S011C002P015R001A005.skeleton', 0], ['S011C001P015R002A014.skeleton', 2], ['S016C002P039R002A044.skeleton', 1], ['S001C002P008R001A034.skeleton', 4], ['S010C003P017R002A044.skeleton', 1], ['S016C001P008R002A050.skeleton', 5], ['S003C001P008R002A040.skeleton', 3], ['S012C003P015R002A010.skeleton', 7], ['S013C001P027R001A005.skeleton', 0], ['S008C001P036R002A044.skeleton', 1], ['S011C002P002R002A014.skeleton', 2], ['S003C003P018R002A024.skeleton', 6], ['S012C003P027R002A005.skeleton', 0], ['S010C002P007R001A014.skeleton', 2], ['S007C001P019R001A014.skeleton', 2], ['S005C002P010R001A050.skeleton', 5], ['S007C001P007R002A014.skeleton', 2], ['S006C003P024R002A044.skeleton', 1], ['S014C003P008R002A005.skeleton', 0], ['S012C002P028R002A014.skeleton', 2], ['S010C003P021R002A044.skeleton', 1], ['S008C001P036R001A005.skeleton', 0], ['S007C003P026R001A014.skeleton', 2], ['S011C002P016R001A014.skeleton', 2], ['S008C002P008R002A040.skeleton', 3], ['S008C001P029R002A010.skeleton', 7], ['S015C002P025R002A005.skeleton', 0], ['S011C003P001R002A034.skeleton', 4], ['S005C001P004R001A050.skeleton', 5], ['S012C003P018R001A014.skeleton', 2], ['S012C002P008R001A044.skeleton', 1], ['S012C002P007R002A040.skeleton', 3], ['S006C003P016R001A034.skeleton', 4], ['S014C002P025R001A040.skeleton', 3], ['S007C003P015R002A040.skeleton', 3], ['S011C001P001R002A040.skeleton', 3], ['S007C002P008R002A010.skeleton', 7], ['S012C002P008R002A034.skeleton', 4], ['S012C002P037R002A040.skeleton', 3], ['S013C001P025R001A040.skeleton', 3], ['S002C002P003R001A005.skeleton', 0], ['S011C003P016R002A050.skeleton', 5], ['S002C003P009R001A034.skeleton', 4], ['S007C001P027R002A034.skeleton', 4], ['S010C003P017R001A034.skeleton', 4], ['S009C001P025R001A014.skeleton', 2], ['S016C003P025R001A010.skeleton', 7], ['S008C001P025R002A040.skeleton', 3], ['S008C003P007R002A014.skeleton', 2], ['S004C002P020R001A010.skeleton', 7], ['S014C002P039R001A010.skeleton', 7], ['S003C003P008R002A005.skeleton', 0], ['S002C001P014R001A010.skeleton', 7], ['S006C003P019R001A040.skeleton', 3], ['S012C001P008R001A040.skeleton', 3], ['S008C001P029R002A024.skeleton', 6], ['S010C001P015R002A040.skeleton', 3], ['S005C001P021R002A005.skeleton', 0], ['S013C001P019R002A044.skeleton', 1], ['S012C002P015R002A044.skeleton', 1], ['S016C002P007R001A014.skeleton', 2], ['S012C003P037R001A010.skeleton', 7], ['S012C001P025R002A050.skeleton', 5], ['S017C001P016R001A044.skeleton', 1], ['S003C001P019R001A050.skeleton', 5], ['S015C001P025R001A024.skeleton', 6], ['S011C001P016R001A044.skeleton', 1], ['S011C002P027R002A040.skeleton', 3], ['S017C003P016R001A024.skeleton', 6], ['S002C003P010R001A050.skeleton', 5], ['S013C002P007R002A040.skeleton', 3], ['S003C003P016R002A044.skeleton', 1], ['S014C002P025R001A024.skeleton', 6], ['S010C003P019R002A024.skeleton', 6], ['S003C001P019R002A014.skeleton', 2], ['S013C001P015R002A014.skeleton', 2], ['S010C002P021R002A050.skeleton', 5], ['S010C001P025R001A005.skeleton', 0], ['S009C001P015R002A044.skeleton', 1], ['S007C001P001R001A044.skeleton', 1], ['S002C001P008R002A034.skeleton', 4], ['S013C002P019R002A010.skeleton', 7], ['S006C003P008R002A044.skeleton', 1], ['S014C003P017R002A050.skeleton', 5], ['S004C003P008R002A050.skeleton', 5], ['S015C002P008R002A044.skeleton', 1], ['S005C001P017R002A005.skeleton', 0], ['S013C003P016R002A050.skeleton', 5], ['S007C003P016R002A050.skeleton', 5], ['S002C003P012R002A014.skeleton', 2], ['S010C002P025R001A005.skeleton', 0], ['S010C002P015R002A050.skeleton', 5], ['S007C002P008R002A014.skeleton', 2], ['S011C002P016R002A034.skeleton', 4], ['S003C001P016R001A034.skeleton', 4], ['S011C003P017R002A014.skeleton', 2], ['S012C003P016R002A005.skeleton', 0], ['S013C003P008R001A044.skeleton', 1], ['S006C003P017R002A044.skeleton', 1], ['S007C001P017R002A050.skeleton', 5], ['S007C002P027R002A010.skeleton', 7], ['S013C001P027R001A044.skeleton', 1], ['S011C003P017R002A040.skeleton', 3], ['S014C003P039R002A034.skeleton', 4], ['S008C003P030R002A014.skeleton', 2], ['S002C003P013R001A044.skeleton', 1], ['S006C001P007R002A014.skeleton', 2], ['S013C002P015R002A044.skeleton', 1], ['S011C002P017R002A034.skeleton', 4], ['S009C003P019R002A044.skeleton', 1], ['S008C001P030R001A014.skeleton', 2], ['S014C002P037R001A044.skeleton', 1], ['S013C003P007R001A034.skeleton', 4], ['S010C003P025R002A044.skeleton', 1], ['S011C001P016R002A040.skeleton', 3], ['S003C002P018R002A024.skeleton', 6], ['S013C002P016R002A024.skeleton', 6], ['S013C002P018R002A014.skeleton', 2], ['S001C001P005R001A005.skeleton', 0], ['S013C002P025R001A050.skeleton', 5], ['S013C002P008R001A010.skeleton', 7], ['S014C001P039R002A024.skeleton', 6], ['S002C001P012R001A040.skeleton', 3], ['S003C001P017R002A010.skeleton', 7], ['S008C003P015R001A010.skeleton', 7], ['S007C001P018R002A010.skeleton', 7], ['S016C003P021R001A010.skeleton', 7], ['S013C002P016R002A014.skeleton', 2], ['S002C001P003R002A034.skeleton', 4], ['S012C002P017R002A044.skeleton', 1], ['S015C003P019R001A050.skeleton', 5], ['S006C002P015R002A010.skeleton', 7], ['S001C002P006R001A034.skeleton', 4], ['S017C002P003R001A005.skeleton', 0], ['S006C002P019R002A010.skeleton', 7], ['S010C003P025R002A005.skeleton', 0], ['S007C001P008R002A014.skeleton', 2], ['S003C001P017R002A005.skeleton', 0], ['S017C003P016R002A050.skeleton', 5], ['S017C003P008R002A034.skeleton', 4], ['S002C001P009R002A014.skeleton', 2], ['S002C003P007R002A005.skeleton', 0], ['S005C003P021R002A005.skeleton', 0], ['S015C001P019R002A040.skeleton', 3], ['S005C003P018R002A024.skeleton', 6], ['S012C003P037R002A024.skeleton', 6], ['S002C003P014R002A044.skeleton', 1], ['S002C002P003R002A010.skeleton', 7], ['S006C003P024R001A005.skeleton', 0], ['S001C003P001R002A005.skeleton', 0], ['S005C001P017R002A014.skeleton', 2], ['S017C003P007R002A010.skeleton', 7], ['S009C002P015R001A040.skeleton', 3], ['S007C002P016R001A010.skeleton', 7], ['S008C002P035R001A014.skeleton', 2], ['S006C001P023R002A034.skeleton', 4], ['S008C002P008R002A024.skeleton', 6], ['S002C001P012R002A024.skeleton', 6], ['S005C001P015R002A024.skeleton', 6], ['S016C002P039R002A024.skeleton', 6], ['S013C002P008R001A014.skeleton', 2], ['S017C002P008R002A010.skeleton', 7], ['S007C003P019R001A024.skeleton', 6], ['S010C003P016R001A014.skeleton', 2], ['S001C002P002R001A010.skeleton', 7], ['S007C001P017R001A010.skeleton', 7], ['S007C003P017R002A024.skeleton', 6], ['S008C002P019R001A050.skeleton', 5], ['S014C002P025R002A050.skeleton', 5], ['S007C003P008R002A034.skeleton', 4], ['S013C001P037R002A050.skeleton', 5], ['S014C001P017R002A044.skeleton', 1], ['S002C002P007R001A024.skeleton', 6], ['S011C003P002R001A034.skeleton', 4], ['S002C001P008R002A024.skeleton', 6], ['S002C003P009R002A034.skeleton', 4], ['S017C003P015R001A010.skeleton', 7], ['S005C001P016R002A034.skeleton', 4], ['S001C003P002R001A010.skeleton', 7], ['S011C002P028R001A024.skeleton', 6], ['S010C002P008R002A034.skeleton', 4], ['S014C002P007R001A014.skeleton', 2], ['S001C002P004R002A034.skeleton', 4], ['S002C003P008R002A040.skeleton', 3], ['S005C001P021R001A024.skeleton', 6], ['S011C002P001R002A005.skeleton', 0], ['S012C003P016R001A050.skeleton', 5], ['S016C002P008R001A044.skeleton', 1], ['S005C003P015R001A014.skeleton', 2], ['S001C003P002R001A044.skeleton', 1], ['S005C003P017R002A014.skeleton', 2], ['S011C001P018R002A010.skeleton', 7], ['S010C001P025R001A014.skeleton', 2], ['S005C003P004R001A024.skeleton', 6], ['S017C003P009R001A044.skeleton', 1], ['S003C002P007R002A010.skeleton', 7], ['S016C001P008R001A044.skeleton', 1], ['S011C001P028R002A005.skeleton', 0], ['S005C003P013R002A014.skeleton', 2], ['S012C003P008R002A044.skeleton', 1], ['S004C001P020R002A010.skeleton', 7], ['S009C002P019R001A005.skeleton', 0], ['S013C002P007R002A024.skeleton', 6], ['S017C003P008R002A050.skeleton', 5], ['S009C001P016R001A024.skeleton', 6], ['S001C001P006R002A044.skeleton', 1], ['S002C003P010R002A044.skeleton', 1], ['S003C001P001R002A040.skeleton', 3], ['S012C002P028R002A010.skeleton', 7], ['S015C002P017R001A044.skeleton', 1], ['S014C003P025R002A040.skeleton', 3], ['S009C003P025R001A005.skeleton', 0], ['S015C002P017R001A034.skeleton', 4], ['S003C002P001R002A010.skeleton', 7], ['S014C003P008R001A010.skeleton', 7], ['S010C002P008R001A014.skeleton', 2], ['S011C001P027R001A024.skeleton', 6], ['S014C001P008R001A040.skeleton', 3], ['S007C003P008R002A044.skeleton', 1], ['S005C001P015R001A014.skeleton', 2], ['S016C002P007R001A010.skeleton', 7], ['S016C003P019R001A050.skeleton', 5], ['S001C002P002R002A014.skeleton', 2], ['S010C001P015R001A044.skeleton', 1], ['S015C003P017R002A050.skeleton', 5], ['S006C002P015R001A034.skeleton', 4], ['S011C001P007R002A010.skeleton', 7], ['S014C003P025R002A024.skeleton', 6], ['S012C003P016R002A014.skeleton', 2], ['S016C003P019R002A005.skeleton', 0], ['S014C001P025R001A014.skeleton', 2], ['S002C003P010R002A050.skeleton', 5], ['S002C003P013R001A024.skeleton', 6], ['S014C003P007R002A034.skeleton', 4], ['S017C003P020R001A005.skeleton', 0], ['S010C001P021R001A024.skeleton', 6], ['S008C002P035R001A034.skeleton', 4], ['S010C002P008R001A044.skeleton', 1], ['S010C002P016R002A034.skeleton', 4], ['S003C001P007R001A014.skeleton', 2], ['S006C003P015R001A050.skeleton', 5], ['S009C003P025R001A050.skeleton', 5], ['S007C003P027R001A044.skeleton', 1], ['S012C003P027R002A050.skeleton', 5], ['S007C003P008R001A005.skeleton', 0], ['S017C003P020R002A040.skeleton', 3], ['S012C001P008R002A005.skeleton', 0], ['S012C001P007R001A050.skeleton', 5], ['S014C003P007R001A040.skeleton', 3], ['S011C001P017R002A044.skeleton', 1], ['S005C003P018R002A010.skeleton', 7], ['S016C002P021R001A040.skeleton', 3], ['S005C001P021R002A050.skeleton', 5], ['S017C002P003R002A034.skeleton', 4], ['S009C001P017R001A040.skeleton', 3], ['S012C002P037R002A034.skeleton', 4], ['S011C002P015R002A024.skeleton', 6], ['S003C003P002R002A014.skeleton', 2], ['S011C003P018R002A044.skeleton', 1], ['S014C002P027R002A005.skeleton', 0], ['S003C001P018R001A024.skeleton', 6], ['S015C002P037R001A040.skeleton', 3], ['S006C001P023R001A010.skeleton', 7], ['S008C001P015R001A044.skeleton', 1], ['S004C003P003R001A040.skeleton', 3], ['S005C001P013R001A005.skeleton', 0], ['S002C002P011R002A040.skeleton', 3], ['S008C002P007R002A014.skeleton', 2], ['S003C002P016R001A040.skeleton', 3], ['S006C002P022R001A040.skeleton', 3], ['S012C002P015R002A014.skeleton', 2], ['S001C003P004R002A040.skeleton', 3], ['S005C002P016R001A050.skeleton', 5], ['S007C002P016R001A005.skeleton', 0], ['S017C002P003R001A044.skeleton', 1], ['S002C001P011R001A050.skeleton', 5], ['S007C002P028R002A044.skeleton', 1], ['S017C002P017R001A044.skeleton', 1], ['S002C003P009R001A040.skeleton', 3], ['S010C001P021R001A005.skeleton', 0], ['S008C003P015R001A050.skeleton', 5], ['S004C003P020R001A040.skeleton', 3], ['S007C002P028R001A040.skeleton', 3], ['S005C002P018R001A050.skeleton', 5], ['S004C001P003R002A040.skeleton', 3], ['S007C002P007R001A005.skeleton', 0], ['S016C003P040R001A040.skeleton', 3], ['S017C001P008R002A034.skeleton', 4], ['S003C003P019R001A034.skeleton', 4], ['S006C001P024R002A024.skeleton', 6], ['S016C001P019R002A034.skeleton', 4], ['S003C003P018R001A040.skeleton', 3], ['S004C002P007R002A034.skeleton', 4], ['S006C003P024R002A005.skeleton', 0], ['S017C002P007R002A010.skeleton', 7], ['S011C002P002R002A024.skeleton', 6], ['S008C002P033R002A044.skeleton', 1], ['S008C003P031R001A040.skeleton', 3], ['S008C001P007R002A044.skeleton', 1], ['S010C003P025R001A050.skeleton', 5], ['S010C002P015R002A034.skeleton', 4], ['S006C003P016R001A005.skeleton', 0], ['S002C002P007R001A050.skeleton', 5], ['S013C001P008R002A005.skeleton', 0], ['S006C003P008R002A034.skeleton', 4], ['S006C003P019R002A024.skeleton', 6], ['S003C003P018R002A040.skeleton', 3], ['S009C003P025R001A014.skeleton', 2], ['S011C003P017R002A044.skeleton', 1], ['S005C002P018R002A044.skeleton', 1], ['S013C002P025R002A034.skeleton', 4], ['S010C001P016R002A044.skeleton', 1], ['S002C002P012R001A050.skeleton', 5], ['S007C003P015R001A005.skeleton', 0], ['S011C003P038R002A024.skeleton', 6], ['S009C002P007R002A050.skeleton', 5], ['S012C001P018R001A005.skeleton', 0], ['S006C002P001R001A034.skeleton', 4], ['S014C002P008R001A040.skeleton', 3], ['S007C003P017R002A014.skeleton', 2], ['S006C001P019R001A005.skeleton', 0], ['S011C003P002R002A044.skeleton', 1], ['S002C003P010R002A024.skeleton', 6], ['S006C002P008R002A040.skeleton', 3], ['S008C003P036R001A005.skeleton', 0], ['S015C001P017R001A010.skeleton', 7], ['S006C003P015R002A034.skeleton', 4], ['S007C002P007R001A014.skeleton', 2], ['S012C001P027R002A034.skeleton', 4], ['S003C003P002R001A050.skeleton', 5], ['S002C002P013R002A014.skeleton', 2], ['S001C003P007R001A014.skeleton', 2], ['S001C003P003R001A044.skeleton', 1], ['S016C002P008R001A005.skeleton', 0], ['S010C001P025R001A010.skeleton', 7], ['S013C003P016R002A040.skeleton', 3], ['S014C002P025R002A034.skeleton', 4], ['S005C003P016R002A040.skeleton', 3], ['S016C001P021R002A014.skeleton', 2], ['S008C001P007R002A034.skeleton', 4], ['S002C003P011R001A010.skeleton', 7], ['S012C002P018R001A010.skeleton', 7], ['S017C001P003R002A010.skeleton', 7], ['S007C003P017R002A010.skeleton', 7], ['S014C001P017R002A050.skeleton', 5], ['S017C001P003R001A050.skeleton', 5], ['S007C003P025R002A024.skeleton', 6], ['S013C001P016R001A010.skeleton', 7], ['S010C002P016R001A034.skeleton', 4], ['S007C001P015R001A040.skeleton', 3], ['S007C003P028R002A014.skeleton', 2], ['S006C002P001R002A050.skeleton', 5], ['S007C003P001R001A050.skeleton', 5], ['S017C002P008R002A014.skeleton', 2], ['S006C001P016R001A005.skeleton', 0], ['S007C001P016R002A044.skeleton', 1], ['S015C001P007R001A034.skeleton', 4], ['S011C002P038R002A040.skeleton', 3], ['S015C003P008R002A034.skeleton', 4], ['S014C001P037R001A010.skeleton', 7], ['S012C001P037R001A005.skeleton', 0], ['S011C003P028R002A040.skeleton', 3], ['S015C003P019R002A050.skeleton', 5], ['S002C001P010R001A040.skeleton', 3], ['S014C003P027R001A005.skeleton', 0], ['S008C002P029R002A050.skeleton', 5], ['S002C002P007R001A040.skeleton', 3], ['S011C001P008R002A040.skeleton', 3], ['S016C001P040R002A040.skeleton', 3], ['S006C001P015R001A005.skeleton', 0], ['S007C001P028R001A014.skeleton', 2], ['S007C002P007R002A024.skeleton', 6], ['S017C003P009R002A044.skeleton', 1], ['S010C003P008R001A010.skeleton', 7], ['S007C003P007R002A034.skeleton', 4], ['S002C001P011R002A010.skeleton', 7], ['S017C003P020R001A040.skeleton', 3], ['S013C002P027R001A034.skeleton', 4], ['S006C003P022R002A010.skeleton', 7], ['S002C001P014R002A050.skeleton', 5], ['S010C003P017R002A010.skeleton', 7], ['S016C001P039R001A050.skeleton', 5], ['S002C002P007R001A014.skeleton', 2], ['S017C003P007R002A044.skeleton', 1], ['S001C001P001R001A040.skeleton', 3], ['S003C002P007R002A005.skeleton', 0], ['S006C002P007R001A024.skeleton', 6], ['S001C002P008R002A050.skeleton', 5], ['S005C001P016R002A005.skeleton', 0], ['S017C002P007R002A024.skeleton', 6], ['S011C001P008R001A024.skeleton', 6], ['S006C001P023R002A050.skeleton', 5], ['S017C001P008R001A005.skeleton', 0], ['S004C001P007R002A005.skeleton', 0], ['S009C001P017R002A034.skeleton', 4], ['S010C002P007R001A005.skeleton', 0], ['S001C003P006R001A040.skeleton', 3], ['S005C003P017R001A005.skeleton', 0], ['S011C002P002R001A014.skeleton', 2], ['S012C002P007R001A040.skeleton', 3], ['S006C003P023R001A014.skeleton', 2], ['S001C002P003R002A010.skeleton', 7], ['S013C003P007R001A005.skeleton', 0], ['S014C003P027R001A034.skeleton', 4], ['S001C002P007R002A024.skeleton', 6], ['S002C002P011R001A044.skeleton', 1], ['S003C001P019R001A040.skeleton', 3], ['S011C002P025R001A044.skeleton', 1], ['S007C002P027R001A005.skeleton', 0], ['S005C003P015R001A005.skeleton', 0], ['S016C001P025R001A014.skeleton', 2], ['S009C003P017R002A044.skeleton', 1], ['S010C001P008R001A014.skeleton', 2], ['S009C003P015R001A034.skeleton', 4], ['S007C001P025R002A050.skeleton', 5], ['S014C003P027R002A040.skeleton', 3], ['S004C001P003R001A014.skeleton', 2], ['S015C001P015R002A044.skeleton', 1], ['S008C002P031R002A005.skeleton', 0], ['S008C003P032R002A010.skeleton', 7], ['S015C003P037R002A044.skeleton', 1], ['S014C002P039R002A040.skeleton', 3], ['S008C003P034R001A010.skeleton', 7], ['S015C003P025R002A044.skeleton', 1], ['S014C002P015R002A010.skeleton', 7], ['S005C001P017R002A050.skeleton', 5], ['S015C001P015R002A014.skeleton', 2], ['S003C003P019R002A044.skeleton', 1], ['S010C002P017R002A024.skeleton', 6], ['S013C003P016R001A014.skeleton', 2], ['S017C002P003R001A024.skeleton', 6], ['S002C003P012R001A034.skeleton', 4], ['S017C003P008R001A005.skeleton', 0], ['S002C003P011R002A024.skeleton', 6], ['S016C002P021R002A014.skeleton', 2], ['S001C001P001R001A005.skeleton', 0], ['S011C001P025R001A040.skeleton', 3], ['S009C002P008R001A010.skeleton', 7], ['S008C001P036R001A044.skeleton', 1], ['S003C001P015R002A034.skeleton', 4], ['S001C001P004R001A014.skeleton', 2], ['S009C003P019R001A050.skeleton', 5], ['S006C003P023R001A010.skeleton', 7], ['S007C001P025R001A005.skeleton', 0], ['S006C003P007R001A050.skeleton', 5], ['S010C003P017R001A010.skeleton', 7], ['S013C001P037R002A040.skeleton', 3], ['S010C001P017R002A040.skeleton', 3], ['S008C001P034R002A044.skeleton', 1], ['S017C002P017R001A014.skeleton', 2], ['S011C003P028R001A010.skeleton', 7], ['S016C001P007R002A034.skeleton', 4], ['S016C003P040R002A024.skeleton', 6], ['S016C003P040R001A034.skeleton', 4], ['S009C002P017R001A034.skeleton', 4], ['S007C001P018R001A010.skeleton', 7], ['S007C003P018R002A010.skeleton', 7], ['S002C001P003R001A044.skeleton', 1], ['S002C001P010R001A044.skeleton', 1], ['S007C001P028R001A044.skeleton', 1], ['S015C002P008R001A010.skeleton', 7], ['S012C003P007R001A024.skeleton', 6], ['S016C002P019R002A034.skeleton', 4], ['S015C001P008R002A010.skeleton', 7], ['S008C002P031R001A044.skeleton', 1], ['S015C003P037R001A005.skeleton', 0], ['S015C001P019R001A010.skeleton', 7], ['S008C002P030R002A050.skeleton', 5], ['S017C003P015R001A005.skeleton', 0], ['S013C001P019R001A034.skeleton', 4], ['S013C001P019R002A005.skeleton', 0], ['S014C002P039R001A044.skeleton', 1], ['S001C002P003R001A005.skeleton', 0], ['S002C003P009R002A005.skeleton', 0], ['S001C003P003R002A014.skeleton', 2], ['S006C001P017R001A024.skeleton', 6], ['S005C003P016R002A044.skeleton', 1], ['S013C003P027R001A050.skeleton', 5], ['S005C001P018R001A044.skeleton', 1], ['S003C001P016R001A050.skeleton', 5], ['S013C003P008R002A005.skeleton', 0], ['S002C002P007R002A044.skeleton', 1], ['S007C002P017R002A050.skeleton', 5], ['S006C001P016R001A010.skeleton', 7], ['S017C003P015R001A050.skeleton', 5], ['S009C001P007R001A040.skeleton', 3], ['S004C002P008R002A040.skeleton', 3], ['S017C001P003R001A005.skeleton', 0], ['S003C001P007R001A010.skeleton', 7], ['S003C001P015R001A014.skeleton', 2], ['S003C003P008R002A014.skeleton', 2], ['S013C003P008R002A040.skeleton', 3], ['S002C002P011R001A010.skeleton', 7], ['S016C003P039R001A005.skeleton', 0], ['S015C003P007R001A005.skeleton', 0], ['S011C003P015R001A010.skeleton', 7], ['S017C002P009R001A044.skeleton', 1], ['S001C003P008R002A005.skeleton', 0], ['S011C002P019R002A040.skeleton', 3], ['S008C001P007R001A010.skeleton', 7], ['S009C002P017R002A040.skeleton', 3], ['S016C003P007R002A010.skeleton', 7], ['S011C002P008R002A024.skeleton', 6], ['S007C002P028R002A005.skeleton', 0], ['S003C003P002R001A005.skeleton', 0], ['S006C001P023R001A024.skeleton', 6], ['S014C002P027R002A034.skeleton', 4], ['S011C003P025R002A040.skeleton', 3], ['S011C002P008R001A014.skeleton', 2], ['S008C001P001R001A040.skeleton', 3], ['S013C002P018R002A050.skeleton', 5], ['S012C003P037R002A034.skeleton', 4], ['S012C003P018R002A040.skeleton', 3], ['S016C003P007R002A050.skeleton', 5], ['S007C002P027R002A044.skeleton', 1], ['S013C002P015R002A010.skeleton', 7], ['S007C003P007R002A050.skeleton', 5], ['S007C002P017R001A034.skeleton', 4], ['S011C003P016R001A014.skeleton', 2], ['S009C002P008R002A040.skeleton', 3], ['S017C002P008R002A005.skeleton', 0], ['S006C003P001R001A010.skeleton', 7], ['S010C002P018R002A005.skeleton', 0], ['S012C003P019R001A024.skeleton', 6], ['S013C002P027R002A040.skeleton', 3], ['S001C002P003R001A040.skeleton', 3], ['S007C003P028R002A034.skeleton', 4], ['S008C001P030R001A005.skeleton', 0], ['S009C003P008R002A024.skeleton', 6], ['S016C002P025R001A044.skeleton', 1], ['S009C002P016R001A050.skeleton', 5], ['S008C002P001R002A050.skeleton', 5], ['S011C001P028R001A044.skeleton', 1], ['S012C003P025R002A034.skeleton', 4], ['S004C003P003R001A050.skeleton', 5], ['S004C003P003R001A024.skeleton', 6], ['S002C001P009R002A040.skeleton', 3], ['S012C003P015R002A024.skeleton', 6], ['S016C001P007R001A005.skeleton', 0], ['S017C001P009R002A044.skeleton', 1], ['S001C002P005R002A010.skeleton', 7], ['S005C002P015R002A044.skeleton', 1], ['S017C001P020R001A050.skeleton', 5], ['S009C003P015R001A044.skeleton', 1], ['S013C003P015R001A014.skeleton', 2], ['S011C001P027R002A044.skeleton', 1], ['S007C003P017R002A044.skeleton', 1], ['S005C003P018R001A044.skeleton', 1], ['S005C001P016R001A044.skeleton', 1], ['S012C002P027R002A014.skeleton', 2], ['S010C002P008R002A005.skeleton', 0], ['S001C002P003R001A010.skeleton', 7], ['S016C003P039R001A044.skeleton', 1], ['S012C002P007R002A050.skeleton', 5], ['S013C002P019R002A024.skeleton', 6], ['S015C003P019R001A044.skeleton', 1], ['S013C003P028R002A044.skeleton', 1], ['S009C003P025R001A024.skeleton', 6], ['S007C002P018R002A044.skeleton', 1], ['S003C002P002R002A040.skeleton', 3], ['S017C002P020R001A014.skeleton', 2], ['S005C001P016R001A034.skeleton', 4], ['S008C001P008R001A010.skeleton', 7], ['S005C001P018R001A034.skeleton', 4], ['S017C001P017R001A024.skeleton', 6], ['S017C001P015R001A044.skeleton', 1], ['S001C003P003R001A014.skeleton', 2], ['S011C002P027R001A044.skeleton', 1], ['S012C003P027R001A050.skeleton', 5], ['S007C003P025R001A050.skeleton', 5], ['S003C002P015R001A014.skeleton', 2], ['S006C003P022R002A024.skeleton', 6], ['S008C001P035R002A024.skeleton', 6], ['S007C001P018R002A014.skeleton', 2], ['S008C002P019R002A044.skeleton', 1], ['S014C003P007R001A014.skeleton', 2], ['S010C001P016R002A040.skeleton', 3], ['S016C003P008R002A014.skeleton', 2], ['S017C002P009R001A050.skeleton', 5], ['S012C003P007R001A040.skeleton', 3], ['S009C001P017R002A044.skeleton', 1], ['S012C001P018R001A024.skeleton', 6], ['S008C001P033R002A014.skeleton', 2], ['S007C001P016R002A034.skeleton', 4], ['S012C002P008R001A050.skeleton', 5], ['S016C003P021R001A005.skeleton', 0], ['S006C001P015R001A034.skeleton', 4], ['S005C003P016R001A044.skeleton', 1], ['S015C001P019R001A024.skeleton', 6], ['S011C003P027R002A040.skeleton', 3], ['S016C003P007R002A034.skeleton', 4], ['S013C002P019R002A040.skeleton', 3], ['S010C002P017R001A005.skeleton', 0], ['S007C003P001R002A010.skeleton', 7], ['S003C001P018R002A014.skeleton', 2], ['S001C001P006R001A024.skeleton', 6], ['S008C003P032R001A050.skeleton', 5], ['S008C001P015R001A005.skeleton', 0], ['S008C001P031R001A024.skeleton', 6], ['S013C003P008R001A014.skeleton', 2], ['S002C003P014R002A010.skeleton', 7], ['S010C003P019R002A010.skeleton', 7], ['S002C002P012R002A005.skeleton', 0], ['S016C003P039R002A034.skeleton', 4], ['S015C002P008R001A005.skeleton', 0], ['S008C003P001R002A040.skeleton', 3], ['S012C003P008R001A024.skeleton', 6], ['S013C003P017R002A034.skeleton', 4], ['S009C002P016R002A024.skeleton', 6], ['S013C003P016R002A014.skeleton', 2], ['S016C001P040R002A005.skeleton', 0], ['S008C002P031R002A010.skeleton', 7], ['S011C003P002R002A040.skeleton', 3], ['S013C002P017R002A010.skeleton', 7], ['S002C003P010R002A034.skeleton', 4], ['S016C003P007R001A005.skeleton', 0], ['S013C003P028R002A050.skeleton', 5], ['S005C001P013R002A005.skeleton', 0], ['S017C001P015R001A010.skeleton', 7], ['S007C003P007R001A010.skeleton', 7], ['S001C001P001R001A014.skeleton', 2], ['S002C003P011R002A040.skeleton', 3], ['S010C003P013R002A034.skeleton', 4], ['S009C003P008R001A024.skeleton', 6], ['S010C001P015R002A044.skeleton', 1], ['S010C003P016R002A034.skeleton', 4], ['S009C001P025R001A044.skeleton', 1], ['S014C002P015R001A024.skeleton', 6], ['S003C001P002R002A040.skeleton', 3], ['S013C001P016R001A040.skeleton', 3], ['S008C003P031R001A044.skeleton', 1], ['S011C003P008R002A040.skeleton', 3], ['S012C002P028R001A024.skeleton', 6], ['S002C002P014R002A024.skeleton', 6], ['S012C002P027R002A040.skeleton', 3], ['S010C002P018R002A024.skeleton', 6], ['S008C003P031R002A010.skeleton', 7], ['S015C002P008R001A034.skeleton', 4], ['S011C002P015R001A044.skeleton', 1], ['S002C001P008R002A040.skeleton', 3], ['S006C003P023R002A005.skeleton', 0], ['S011C002P019R001A040.skeleton', 3], ['S001C003P005R002A024.skeleton', 6], ['S010C003P007R002A040.skeleton', 3], ['S013C002P018R001A034.skeleton', 4], ['S002C003P008R002A044.skeleton', 1], ['S013C001P008R002A024.skeleton', 6], ['S015C001P019R001A044.skeleton', 1], ['S003C003P008R002A024.skeleton', 6], ['S011C001P007R001A040.skeleton', 3], ['S016C001P039R001A044.skeleton', 1], ['S001C003P001R002A034.skeleton', 4], ['S006C003P022R001A040.skeleton', 3], ['S009C001P015R001A010.skeleton', 7], ['S008C002P029R001A040.skeleton', 3], ['S005C003P013R002A044.skeleton', 1], ['S010C001P018R002A044.skeleton', 1], ['S009C003P015R002A005.skeleton', 0], ['S003C001P017R002A024.skeleton', 6], ['S004C003P020R001A010.skeleton', 7], ['S003C002P018R002A014.skeleton', 2], ['S015C003P008R001A034.skeleton', 4], ['S017C002P008R001A050.skeleton', 5], ['S003C002P019R002A050.skeleton', 5], ['S008C001P019R001A024.skeleton', 6], ['S010C001P013R001A024.skeleton', 6], ['S006C003P001R001A040.skeleton', 3], ['S005C003P010R002A010.skeleton', 7], ['S008C002P015R002A040.skeleton', 3], ['S007C003P028R001A034.skeleton', 4], ['S016C001P039R002A034.skeleton', 4], ['S010C002P007R002A005.skeleton', 0], ['S017C001P003R001A010.skeleton', 7], ['S002C003P012R001A024.skeleton', 6], ['S006C002P015R002A050.skeleton', 5], ['S011C002P038R001A005.skeleton', 0], ['S010C001P015R002A005.skeleton', 0], ['S011C003P025R001A014.skeleton', 2], ['S008C003P001R002A010.skeleton', 7], ['S012C003P008R001A014.skeleton', 2], ['S008C003P025R002A024.skeleton', 6], ['S017C001P009R001A034.skeleton', 4], ['S008C001P032R002A014.skeleton', 2], ['S017C002P003R002A024.skeleton', 6], ['S012C003P027R001A014.skeleton', 2], ['S004C002P003R002A034.skeleton', 4], ['S006C001P015R001A050.skeleton', 5], ['S014C002P027R001A050.skeleton', 5], ['S003C002P019R002A010.skeleton', 7], ['S012C001P008R002A044.skeleton', 1], ['S010C001P018R001A040.skeleton', 3], ['S004C002P008R002A034.skeleton', 4], ['S001C001P003R002A040.skeleton', 3], ['S012C002P007R002A024.skeleton', 6], ['S008C003P035R001A010.skeleton', 7], ['S010C001P016R002A050.skeleton', 5], ['S007C002P025R001A024.skeleton', 6], ['S006C001P015R001A024.skeleton', 6], ['S005C003P018R001A010.skeleton', 7], ['S011C002P008R001A034.skeleton', 4], ['S017C001P009R001A005.skeleton', 0], ['S015C001P008R001A010.skeleton', 7], ['S007C002P017R001A024.skeleton', 6], ['S010C002P019R002A050.skeleton', 5], ['S006C001P023R001A034.skeleton', 4], ['S012C002P028R001A010.skeleton', 7], ['S008C003P019R002A010.skeleton', 7], ['S017C001P003R002A034.skeleton', 4], ['S016C002P008R001A014.skeleton', 2], ['S017C003P017R001A014.skeleton', 2], ['S002C003P009R001A044.skeleton', 1], ['S003C003P017R001A040.skeleton', 3], ['S013C001P037R001A005.skeleton', 0], ['S015C003P008R002A050.skeleton', 5], ['S007C003P007R002A014.skeleton', 2], ['S004C002P020R002A005.skeleton', 0], ['S005C001P018R001A040.skeleton', 3], ['S011C003P016R001A040.skeleton', 3], ['S001C002P005R002A040.skeleton', 3], ['S012C001P018R002A010.skeleton', 7], ['S014C002P017R002A050.skeleton', 5], ['S010C001P018R002A040.skeleton', 3], ['S010C001P025R002A040.skeleton', 3], ['S013C001P016R002A010.skeleton', 7], ['S008C002P008R001A040.skeleton', 3], ['S010C003P016R001A005.skeleton', 0], ['S001C001P004R002A010.skeleton', 7], ['S001C001P003R002A014.skeleton', 2], ['S007C002P019R001A024.skeleton', 6], ['S014C002P037R002A040.skeleton', 3], ['S008C003P019R002A014.skeleton', 2], ['S003C003P018R002A010.skeleton', 7], ['S003C003P007R001A034.skeleton', 4], ['S009C003P019R001A024.skeleton', 6], ['S005C001P013R001A040.skeleton', 3], ['S009C001P025R001A010.skeleton', 7], ['S007C001P001R002A050.skeleton', 5], ['S006C002P023R002A014.skeleton', 2], ['S002C002P014R001A010.skeleton', 7], ['S013C002P027R001A005.skeleton', 0], ['S014C001P025R001A044.skeleton', 1], ['S010C003P025R001A044.skeleton', 1], ['S007C002P027R002A040.skeleton', 3], ['S017C002P017R002A024.skeleton', 6], ['S012C002P018R002A014.skeleton', 2], ['S014C001P037R002A005.skeleton', 0], ['S010C003P018R002A005.skeleton', 0], ['S013C002P028R001A040.skeleton', 3], ['S011C001P027R002A034.skeleton', 4], ['S010C001P013R001A005.skeleton', 0], ['S007C003P017R002A034.skeleton', 4], ['S012C001P027R002A014.skeleton', 2], ['S006C001P017R001A014.skeleton', 2], ['S015C003P015R001A040.skeleton', 3], ['S006C001P019R001A040.skeleton', 3], ['S003C003P015R001A014.skeleton', 2], ['S008C001P001R002A010.skeleton', 7], ['S011C002P025R001A010.skeleton', 7], ['S007C003P008R001A014.skeleton', 2], ['S009C003P016R002A005.skeleton', 0], ['S005C003P015R002A024.skeleton', 6], ['S014C002P017R001A024.skeleton', 6], ['S010C001P013R001A034.skeleton', 4], ['S014C001P039R002A050.skeleton', 5], ['S014C003P019R001A050.skeleton', 5], ['S007C002P017R002A040.skeleton', 3], ['S013C003P028R002A034.skeleton', 4], ['S003C001P017R002A014.skeleton', 2], ['S009C001P015R001A040.skeleton', 3], ['S017C003P008R002A040.skeleton', 3], ['S002C002P012R002A044.skeleton', 1], ['S008C001P029R002A034.skeleton', 4], ['S013C002P025R001A005.skeleton', 0], ['S006C002P001R002A010.skeleton', 7], ['S005C001P010R001A010.skeleton', 7], ['S012C002P017R001A010.skeleton', 7], ['S013C003P037R002A044.skeleton', 1], ['S003C002P017R001A034.skeleton', 4], ['S008C003P025R001A024.skeleton', 6], ['S002C003P007R001A014.skeleton', 2], ['S011C002P025R002A034.skeleton', 4], ['S007C003P019R002A024.skeleton', 6], ['S017C001P015R001A024.skeleton', 6], ['S012C003P008R002A005.skeleton', 0], ['S015C003P025R001A005.skeleton', 0], ['S004C002P020R002A034.skeleton', 4], ['S013C001P027R001A024.skeleton', 6], ['S013C001P008R001A005.skeleton', 0], ['S003C002P002R002A024.skeleton', 6], ['S012C002P037R001A044.skeleton', 1], ['S006C002P015R001A010.skeleton', 7], ['S010C001P016R002A010.skeleton', 7], ['S016C003P007R001A014.skeleton', 2], ['S001C003P006R002A034.skeleton', 4], ['S015C002P008R002A040.skeleton', 3], ['S010C001P017R002A005.skeleton', 0], ['S011C003P001R001A040.skeleton', 3], ['S012C001P017R002A024.skeleton', 6], ['S001C003P004R001A040.skeleton', 3], ['S009C002P019R001A024.skeleton', 6], ['S003C002P007R001A034.skeleton', 4], ['S007C001P001R001A034.skeleton', 4], ['S013C001P016R002A050.skeleton', 5], ['S011C002P015R002A014.skeleton', 2], ['S014C002P007R002A044.skeleton', 1], ['S012C002P007R001A010.skeleton', 7], ['S002C002P013R001A005.skeleton', 0], ['S016C003P025R001A050.skeleton', 5], ['S012C001P015R001A005.skeleton', 0], ['S010C003P019R001A034.skeleton', 4], ['S015C001P037R001A005.skeleton', 0], ['S012C001P017R001A044.skeleton', 1], ['S013C003P028R001A034.skeleton', 4], ['S008C002P025R002A014.skeleton', 2], ['S005C003P018R002A034.skeleton', 4], ['S008C001P033R002A044.skeleton', 1], ['S003C003P001R001A034.skeleton', 4], ['S009C003P017R001A010.skeleton', 7], ['S003C003P007R002A010.skeleton', 7], ['S009C002P025R002A024.skeleton', 6], ['S017C001P020R001A024.skeleton', 6], ['S004C003P003R001A010.skeleton', 7], ['S002C003P011R002A034.skeleton', 4], ['S010C001P015R002A024.skeleton', 6], ['S016C002P008R002A034.skeleton', 4], ['S017C001P015R002A034.skeleton', 4], ['S002C002P009R002A024.skeleton', 6], ['S013C003P027R001A005.skeleton', 0], ['S014C002P019R001A034.skeleton', 4], ['S015C003P015R002A050.skeleton', 5], ['S002C002P013R001A050.skeleton', 5], ['S013C003P008R001A005.skeleton', 0], ['S014C001P019R001A014.skeleton', 2], ['S007C002P017R002A010.skeleton', 7], ['S006C003P019R001A024.skeleton', 6], ['S013C002P025R002A044.skeleton', 1], ['S016C003P025R002A034.skeleton', 4], ['S013C001P018R002A050.skeleton', 5], ['S003C002P007R001A010.skeleton', 7], ['S005C003P004R001A014.skeleton', 2], ['S016C002P039R001A050.skeleton', 5], ['S007C003P016R001A014.skeleton', 2], ['S004C003P007R001A010.skeleton', 7], ['S014C002P039R001A050.skeleton', 5], ['S008C003P025R002A044.skeleton', 1], ['S011C001P018R001A044.skeleton', 1], ['S012C003P037R001A034.skeleton', 4], ['S008C003P029R002A050.skeleton', 5], ['S012C001P037R002A005.skeleton', 0], ['S015C002P015R001A050.skeleton', 5], ['S007C001P019R001A034.skeleton', 4], ['S013C003P017R001A050.skeleton', 5], ['S014C001P027R002A024.skeleton', 6], ['S001C001P005R001A014.skeleton', 2], ['S016C001P008R001A010.skeleton', 7], ['S012C003P037R002A014.skeleton', 2], ['S015C001P017R002A044.skeleton', 1], ['S007C002P008R002A044.skeleton', 1], ['S011C001P038R001A050.skeleton', 5], ['S014C001P037R001A044.skeleton', 1], ['S001C001P003R002A005.skeleton', 0], ['S004C003P020R002A034.skeleton', 4], ['S015C001P017R001A050.skeleton', 5], ['S003C001P002R001A034.skeleton', 4], ['S006C001P022R002A024.skeleton', 6], ['S011C002P001R001A034.skeleton', 4], ['S017C002P017R002A005.skeleton', 0], ['S013C003P018R002A014.skeleton', 2], ['S011C002P015R002A010.skeleton', 7], ['S011C002P016R002A010.skeleton', 7], ['S007C002P017R001A005.skeleton', 0], ['S011C001P018R001A010.skeleton', 7], ['S003C001P002R001A024.skeleton', 6], ['S012C003P007R002A050.skeleton', 5], ['S005C003P015R001A050.skeleton', 5], ['S010C002P018R002A010.skeleton', 7], ['S012C001P028R001A005.skeleton', 0], ['S017C002P008R001A010.skeleton', 7], ['S007C002P019R001A044.skeleton', 1], ['S008C001P032R001A034.skeleton', 4], ['S009C002P019R001A050.skeleton', 5], ['S003C003P008R001A005.skeleton', 0], ['S013C001P028R001A014.skeleton', 2], ['S011C003P019R002A024.skeleton', 6], ['S013C001P037R002A034.skeleton', 4], ['S003C001P015R002A050.skeleton', 5], ['S008C002P034R001A050.skeleton', 5], ['S009C001P025R002A014.skeleton', 2], ['S002C003P014R001A014.skeleton', 2], ['S007C001P016R002A014.skeleton', 2], ['S016C002P025R001A050.skeleton', 5], ['S011C002P025R001A014.skeleton', 2], ['S009C002P008R002A005.skeleton', 0], ['S004C003P020R001A050.skeleton', 5], ['S012C001P025R001A014.skeleton', 2], ['S016C003P007R002A024.skeleton', 6], ['S014C001P019R002A014.skeleton', 2], ['S006C001P015R001A014.skeleton', 2], ['S006C001P019R001A050.skeleton', 5], ['S003C002P019R002A005.skeleton', 0], ['S007C001P019R002A014.skeleton', 2], ['S001C001P005R002A014.skeleton', 2], ['S011C002P015R002A034.skeleton', 4], ['S011C003P007R001A024.skeleton', 6], ['S013C001P016R002A034.skeleton', 4], ['S006C002P016R002A024.skeleton', 6], ['S002C003P007R001A024.skeleton', 6], ['S016C003P008R002A024.skeleton', 6], ['S003C003P016R002A050.skeleton', 5], ['S008C001P007R002A024.skeleton', 6], ['S014C001P007R001A024.skeleton', 6], ['S012C002P015R002A050.skeleton', 5], ['S017C003P003R002A050.skeleton', 5], ['S005C001P017R002A024.skeleton', 6], ['S012C003P037R001A050.skeleton', 5], ['S001C002P003R002A050.skeleton', 5], ['S006C003P019R002A050.skeleton', 5], ['S001C003P004R002A024.skeleton', 6], ['S009C002P017R001A050.skeleton', 5], ['S011C003P025R001A050.skeleton', 5], ['S007C002P015R002A024.skeleton', 6], ['S011C002P008R001A050.skeleton', 5], ['S005C001P018R001A050.skeleton', 5], ['S002C001P003R001A050.skeleton', 5], ['S001C001P008R001A024.skeleton', 6], ['S001C002P008R001A050.skeleton', 5], ['S006C002P008R001A050.skeleton', 5], ['S003C001P015R001A050.skeleton', 5], ['S007C002P028R002A024.skeleton', 6], ['S005C001P016R002A024.skeleton', 6], ['S007C003P026R001A024.skeleton', 6], ['S014C001P017R001A024.skeleton', 6]]\n"
          ],
          "name": "stdout"
        }
      ]
    },
    {
      "cell_type": "code",
      "metadata": {
        "id": "BKx93rf2wtgk"
      },
      "source": [
        "data = []\n",
        "labels = []\n",
        "##########################################################################\n",
        "numbers = {x: 0 for x in range(len(action_classes))} #####\n",
        "##################################################################\n",
        "for file in working_files_with_labels:\n",
        "    frames_blocks, label = create_coords_blocks(file)\n",
        "    if label != [] and numbers[label[0]] <= 150:\n",
        "        numbers[label[0]] = numbers[label[0]] + len(label)\n",
        "        data = data + frames_blocks\n",
        "        labels = labels + label\n",
        "data_np = np.asarray(data)\n",
        "labels_np = np.asarray(labels)\n",
        "\n",
        "data_sq = data_np.reshape(len(data_np), -1)\n",
        "test_data = pd.DataFrame(data_sq)\n",
        "test_labels = pd.DataFrame(labels_np)\n",
        "test_data['labels'] = test_labels"
      ],
      "execution_count": null,
      "outputs": []
    },
    {
      "cell_type": "markdown",
      "metadata": {
        "id": "DDXWvzR7w0aa"
      },
      "source": [
        "Итоговый файл для загрузки"
      ]
    },
    {
      "cell_type": "code",
      "metadata": {
        "id": "aKzvR3vzwvyv",
        "colab": {
          "base_uri": "https://localhost:8080/",
          "height": 171
        },
        "outputId": "d9e025f4-2810-47c4-b8ca-64134131f0a6"
      },
      "source": [
        "test_data.to_csv(\"skeletons_classes_40.csv\", index = False)"
      ],
      "execution_count": 5,
      "outputs": [
        {
          "output_type": "error",
          "ename": "NameError",
          "evalue": "ignored",
          "traceback": [
            "\u001b[0;31m---------------------------------------------------------------------------\u001b[0m",
            "\u001b[0;31mNameError\u001b[0m                                 Traceback (most recent call last)",
            "\u001b[0;32m<ipython-input-5-77fff6dcf4d5>\u001b[0m in \u001b[0;36m<module>\u001b[0;34m()\u001b[0m\n\u001b[0;32m----> 1\u001b[0;31m \u001b[0mtest_data\u001b[0m\u001b[0;34m.\u001b[0m\u001b[0mto_csv\u001b[0m\u001b[0;34m(\u001b[0m\u001b[0;34m\"skeletons_classes_40.csv\"\u001b[0m\u001b[0;34m,\u001b[0m \u001b[0mindex\u001b[0m \u001b[0;34m=\u001b[0m \u001b[0;32mFalse\u001b[0m\u001b[0;34m)\u001b[0m\u001b[0;34m\u001b[0m\u001b[0;34m\u001b[0m\u001b[0m\n\u001b[0m",
            "\u001b[0;31mNameError\u001b[0m: name 'test_data' is not defined"
          ]
        }
      ]
    },
    {
      "cell_type": "code",
      "metadata": {
        "id": "XB86Q26NJz3v"
      },
      "source": [
        "from torchvision import transforms"
      ],
      "execution_count": null,
      "outputs": []
    },
    {
      "cell_type": "code",
      "metadata": {
        "id": "l8YkOs9IJ1BC"
      },
      "source": [
        "from PIL import Image\n",
        "import matplotlib.pyplot as plt\n",
        "%matplotlib inline"
      ],
      "execution_count": 6,
      "outputs": []
    },
    {
      "cell_type": "code",
      "metadata": {
        "colab": {
          "base_uri": "https://localhost:8080/"
        },
        "id": "ErtCukpu1-xP",
        "outputId": "f19c3333-632c-4198-a475-a4eee42a0706"
      },
      "source": [
        "import torch\n",
        "from torch import nn\n",
        "import numpy as np\n",
        "import matplotlib.pyplot as plt\n",
        "import pandas as pd\n",
        "import torch\n",
        "import matplotlib.pyplot as plt\n",
        "import torchvision\n",
        "from torchvision import datasets\n",
        "from torch.utils.data import DataLoader, Dataset\n",
        "from torch import optim\n",
        "import time\n",
        "import math\n",
        "\n",
        "use_cuda = torch.cuda.is_available()\n",
        "# device = torch.device(\"cpu\")\n",
        "device = torch.device('cuda') if torch.cuda.is_available() else torch.device('cpu')\n",
        "print(device)"
      ],
      "execution_count": 7,
      "outputs": [
        {
          "output_type": "stream",
          "text": [
            "cpu\n"
          ],
          "name": "stdout"
        }
      ]
    },
    {
      "cell_type": "code",
      "metadata": {
        "id": "wXBFB6Ky25Mh"
      },
      "source": [
        "skeletons = pd.read_csv(\"skeletons_classes_40.csv\")"
      ],
      "execution_count": 8,
      "outputs": []
    },
    {
      "cell_type": "code",
      "metadata": {
        "id": "B86pkFLA3C01"
      },
      "source": [
        "LABELS = {0: \"drop\", 1: \"headache\", 2:  \"wear jacket\", 3: \"cross hands in front\", 4: \"rub two hands together\", 5: \" punching/slapping other person\", 6: \"kicking something\", 7:  \"clapping\"}"
      ],
      "execution_count": 9,
      "outputs": []
    },
    {
      "cell_type": "code",
      "metadata": {
        "colab": {
          "base_uri": "https://localhost:8080/",
          "height": 255
        },
        "id": "GfRvFPYe7qMM",
        "outputId": "a7f70bfd-c56d-4df1-cd03-c9c673f1f6fc"
      },
      "source": [
        "skeletons.head()"
      ],
      "execution_count": 10,
      "outputs": [
        {
          "output_type": "execute_result",
          "data": {
            "text/html": [
              "<div>\n",
              "<style scoped>\n",
              "    .dataframe tbody tr th:only-of-type {\n",
              "        vertical-align: middle;\n",
              "    }\n",
              "\n",
              "    .dataframe tbody tr th {\n",
              "        vertical-align: top;\n",
              "    }\n",
              "\n",
              "    .dataframe thead th {\n",
              "        text-align: right;\n",
              "    }\n",
              "</style>\n",
              "<table border=\"1\" class=\"dataframe\">\n",
              "  <thead>\n",
              "    <tr style=\"text-align: right;\">\n",
              "      <th></th>\n",
              "      <th>0</th>\n",
              "      <th>1</th>\n",
              "      <th>2</th>\n",
              "      <th>3</th>\n",
              "      <th>4</th>\n",
              "      <th>5</th>\n",
              "      <th>6</th>\n",
              "      <th>7</th>\n",
              "      <th>8</th>\n",
              "      <th>9</th>\n",
              "      <th>10</th>\n",
              "      <th>11</th>\n",
              "      <th>12</th>\n",
              "      <th>13</th>\n",
              "      <th>14</th>\n",
              "      <th>15</th>\n",
              "      <th>16</th>\n",
              "      <th>17</th>\n",
              "      <th>18</th>\n",
              "      <th>19</th>\n",
              "      <th>20</th>\n",
              "      <th>21</th>\n",
              "      <th>22</th>\n",
              "      <th>23</th>\n",
              "      <th>24</th>\n",
              "      <th>25</th>\n",
              "      <th>26</th>\n",
              "      <th>27</th>\n",
              "      <th>28</th>\n",
              "      <th>29</th>\n",
              "      <th>30</th>\n",
              "      <th>31</th>\n",
              "      <th>32</th>\n",
              "      <th>33</th>\n",
              "      <th>34</th>\n",
              "      <th>35</th>\n",
              "      <th>36</th>\n",
              "      <th>37</th>\n",
              "      <th>38</th>\n",
              "      <th>39</th>\n",
              "      <th>...</th>\n",
              "      <th>2961</th>\n",
              "      <th>2962</th>\n",
              "      <th>2963</th>\n",
              "      <th>2964</th>\n",
              "      <th>2965</th>\n",
              "      <th>2966</th>\n",
              "      <th>2967</th>\n",
              "      <th>2968</th>\n",
              "      <th>2969</th>\n",
              "      <th>2970</th>\n",
              "      <th>2971</th>\n",
              "      <th>2972</th>\n",
              "      <th>2973</th>\n",
              "      <th>2974</th>\n",
              "      <th>2975</th>\n",
              "      <th>2976</th>\n",
              "      <th>2977</th>\n",
              "      <th>2978</th>\n",
              "      <th>2979</th>\n",
              "      <th>2980</th>\n",
              "      <th>2981</th>\n",
              "      <th>2982</th>\n",
              "      <th>2983</th>\n",
              "      <th>2984</th>\n",
              "      <th>2985</th>\n",
              "      <th>2986</th>\n",
              "      <th>2987</th>\n",
              "      <th>2988</th>\n",
              "      <th>2989</th>\n",
              "      <th>2990</th>\n",
              "      <th>2991</th>\n",
              "      <th>2992</th>\n",
              "      <th>2993</th>\n",
              "      <th>2994</th>\n",
              "      <th>2995</th>\n",
              "      <th>2996</th>\n",
              "      <th>2997</th>\n",
              "      <th>2998</th>\n",
              "      <th>2999</th>\n",
              "      <th>labels</th>\n",
              "    </tr>\n",
              "  </thead>\n",
              "  <tbody>\n",
              "    <tr>\n",
              "      <th>0</th>\n",
              "      <td>0.343582</td>\n",
              "      <td>-0.131636</td>\n",
              "      <td>2.796781</td>\n",
              "      <td>0.334321</td>\n",
              "      <td>0.174186</td>\n",
              "      <td>2.719870</td>\n",
              "      <td>0.324273</td>\n",
              "      <td>0.471297</td>\n",
              "      <td>2.631597</td>\n",
              "      <td>0.403485</td>\n",
              "      <td>0.582353</td>\n",
              "      <td>2.581206</td>\n",
              "      <td>0.194410</td>\n",
              "      <td>0.349991</td>\n",
              "      <td>2.582528</td>\n",
              "      <td>0.097598</td>\n",
              "      <td>0.128170</td>\n",
              "      <td>2.628767</td>\n",
              "      <td>0.138166</td>\n",
              "      <td>-0.116630</td>\n",
              "      <td>2.614945</td>\n",
              "      <td>0.152282</td>\n",
              "      <td>-0.176070</td>\n",
              "      <td>2.599253</td>\n",
              "      <td>0.473957</td>\n",
              "      <td>0.334958</td>\n",
              "      <td>2.771091</td>\n",
              "      <td>0.493046</td>\n",
              "      <td>0.136862</td>\n",
              "      <td>2.829660</td>\n",
              "      <td>0.586698</td>\n",
              "      <td>-0.022283</td>\n",
              "      <td>2.682385</td>\n",
              "      <td>0.614079</td>\n",
              "      <td>-0.064489</td>\n",
              "      <td>2.643760</td>\n",
              "      <td>0.278066</td>\n",
              "      <td>-0.128742</td>\n",
              "      <td>2.725596</td>\n",
              "      <td>0.201409</td>\n",
              "      <td>...</td>\n",
              "      <td>0.259767</td>\n",
              "      <td>-0.130020</td>\n",
              "      <td>2.705268</td>\n",
              "      <td>0.199142</td>\n",
              "      <td>-0.499409</td>\n",
              "      <td>2.802932</td>\n",
              "      <td>0.168425</td>\n",
              "      <td>-0.820084</td>\n",
              "      <td>2.962896</td>\n",
              "      <td>0.199087</td>\n",
              "      <td>-0.901368</td>\n",
              "      <td>2.943798</td>\n",
              "      <td>0.390218</td>\n",
              "      <td>-0.126270</td>\n",
              "      <td>2.761366</td>\n",
              "      <td>0.381681</td>\n",
              "      <td>-0.451477</td>\n",
              "      <td>2.917189</td>\n",
              "      <td>0.339014</td>\n",
              "      <td>-0.783312</td>\n",
              "      <td>3.072563</td>\n",
              "      <td>0.385941</td>\n",
              "      <td>-0.846942</td>\n",
              "      <td>2.964602</td>\n",
              "      <td>0.303178</td>\n",
              "      <td>0.386336</td>\n",
              "      <td>2.609702</td>\n",
              "      <td>0.246184</td>\n",
              "      <td>-0.210451</td>\n",
              "      <td>2.487599</td>\n",
              "      <td>0.229516</td>\n",
              "      <td>-0.129148</td>\n",
              "      <td>2.583333</td>\n",
              "      <td>0.698213</td>\n",
              "      <td>0.007372</td>\n",
              "      <td>2.527886</td>\n",
              "      <td>0.683953</td>\n",
              "      <td>0.006100</td>\n",
              "      <td>2.580875</td>\n",
              "      <td>0</td>\n",
              "    </tr>\n",
              "    <tr>\n",
              "      <th>1</th>\n",
              "      <td>-0.102617</td>\n",
              "      <td>-0.142306</td>\n",
              "      <td>2.201375</td>\n",
              "      <td>-0.122486</td>\n",
              "      <td>0.144950</td>\n",
              "      <td>2.135401</td>\n",
              "      <td>-0.141183</td>\n",
              "      <td>0.422855</td>\n",
              "      <td>2.057418</td>\n",
              "      <td>-0.054072</td>\n",
              "      <td>0.523076</td>\n",
              "      <td>2.073909</td>\n",
              "      <td>-0.193924</td>\n",
              "      <td>0.268663</td>\n",
              "      <td>1.950517</td>\n",
              "      <td>-0.211488</td>\n",
              "      <td>0.034527</td>\n",
              "      <td>1.929083</td>\n",
              "      <td>-0.088376</td>\n",
              "      <td>-0.106852</td>\n",
              "      <td>1.999993</td>\n",
              "      <td>-0.060242</td>\n",
              "      <td>-0.141006</td>\n",
              "      <td>2.058226</td>\n",
              "      <td>-0.054398</td>\n",
              "      <td>0.303770</td>\n",
              "      <td>2.273683</td>\n",
              "      <td>0.017027</td>\n",
              "      <td>0.042619</td>\n",
              "      <td>2.324230</td>\n",
              "      <td>0.075560</td>\n",
              "      <td>-0.151231</td>\n",
              "      <td>2.290660</td>\n",
              "      <td>0.107049</td>\n",
              "      <td>-0.135908</td>\n",
              "      <td>2.295999</td>\n",
              "      <td>-0.127392</td>\n",
              "      <td>-0.135031</td>\n",
              "      <td>2.118398</td>\n",
              "      <td>-0.161075</td>\n",
              "      <td>...</td>\n",
              "      <td>-0.116683</td>\n",
              "      <td>-0.142592</td>\n",
              "      <td>2.112677</td>\n",
              "      <td>-0.148937</td>\n",
              "      <td>-0.515755</td>\n",
              "      <td>2.160999</td>\n",
              "      <td>-0.203693</td>\n",
              "      <td>-0.888173</td>\n",
              "      <td>2.277370</td>\n",
              "      <td>-0.104610</td>\n",
              "      <td>-0.932973</td>\n",
              "      <td>2.219657</td>\n",
              "      <td>-0.058038</td>\n",
              "      <td>-0.141779</td>\n",
              "      <td>2.201879</td>\n",
              "      <td>-0.237580</td>\n",
              "      <td>-0.361086</td>\n",
              "      <td>2.180278</td>\n",
              "      <td>-0.231289</td>\n",
              "      <td>-0.774694</td>\n",
              "      <td>2.255736</td>\n",
              "      <td>-0.131773</td>\n",
              "      <td>-0.820741</td>\n",
              "      <td>2.197608</td>\n",
              "      <td>-0.120203</td>\n",
              "      <td>0.348347</td>\n",
              "      <td>2.071664</td>\n",
              "      <td>0.063554</td>\n",
              "      <td>-0.325607</td>\n",
              "      <td>1.974269</td>\n",
              "      <td>0.054268</td>\n",
              "      <td>-0.268825</td>\n",
              "      <td>1.922572</td>\n",
              "      <td>0.069816</td>\n",
              "      <td>-0.294426</td>\n",
              "      <td>2.477629</td>\n",
              "      <td>0.027643</td>\n",
              "      <td>-0.243335</td>\n",
              "      <td>2.477833</td>\n",
              "      <td>0</td>\n",
              "    </tr>\n",
              "    <tr>\n",
              "      <th>2</th>\n",
              "      <td>-0.088271</td>\n",
              "      <td>-0.147568</td>\n",
              "      <td>2.192715</td>\n",
              "      <td>-0.106078</td>\n",
              "      <td>0.138111</td>\n",
              "      <td>2.127849</td>\n",
              "      <td>-0.121850</td>\n",
              "      <td>0.415797</td>\n",
              "      <td>2.049715</td>\n",
              "      <td>-0.053854</td>\n",
              "      <td>0.522715</td>\n",
              "      <td>2.051112</td>\n",
              "      <td>-0.179980</td>\n",
              "      <td>0.262746</td>\n",
              "      <td>1.941618</td>\n",
              "      <td>-0.129386</td>\n",
              "      <td>0.020111</td>\n",
              "      <td>1.934700</td>\n",
              "      <td>-0.055022</td>\n",
              "      <td>-0.201054</td>\n",
              "      <td>1.965532</td>\n",
              "      <td>-0.036176</td>\n",
              "      <td>-0.286057</td>\n",
              "      <td>1.979511</td>\n",
              "      <td>-0.035133</td>\n",
              "      <td>0.296705</td>\n",
              "      <td>2.265937</td>\n",
              "      <td>0.031458</td>\n",
              "      <td>0.049341</td>\n",
              "      <td>2.359862</td>\n",
              "      <td>0.058517</td>\n",
              "      <td>-0.202985</td>\n",
              "      <td>2.450392</td>\n",
              "      <td>0.026725</td>\n",
              "      <td>-0.264119</td>\n",
              "      <td>2.482856</td>\n",
              "      <td>-0.115511</td>\n",
              "      <td>-0.143368</td>\n",
              "      <td>2.114853</td>\n",
              "      <td>-0.149136</td>\n",
              "      <td>...</td>\n",
              "      <td>-0.115897</td>\n",
              "      <td>-0.136193</td>\n",
              "      <td>2.109240</td>\n",
              "      <td>-0.159892</td>\n",
              "      <td>-0.510728</td>\n",
              "      <td>2.154286</td>\n",
              "      <td>-0.208491</td>\n",
              "      <td>-0.886842</td>\n",
              "      <td>2.275908</td>\n",
              "      <td>-0.109222</td>\n",
              "      <td>-0.931374</td>\n",
              "      <td>2.217810</td>\n",
              "      <td>-0.057873</td>\n",
              "      <td>-0.137182</td>\n",
              "      <td>2.200990</td>\n",
              "      <td>-0.036379</td>\n",
              "      <td>-0.434433</td>\n",
              "      <td>2.387890</td>\n",
              "      <td>-0.159614</td>\n",
              "      <td>-0.834227</td>\n",
              "      <td>2.313243</td>\n",
              "      <td>-0.153722</td>\n",
              "      <td>-0.859263</td>\n",
              "      <td>2.410486</td>\n",
              "      <td>-0.127106</td>\n",
              "      <td>0.349949</td>\n",
              "      <td>2.066279</td>\n",
              "      <td>-0.164988</td>\n",
              "      <td>-0.371524</td>\n",
              "      <td>1.973904</td>\n",
              "      <td>-0.215969</td>\n",
              "      <td>-0.320413</td>\n",
              "      <td>1.961222</td>\n",
              "      <td>0.006555</td>\n",
              "      <td>-0.307269</td>\n",
              "      <td>2.434463</td>\n",
              "      <td>0.012870</td>\n",
              "      <td>-0.296789</td>\n",
              "      <td>2.428519</td>\n",
              "      <td>0</td>\n",
              "    </tr>\n",
              "    <tr>\n",
              "      <th>3</th>\n",
              "      <td>-0.050251</td>\n",
              "      <td>-0.103218</td>\n",
              "      <td>2.638716</td>\n",
              "      <td>-0.069884</td>\n",
              "      <td>0.196730</td>\n",
              "      <td>2.574562</td>\n",
              "      <td>-0.087466</td>\n",
              "      <td>0.488418</td>\n",
              "      <td>2.498312</td>\n",
              "      <td>-0.052239</td>\n",
              "      <td>0.617474</td>\n",
              "      <td>2.452217</td>\n",
              "      <td>-0.248253</td>\n",
              "      <td>0.389349</td>\n",
              "      <td>2.471294</td>\n",
              "      <td>-0.306652</td>\n",
              "      <td>0.141858</td>\n",
              "      <td>2.511820</td>\n",
              "      <td>-0.285697</td>\n",
              "      <td>-0.097210</td>\n",
              "      <td>2.524548</td>\n",
              "      <td>-0.269958</td>\n",
              "      <td>-0.175340</td>\n",
              "      <td>2.532195</td>\n",
              "      <td>0.097148</td>\n",
              "      <td>0.388248</td>\n",
              "      <td>2.575667</td>\n",
              "      <td>0.132188</td>\n",
              "      <td>0.135532</td>\n",
              "      <td>2.649247</td>\n",
              "      <td>0.151013</td>\n",
              "      <td>-0.089246</td>\n",
              "      <td>2.645400</td>\n",
              "      <td>0.149966</td>\n",
              "      <td>-0.177255</td>\n",
              "      <td>2.642852</td>\n",
              "      <td>-0.112302</td>\n",
              "      <td>-0.105480</td>\n",
              "      <td>2.587975</td>\n",
              "      <td>-0.177579</td>\n",
              "      <td>...</td>\n",
              "      <td>-0.120644</td>\n",
              "      <td>-0.095754</td>\n",
              "      <td>2.583062</td>\n",
              "      <td>-0.176744</td>\n",
              "      <td>-0.397757</td>\n",
              "      <td>2.654863</td>\n",
              "      <td>-0.187009</td>\n",
              "      <td>-0.744069</td>\n",
              "      <td>2.846515</td>\n",
              "      <td>-0.160593</td>\n",
              "      <td>-0.806058</td>\n",
              "      <td>2.723284</td>\n",
              "      <td>0.009889</td>\n",
              "      <td>-0.089749</td>\n",
              "      <td>2.621962</td>\n",
              "      <td>0.050958</td>\n",
              "      <td>-0.388495</td>\n",
              "      <td>2.719148</td>\n",
              "      <td>0.051124</td>\n",
              "      <td>-0.744828</td>\n",
              "      <td>2.904714</td>\n",
              "      <td>0.074722</td>\n",
              "      <td>-0.806959</td>\n",
              "      <td>2.781379</td>\n",
              "      <td>-0.082156</td>\n",
              "      <td>0.415951</td>\n",
              "      <td>2.530478</td>\n",
              "      <td>-0.283648</td>\n",
              "      <td>-0.248828</td>\n",
              "      <td>2.558489</td>\n",
              "      <td>-0.316026</td>\n",
              "      <td>-0.181982</td>\n",
              "      <td>2.523260</td>\n",
              "      <td>0.003598</td>\n",
              "      <td>0.656513</td>\n",
              "      <td>2.309928</td>\n",
              "      <td>0.073755</td>\n",
              "      <td>0.647060</td>\n",
              "      <td>2.312551</td>\n",
              "      <td>1</td>\n",
              "    </tr>\n",
              "    <tr>\n",
              "      <th>4</th>\n",
              "      <td>-0.055911</td>\n",
              "      <td>-0.094079</td>\n",
              "      <td>2.638422</td>\n",
              "      <td>-0.071055</td>\n",
              "      <td>0.199581</td>\n",
              "      <td>2.580839</td>\n",
              "      <td>-0.085907</td>\n",
              "      <td>0.486054</td>\n",
              "      <td>2.510983</td>\n",
              "      <td>-0.029283</td>\n",
              "      <td>0.599358</td>\n",
              "      <td>2.458295</td>\n",
              "      <td>-0.233368</td>\n",
              "      <td>0.389651</td>\n",
              "      <td>2.481933</td>\n",
              "      <td>-0.314708</td>\n",
              "      <td>0.156645</td>\n",
              "      <td>2.518797</td>\n",
              "      <td>-0.298229</td>\n",
              "      <td>-0.092314</td>\n",
              "      <td>2.540058</td>\n",
              "      <td>-0.283203</td>\n",
              "      <td>-0.170843</td>\n",
              "      <td>2.549689</td>\n",
              "      <td>0.096694</td>\n",
              "      <td>0.408479</td>\n",
              "      <td>2.555675</td>\n",
              "      <td>0.234012</td>\n",
              "      <td>0.364671</td>\n",
              "      <td>2.403397</td>\n",
              "      <td>0.116999</td>\n",
              "      <td>0.525040</td>\n",
              "      <td>2.352571</td>\n",
              "      <td>0.053266</td>\n",
              "      <td>0.591164</td>\n",
              "      <td>2.340751</td>\n",
              "      <td>-0.120590</td>\n",
              "      <td>-0.095632</td>\n",
              "      <td>2.583025</td>\n",
              "      <td>-0.176690</td>\n",
              "      <td>...</td>\n",
              "      <td>-0.119728</td>\n",
              "      <td>-0.086195</td>\n",
              "      <td>2.588386</td>\n",
              "      <td>-0.176868</td>\n",
              "      <td>-0.393978</td>\n",
              "      <td>2.658449</td>\n",
              "      <td>-0.187228</td>\n",
              "      <td>-0.744870</td>\n",
              "      <td>2.847769</td>\n",
              "      <td>-0.160616</td>\n",
              "      <td>-0.806811</td>\n",
              "      <td>2.724644</td>\n",
              "      <td>0.010395</td>\n",
              "      <td>-0.079436</td>\n",
              "      <td>2.628625</td>\n",
              "      <td>0.049385</td>\n",
              "      <td>-0.388958</td>\n",
              "      <td>2.725125</td>\n",
              "      <td>0.050323</td>\n",
              "      <td>-0.744374</td>\n",
              "      <td>2.906332</td>\n",
              "      <td>0.074127</td>\n",
              "      <td>-0.806471</td>\n",
              "      <td>2.783099</td>\n",
              "      <td>-0.086381</td>\n",
              "      <td>0.417857</td>\n",
              "      <td>2.535828</td>\n",
              "      <td>-0.268069</td>\n",
              "      <td>-0.245922</td>\n",
              "      <td>2.557883</td>\n",
              "      <td>-0.308415</td>\n",
              "      <td>-0.193021</td>\n",
              "      <td>2.522434</td>\n",
              "      <td>0.011875</td>\n",
              "      <td>0.654033</td>\n",
              "      <td>2.305912</td>\n",
              "      <td>0.074225</td>\n",
              "      <td>0.664089</td>\n",
              "      <td>2.330125</td>\n",
              "      <td>1</td>\n",
              "    </tr>\n",
              "  </tbody>\n",
              "</table>\n",
              "<p>5 rows × 3001 columns</p>\n",
              "</div>"
            ],
            "text/plain": [
              "          0         1         2         3  ...      2997      2998      2999  labels\n",
              "0  0.343582 -0.131636  2.796781  0.334321  ...  0.683953  0.006100  2.580875       0\n",
              "1 -0.102617 -0.142306  2.201375 -0.122486  ...  0.027643 -0.243335  2.477833       0\n",
              "2 -0.088271 -0.147568  2.192715 -0.106078  ...  0.012870 -0.296789  2.428519       0\n",
              "3 -0.050251 -0.103218  2.638716 -0.069884  ...  0.073755  0.647060  2.312551       1\n",
              "4 -0.055911 -0.094079  2.638422 -0.071055  ...  0.074225  0.664089  2.330125       1\n",
              "\n",
              "[5 rows x 3001 columns]"
            ]
          },
          "metadata": {
            "tags": []
          },
          "execution_count": 10
        }
      ]
    },
    {
      "cell_type": "code",
      "metadata": {
        "colab": {
          "base_uri": "https://localhost:8080/"
        },
        "id": "3DbNOFi77rkb",
        "outputId": "ee9987bd-4e5b-4938-811d-8b3fb8a92a92"
      },
      "source": [
        "skeletons.shape"
      ],
      "execution_count": 11,
      "outputs": [
        {
          "output_type": "execute_result",
          "data": {
            "text/plain": [
              "(1100, 3001)"
            ]
          },
          "metadata": {
            "tags": []
          },
          "execution_count": 11
        }
      ]
    },
    {
      "cell_type": "markdown",
      "metadata": {
        "id": "OJxKC31u7wkg"
      },
      "source": [
        "## **Dataloader**"
      ]
    },
    {
      "cell_type": "code",
      "metadata": {
        "id": "ahKrK9dK7ygS"
      },
      "source": [
        "class Skeleton_Dataset(Dataset):\n",
        "    def __init__(self, file_path, transform=None):\n",
        "        self.data = pd.read_csv(file_path)\n",
        "        self.transform = transform\n",
        "        self.labels = self.data.iloc[:,-1]\n",
        "\n",
        "\n",
        "    def __len__(self):\n",
        "        return len(self.data) \n",
        "    \n",
        "    \n",
        "    def __getitem__(self, idx):\n",
        "        item = np.asarray(self.data.iloc[idx,:-1]).reshape(40,25*3)\n",
        "        label = self.labels[idx]\n",
        "        if self.transform != None:\n",
        "            item = transform(item)\n",
        "            \n",
        "        \n",
        "\n",
        "        return (item, label) "
      ],
      "execution_count": 12,
      "outputs": []
    },
    {
      "cell_type": "code",
      "metadata": {
        "id": "bLD7WYHf7ulj"
      },
      "source": [
        "dataset = Skeleton_Dataset(file_path = \"skeletons_classes_40.csv\", transform=None)"
      ],
      "execution_count": 13,
      "outputs": []
    },
    {
      "cell_type": "code",
      "metadata": {
        "id": "a4pZEVKZ8AOQ"
      },
      "source": [
        "skel, lab = dataset.__getitem__(10)\n",
        "skel, lab = dataset[10]"
      ],
      "execution_count": 14,
      "outputs": []
    },
    {
      "cell_type": "code",
      "metadata": {
        "colab": {
          "base_uri": "https://localhost:8080/",
          "height": 35
        },
        "id": "S0hcEDm18DW6",
        "outputId": "da0d7110-30c0-4b14-d05f-42854069d21a"
      },
      "source": [
        "LABELS[lab]"
      ],
      "execution_count": 15,
      "outputs": [
        {
          "output_type": "execute_result",
          "data": {
            "application/vnd.google.colaboratory.intrinsic+json": {
              "type": "string"
            },
            "text/plain": [
              "'cross hands in front'"
            ]
          },
          "metadata": {
            "tags": []
          },
          "execution_count": 15
        }
      ]
    },
    {
      "cell_type": "code",
      "metadata": {
        "colab": {
          "base_uri": "https://localhost:8080/"
        },
        "id": "TL8p3boO8IEb",
        "outputId": "69a92709-ce13-4707-a846-5cbd8500100d"
      },
      "source": [
        "skel.shape"
      ],
      "execution_count": 16,
      "outputs": [
        {
          "output_type": "execute_result",
          "data": {
            "text/plain": [
              "(40, 75)"
            ]
          },
          "metadata": {
            "tags": []
          },
          "execution_count": 16
        }
      ]
    },
    {
      "cell_type": "code",
      "metadata": {
        "id": "u7P9uMzY8VzP"
      },
      "source": [
        "skels_for_draw = skel.reshape(-1,25,3)"
      ],
      "execution_count": 17,
      "outputs": []
    },
    {
      "cell_type": "markdown",
      "metadata": {
        "id": "4iTyBpvu8l5D"
      },
      "source": [
        "## **Оборачиваем в Даталоадер:**"
      ]
    },
    {
      "cell_type": "code",
      "metadata": {
        "id": "Tvnk11wX9CLN"
      },
      "source": [
        "train_dataset, test_dataset = torch.utils.data.random_split(dataset, [int(0.75*len(dataset)),int(0.25*len(dataset))])\n",
        "train_loader = DataLoader(train_dataset, batch_size = 32, shuffle=True)\n",
        "test_loader = DataLoader(test_dataset, batch_size = 1, shuffle=True)"
      ],
      "execution_count": 20,
      "outputs": []
    },
    {
      "cell_type": "markdown",
      "metadata": {
        "id": "2bpj161_9S47"
      },
      "source": [
        "### Инициализируем наши переменные и модель"
      ]
    },
    {
      "cell_type": "code",
      "metadata": {
        "id": "wY7a7i169l3G"
      },
      "source": [
        "class LSTM_net(nn.Module):\n",
        "    # Для того, что бы инициализировать LSTM нам нужно указать:\n",
        "    # input_dim - размерность входного тензора. тензор входит в формате (seq_len, batch, input_dim)\n",
        "    # (batch_size, seq, inp_dim) - if batch_first=True\n",
        "    # hidden_dim - размерность вектора состояния h\n",
        "    # output_dim - размерность выхода\n",
        "    # layer_num - количество скрытых слоев в сети\n",
        "    def __init__(self,input_dim,hidden_dim,output_dim,layer_num):\n",
        "        super().__init__()\n",
        "        self.hidden_dim = hidden_dim\n",
        "        self.output_dim = output_dim\n",
        "        self.lstm = torch.nn.LSTM(input_dim, hidden_dim,layer_num,batch_first=True)\n",
        "        self.dr = torch.nn.Dropout2d(0.1)\n",
        "        self.fc = torch.nn.Linear(hidden_dim,output_dim)\n",
        "        \n",
        "        \n",
        "    def forward(self,inputs):\n",
        "        x = inputs\n",
        "        lstm_out,(hn,cn) = self.lstm(x)\n",
        "        out = self.fc(lstm_out[:,-1,:])\n",
        "        return out"
      ],
      "execution_count": 21,
      "outputs": []
    },
    {
      "cell_type": "code",
      "metadata": {
        "colab": {
          "base_uri": "https://localhost:8080/"
        },
        "id": "bC05_Xre9SFx",
        "outputId": "981e817c-4973-49da-a824-c5c400f421ec"
      },
      "source": [
        "n_hidden = 128\n",
        "n_joints = 25*3\n",
        "n_categories = len(LABELS)\n",
        "n_layer = 3\n",
        "rnn = LSTM_net(n_joints,n_hidden,n_categories,n_layer)\n",
        "rnn.to(device)"
      ],
      "execution_count": 22,
      "outputs": [
        {
          "output_type": "execute_result",
          "data": {
            "text/plain": [
              "LSTM_net(\n",
              "  (lstm): LSTM(75, 128, num_layers=3, batch_first=True)\n",
              "  (dr): Dropout2d(p=0.1, inplace=False)\n",
              "  (fc): Linear(in_features=128, out_features=8, bias=True)\n",
              ")"
            ]
          },
          "metadata": {
            "tags": []
          },
          "execution_count": 22
        }
      ]
    },
    {
      "cell_type": "code",
      "metadata": {
        "id": "m4Q0TNYL-I29"
      },
      "source": [
        "def categoryFromOutput(output):\n",
        "    top_n, top_i = output.topk(1)\n",
        "    category_i = top_i[0].item()\n",
        "#     print(output.topk(5))\n",
        "    return LABELS[category_i], category_i\n",
        "\n",
        "def timeSince(since):\n",
        "    now = time.time()\n",
        "    s = now - since\n",
        "    m = math.floor(s / 60)\n",
        "    s -= m * 60\n",
        "    return '%dm %ds' % (m, s)"
      ],
      "execution_count": 23,
      "outputs": []
    },
    {
      "cell_type": "markdown",
      "metadata": {
        "id": "F0Q3Ny6uKmWt"
      },
      "source": [
        "# **40** **кадров**"
      ]
    },
    {
      "cell_type": "code",
      "metadata": {
        "colab": {
          "base_uri": "https://localhost:8080/"
        },
        "id": "t1Ed32b--OPx",
        "outputId": "e38bf9ec-7eb6-4ec9-cfb2-7b027deed0f6"
      },
      "source": [
        "criterion = nn.CrossEntropyLoss()\n",
        "learning_rate = 0.0007\n",
        "optimizer = optim.SGD(rnn.parameters(),lr=learning_rate,momentum=0.9)\n",
        "\n",
        "all_losses = []\n",
        "start = time.time()\n",
        "counter = 0\n",
        "for epoch in range(600):  \n",
        "    current_loss = 0\n",
        "    running_loss = 0.0\n",
        "    for i, data in enumerate(train_loader, 0):\n",
        "        \n",
        "        inputs, labels = data[0].to(device), data[1].to(device)\n",
        "        optimizer.zero_grad()\n",
        "    \n",
        "        output = rnn(inputs.float())\n",
        "        loss = criterion(output, labels)\n",
        "        loss.backward()\n",
        "        optimizer.step() \n",
        "\n",
        "\n",
        "        current_loss += loss.item()\n",
        "        category = LABELS[int(labels[0])]\n",
        "\n",
        "        if counter % 500 == 0:\n",
        "            guess, guess_i = categoryFromOutput(output)\n",
        "            correct = '✓' if guess == category else '✗ (%s)' % category\n",
        "            print('epoch : %d iter : %d (%s) %.4f  / %s %s' % (epoch, i, timeSince(start), loss, guess, correct))\n",
        "\n",
        "        \n",
        "        counter = counter + 1\n",
        "    if counter % 100 == 0:\n",
        "        all_losses.append(current_loss / 25)\n",
        "        current_loss = 0"
      ],
      "execution_count": 28,
      "outputs": [
        {
          "output_type": "stream",
          "text": [
            "epoch : 0 iter : 0 (0m 0s) 1.2602  / cross hands in front ✗ (clapping)\n",
            "epoch : 19 iter : 6 (1m 21s) 1.2509  / clapping ✗ (headache)\n",
            "epoch : 38 iter : 12 (2m 42s) 1.7363  / cross hands in front ✗ (headache)\n",
            "epoch : 57 iter : 18 (4m 3s) 1.3171  / clapping ✓\n",
            "epoch : 76 iter : 24 (5m 25s) 1.2716  / clapping ✗ (headache)\n",
            "epoch : 96 iter : 4 (6m 46s) 0.8012  /  punching/slapping other person ✓\n",
            "epoch : 115 iter : 10 (8m 7s) 1.0899  / rub two hands together ✓\n",
            "epoch : 134 iter : 16 (9m 28s) 0.9100  / clapping ✓\n",
            "epoch : 153 iter : 22 (10m 49s) 1.0101  / wear jacket ✗ (drop)\n",
            "epoch : 173 iter : 2 (12m 11s) 0.8895  / clapping ✓\n",
            "epoch : 192 iter : 8 (13m 32s) 0.9092  / kicking something ✓\n",
            "epoch : 211 iter : 14 (14m 54s) 1.0305  / cross hands in front ✓\n",
            "epoch : 230 iter : 20 (16m 15s) 0.5973  /  punching/slapping other person ✓\n",
            "epoch : 250 iter : 0 (17m 35s) 0.6068  / headache ✓\n",
            "epoch : 269 iter : 6 (18m 56s) 0.6017  / rub two hands together ✗ (wear jacket)\n",
            "epoch : 288 iter : 12 (20m 18s) 0.9613  / headache ✗ ( punching/slapping other person)\n",
            "epoch : 307 iter : 18 (21m 38s) 0.5332  / clapping ✓\n",
            "epoch : 326 iter : 24 (22m 59s) 0.7695  / rub two hands together ✓\n",
            "epoch : 346 iter : 4 (24m 20s) 0.7496  / drop ✓\n",
            "epoch : 365 iter : 10 (25m 40s) 1.3697  /  punching/slapping other person ✓\n",
            "epoch : 384 iter : 16 (27m 1s) 1.0619  / wear jacket ✓\n",
            "epoch : 403 iter : 22 (28m 21s) 0.8352  /  punching/slapping other person ✓\n",
            "epoch : 423 iter : 2 (29m 42s) 0.8954  / cross hands in front ✓\n",
            "epoch : 442 iter : 8 (31m 3s) 0.5338  / rub two hands together ✓\n",
            "epoch : 461 iter : 14 (32m 24s) 0.9776  / clapping ✓\n",
            "epoch : 480 iter : 20 (33m 45s) 0.5398  / rub two hands together ✓\n",
            "epoch : 500 iter : 0 (35m 6s) 0.5222  / clapping ✓\n",
            "epoch : 519 iter : 6 (36m 27s) 0.5674  / wear jacket ✓\n",
            "epoch : 538 iter : 12 (37m 48s) 0.5553  / kicking something ✓\n",
            "epoch : 557 iter : 18 (39m 10s) 0.3713  /  punching/slapping other person ✓\n",
            "epoch : 576 iter : 24 (40m 31s) 0.4885  / clapping ✗ (rub two hands together)\n",
            "epoch : 596 iter : 4 (41m 53s) 0.1906  / headache ✓\n"
          ],
          "name": "stdout"
        }
      ]
    },
    {
      "cell_type": "markdown",
      "metadata": {
        "id": "e7DaL6jBXY7F"
      },
      "source": [
        "При кол-ве lstm модулей 2, кадров 50 Accuracy of the network: 50.0"
      ]
    },
    {
      "cell_type": "code",
      "metadata": {
        "colab": {
          "base_uri": "https://localhost:8080/",
          "height": 265
        },
        "id": "ruUhrU7sJdKr",
        "outputId": "f16e7224-5115-4e20-b7bf-3f338b4ff985"
      },
      "source": [
        "import matplotlib.pyplot as plt\n",
        "%matplotlib inline\n",
        "plt.plot(list(range(0,len(all_losses))),all_losses)\n",
        "plt.show()\n"
      ],
      "execution_count": null,
      "outputs": [
        {
          "output_type": "display_data",
          "data": {
            "image/png": "[encoded data removed]",
            "text/plain": [
              "<Figure size 432x288 with 1 Axes>"
            ]
          },
          "metadata": {
            "tags": [],
            "needs_background": "light"
          }
        }
      ]
    },
    {
      "cell_type": "code",
      "metadata": {
        "colab": {
          "base_uri": "https://localhost:8080/"
        },
        "id": "BRpB2IRPKEr_",
        "outputId": "b2c2fd5e-c2f2-4451-f54d-4ca3847369b2"
      },
      "source": [
        "total = 0\n",
        "right = 0\n",
        "counter = 0\n",
        "\n",
        "rnn.eval()\n",
        "with torch.no_grad():\n",
        "    for i, data in enumerate(test_loader, 0):\n",
        "        counter = counter + 1\n",
        "        inputs, labels = data[0].to(device), data[1].to(device)  \n",
        "        output = rnn(inputs.float())\n",
        "        guess, guess_i = categoryFromOutput(output)\n",
        "        category = LABELS[int(labels[0])]\n",
        "        \n",
        "        if guess == category:\n",
        "            right = right + 1\n",
        "\n",
        "\n",
        "print('Accuracy of the network:  ',  (100 * right / counter))"
      ],
      "execution_count": null,
      "outputs": [
        {
          "output_type": "stream",
          "text": [
            "Accuracy of the network:   50.0\n"
          ],
          "name": "stdout"
        }
      ]
    },
    {
      "cell_type": "markdown",
      "metadata": {
        "id": "MCHXAKsdXkLe"
      },
      "source": [
        "При кол-ве lstm модулей 4, кадров 40 Accuracy of the network: "
      ]
    },
    {
      "cell_type": "code",
      "metadata": {
        "colab": {
          "base_uri": "https://localhost:8080/",
          "height": 283
        },
        "id": "5GttSSjYXqjD",
        "outputId": "06d05692-a0f9-417f-9b32-c0ad21974787"
      },
      "source": [
        "import matplotlib.pyplot as plt\n",
        "%matplotlib inline\n",
        "plt.plot(list(range(0,len(all_losses))),all_losses)"
      ],
      "execution_count": null,
      "outputs": [
        {
          "output_type": "execute_result",
          "data": {
            "text/plain": [
              "[<matplotlib.lines.Line2D at 0x7f81177d3990>]"
            ]
          },
          "metadata": {
            "tags": []
          },
          "execution_count": 46
        },
        {
          "output_type": "display_data",
          "data": {
            "image/png": "[encoded data removed]",
            "text/plain": [
              "<Figure size 432x288 with 1 Axes>"
            ]
          },
          "metadata": {
            "tags": [],
            "needs_background": "light"
          }
        }
      ]
    },
    {
      "cell_type": "code",
      "metadata": {
        "colab": {
          "base_uri": "https://localhost:8080/"
        },
        "id": "HjXx2v26XsfK",
        "outputId": "62fa0335-0230-444c-a269-bdc1bde64814"
      },
      "source": [
        "total = 0\n",
        "right = 0\n",
        "counter = 0\n",
        "\n",
        "rnn.eval()\n",
        "with torch.no_grad():\n",
        "    for i, data in enumerate(test_loader, 0):\n",
        "        counter = counter + 1\n",
        "        inputs, labels = data[0].to(device), data[1].to(device)  \n",
        "        output = rnn(inputs.float())\n",
        "        guess, guess_i = categoryFromOutput(output)\n",
        "        category = LABELS[int(labels[0])]\n",
        "        \n",
        "        if guess == category:\n",
        "            right = right + 1\n",
        "\n",
        "\n",
        "print('Accuracy of the network:  ',  (100 * right / counter))"
      ],
      "execution_count": null,
      "outputs": [
        {
          "output_type": "stream",
          "text": [
            "Accuracy of the network:   43.27272727272727\n"
          ],
          "name": "stdout"
        }
      ]
    },
    {
      "cell_type": "markdown",
      "metadata": {
        "id": "aWVu5GOrEhHc"
      },
      "source": [
        "При кол-ве lstm модулей 3, кадров 40, batch_size = 32, epoch 300: Accuracy of the network:  35.63636363636363"
      ]
    },
    {
      "cell_type": "code",
      "metadata": {
        "colab": {
          "base_uri": "https://localhost:8080/",
          "height": 283
        },
        "id": "USf6sBcbEo5H",
        "outputId": "54529d42-7093-4215-8065-460f60c5b1be"
      },
      "source": [
        "import matplotlib.pyplot as plt\n",
        "%matplotlib inline\n",
        "plt.plot(list(range(0,len(all_losses))),all_losses)"
      ],
      "execution_count": 26,
      "outputs": [
        {
          "output_type": "execute_result",
          "data": {
            "text/plain": [
              "[<matplotlib.lines.Line2D at 0x7fc4a0db2a50>]"
            ]
          },
          "metadata": {
            "tags": []
          },
          "execution_count": 26
        },
        {
          "output_type": "display_data",
          "data": {
            "image/png": "[encoded data removed]",
            "text/plain": [
              "<Figure size 432x288 with 1 Axes>"
            ]
          },
          "metadata": {
            "tags": [],
            "needs_background": "light"
          }
        }
      ]
    },
    {
      "cell_type": "code",
      "metadata": {
        "colab": {
          "base_uri": "https://localhost:8080/"
        },
        "id": "oe9KCxXRL4v2",
        "outputId": "ad89e68a-2567-4466-9933-372a6c9f8e18"
      },
      "source": [
        "total = 0\n",
        "right = 0\n",
        "counter = 0\n",
        "\n",
        "rnn.eval()\n",
        "with torch.no_grad():\n",
        "    for i, data in enumerate(test_loader, 0):\n",
        "        counter = counter + 1\n",
        "        inputs, labels = data[0].to(device), data[1].to(device)  \n",
        "        output = rnn(inputs.float())\n",
        "        guess, guess_i = categoryFromOutput(output)\n",
        "        category = LABELS[int(labels[0])]\n",
        "        \n",
        "        if guess == category:\n",
        "            right = right + 1\n",
        "\n",
        "\n",
        "print('Accuracy of the network:  ',  (100 * right / counter))"
      ],
      "execution_count": 27,
      "outputs": [
        {
          "output_type": "stream",
          "text": [
            "Accuracy of the network:   35.63636363636363\n"
          ],
          "name": "stdout"
        }
      ]
    },
    {
      "cell_type": "markdown",
      "metadata": {
        "id": "rlvXIcuvfLsc"
      },
      "source": [
        "При кол-ве lstm модулей 3, кадров 40, batch_size = 32, epoch 600: Accuracy of the network: 56.72727272727273"
      ]
    },
    {
      "cell_type": "code",
      "metadata": {
        "colab": {
          "base_uri": "https://localhost:8080/",
          "height": 283
        },
        "id": "qaP_RwhPfLE8",
        "outputId": "6a0f7bb6-47c7-4cc5-b6e1-6670e9424870"
      },
      "source": [
        "import matplotlib.pyplot as plt\n",
        "%matplotlib inline\n",
        "plt.plot(list(range(0,len(all_losses))),all_losses)"
      ],
      "execution_count": 29,
      "outputs": [
        {
          "output_type": "execute_result",
          "data": {
            "text/plain": [
              "[<matplotlib.lines.Line2D at 0x7fc447fbfdd0>]"
            ]
          },
          "metadata": {
            "tags": []
          },
          "execution_count": 29
        },
        {
          "output_type": "display_data",
          "data": {
            "image/png": "[encoded data removed]",
            "text/plain": [
              "<Figure size 432x288 with 1 Axes>"
            ]
          },
          "metadata": {
            "tags": [],
            "needs_background": "light"
          }
        }
      ]
    },
    {
      "cell_type": "code",
      "metadata": {
        "colab": {
          "base_uri": "https://localhost:8080/"
        },
        "id": "An4kZRgwfR7Y",
        "outputId": "79a2f09d-6492-4bda-ddf5-334022a88843"
      },
      "source": [
        "total = 0\n",
        "right = 0\n",
        "counter = 0\n",
        "\n",
        "rnn.eval()\n",
        "with torch.no_grad():\n",
        "    for i, data in enumerate(test_loader, 0):\n",
        "        counter = counter + 1\n",
        "        inputs, labels = data[0].to(device), data[1].to(device)  \n",
        "        output = rnn(inputs.float())\n",
        "        guess, guess_i = categoryFromOutput(output)\n",
        "        category = LABELS[int(labels[0])]\n",
        "        \n",
        "        if guess == category:\n",
        "            right = right + 1\n",
        "\n",
        "\n",
        "print('Accuracy of the network:  ',  (100 * right / counter))"
      ],
      "execution_count": 30,
      "outputs": [
        {
          "output_type": "stream",
          "text": [
            "Accuracy of the network:   56.72727272727273\n"
          ],
          "name": "stdout"
        }
      ]
    }
  ]
}