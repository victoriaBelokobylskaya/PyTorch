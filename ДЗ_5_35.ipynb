{
  "nbformat": 4,
  "nbformat_minor": 0,
  "metadata": {
    "colab": {
      "name": "ДЗ_5_35.ipynb",
      "provenance": [],
      "collapsed_sections": [],
      "toc_visible": true
    },
    "kernelspec": {
      "name": "python3",
      "display_name": "Python 3"
    },
    "language_info": {
      "name": "python"
    }
  },
  "cells": [
    {
      "cell_type": "code",
      "metadata": {
        "id": "oxHK6_fckRNj"
      },
      "source": [
        "import os\n",
        "from zipfile import ZipFile\n",
        "import numpy as np\n",
        "import pandas as pd"
      ],
      "execution_count": null,
      "outputs": []
    },
    {
      "cell_type": "markdown",
      "metadata": {
        "id": "NbklzkOioKV_"
      },
      "source": [
        "Необходимо разархивировать датасет в нужную директорию"
      ]
    },
    {
      "cell_type": "code",
      "metadata": {
        "id": "UGkkIsiOlVmA"
      },
      "source": [
        "data_path_zip = \"/content/drive/MyDrive/PyTorch_5/nturgbd_skeletons_s001_to_s017.zip\"\n",
        "extract_dir = \"/content/drive/MyDrive/PyTorch_5/SK\"\n",
        "with ZipFile(data_path_zip) as zf:\n",
        "    zf.extractall(extract_dir)"
      ],
      "execution_count": null,
      "outputs": []
    },
    {
      "cell_type": "markdown",
      "metadata": {
        "id": "Z3UrIh0AoYbm"
      },
      "source": [
        "Соответствующие пути для содержимого архива и файла txt"
      ]
    },
    {
      "cell_type": "code",
      "metadata": {
        "id": "dfvE_cGcm6U-"
      },
      "source": [
        "data_path = \"/content/drive/MyDrive/PyTorch_5/SK/skeletons/\"\n",
        "#### список отсутсвующих элементов так же будет доступен \n",
        "broken_files_path = \"/content/drive/MyDrive/PyTorch_5/missing_skeletons.txt\""
      ],
      "execution_count": null,
      "outputs": []
    },
    {
      "cell_type": "code",
      "metadata": {
        "id": "eWQ15KALngbV"
      },
      "source": [
        "training_subjects = list(range(0, 28)) #количество людей выполняющих действия\n",
        "training_classes = [ 44, 14, 34, 40, 10, 50, 5, 24] #классы которые будем использовать для обучения, полный список прдставлен тут https://github.com/shahroudy/NTURGB-D\n",
        "training_cameras = [1, 2, 3] \n",
        "\n",
        "max_body_true = 1\n",
        "max_body_kinect = 1\n",
        "\n",
        "num_joint = 25\n",
        "max_frame = 300 # Длина отрезка которую мы вычленяем из большого датасета"
      ],
      "execution_count": null,
      "outputs": []
    },
    {
      "cell_type": "markdown",
      "metadata": {
        "id": "zCT74oO8uDYk"
      },
      "source": [
        "Функция, которая позволяет нам считать данные для каждого класса"
      ]
    },
    {
      "cell_type": "code",
      "metadata": {
        "id": "JYeqrTPXn9_D"
      },
      "source": [
        "def read_data(data_path, broken_files_path):\n",
        "    labels = []\n",
        "    files = []\n",
        "    action_classes = {}\n",
        "    counter = 0\n",
        "    files_counter = {}\n",
        "              \n",
        "    with open(broken_files_path, 'r') as f:\n",
        "        broken_files = f.read().split(\"\\n\")\n",
        "\n",
        "    raw_files = os.listdir(data_path)\n",
        "    num_frames = 0\n",
        "\n",
        "    for filename in raw_files:\n",
        "        if filename not in broken_files:\n",
        "            action_class = int(filename[filename.find('A') + 1:filename.find('A') + 4])\n",
        "            subject_id = int(filename[filename.find('P') + 1:filename.find('P') + 4])\n",
        "            camera_id = int(filename[filename.find('C') + 1:filename.find('C') + 4])\n",
        "            if action_class in training_classes and camera_id in training_cameras:  #and subject_id in training_subjects:\n",
        "                if action_class in action_classes:\n",
        "                    if files_counter[action_class] < 120:\n",
        "                        files.append([filename,action_classes[action_class]])\n",
        "                        files_counter[action_class] = files_counter[action_class] + 1\n",
        "                else:\n",
        "                    action_classes.update({action_class : counter})\n",
        "                    files_counter.update({action_class : 1})\n",
        "                    counter+=1\n",
        "                    files.append([filename,action_classes[action_class]])\n",
        "#                     labels.append([action_class])\n",
        "    print(\"action classes: \", action_classes)\n",
        "    print(\"action files: \", files_counter)\n",
        "    \n",
        "    return files, action_classes"
      ],
      "execution_count": null,
      "outputs": []
    },
    {
      "cell_type": "code",
      "metadata": {
        "id": "BLSr5I-poikj"
      },
      "source": [
        "def get_nonzero_std(s): \n",
        "    index = s.sum(-1).sum(-1) != 0  \n",
        "    s = s[index]\n",
        "    if len(s) != 0:\n",
        "        s = s[:, :, 0].std() + s[:, :, 1].std() + s[:, :, 2].std()  \n",
        "    else:\n",
        "        s = 0\n",
        "    return s\n",
        "\n",
        "# Функция фильтр для того, что бы найти только координаты x,y,z(т.к. в датасете\n",
        "# хранится на порядок больше информации, нежели только координаты x,y,z)\n",
        "# (Остальные данные нам и не нужны, т.к. у нас нет ик-камер)\n",
        "def read_skeleton_filter(file):\n",
        "    with open(file, 'r') as f:\n",
        "        skeleton_sequence = {}\n",
        "        skeleton_sequence['numFrame'] = int(f.readline())\n",
        "        skeleton_sequence['frameInfo'] = []\n",
        "        for t in range(skeleton_sequence['numFrame']):\n",
        "            frame_info = {}\n",
        "            frame_info['numBody'] = int(f.readline())\n",
        "            frame_info['bodyInfo'] = []\n",
        "\n",
        "            for m in range(frame_info['numBody']):\n",
        "                body_info = {}\n",
        "                body_info_key = [\n",
        "                    'bodyID', 'clipedEdges', 'handLeftConfidence',\n",
        "                    'handLeftState', 'handRightConfidence', 'handRightState',\n",
        "                    'isResticted', 'leanX', 'leanY', 'trackingState'\n",
        "                ]\n",
        "                body_info = {\n",
        "                    k: float(v)\n",
        "                    for k, v in zip(body_info_key, f.readline().split())\n",
        "                }\n",
        "                body_info['numJoint'] = int(f.readline())\n",
        "                body_info['jointInfo'] = []\n",
        "                for v in range(body_info['numJoint']):\n",
        "                    joint_info_key = [\n",
        "                        'x', 'y', 'z', 'depthX', 'depthY', 'colorX', 'colorY',\n",
        "                        'orientationW', 'orientationX', 'orientationY',\n",
        "                        'orientationZ', 'trackingState'\n",
        "                    ]\n",
        "                    joint_info = {\n",
        "                        k: float(v)\n",
        "                        for k, v in zip(joint_info_key, f.readline().split())\n",
        "                    }\n",
        "                    body_info['jointInfo'].append(joint_info)\n",
        "                frame_info['bodyInfo'].append(body_info)\n",
        "            skeleton_sequence['frameInfo'].append(frame_info)\n",
        "\n",
        "    return skeleton_sequence\n",
        "\n",
        "def read_xyz(file, max_body=1, num_joint=25):\n",
        "    seq_info = read_skeleton_filter(file)\n",
        "    data = np.zeros((max_body, seq_info['numFrame'], num_joint, 3))\n",
        "    for n, f in enumerate(seq_info['frameInfo']):\n",
        "        for m, b in enumerate(f['bodyInfo']):\n",
        "            for j, v in enumerate(b['jointInfo']):\n",
        "                if m < max_body and j < num_joint:\n",
        "                    data[m, n, j, :] = [v['x'], v['y'], v['z']]\n",
        "\n",
        "                else:\n",
        "                    pass\n",
        "\n",
        "    return data"
      ],
      "execution_count": null,
      "outputs": []
    },
    {
      "cell_type": "markdown",
      "metadata": {
        "id": "Se6tqtghuM2O"
      },
      "source": [
        "В этой функции меняем количество фреймов подаваемых на вход модели\n",
        "В задании нужно пронаблюдать зависимость качества обучения модели от количества кадров, которые мы подаем в модель. Т.е. то, cколько кадров у нас отведено на один блок. В ноутбуке мы обучали модель на 45 кадрах. Вам предлагается посмотреть в меньшую или большую сторону.\n",
        "\n"
      ]
    },
    {
      "cell_type": "code",
      "metadata": {
        "id": "_KIm3Y8UuPDW"
      },
      "source": [
        "def create_coords_blocks(test_file, chonk_len = 35):   \n",
        "    frame_counter = 0\n",
        "    new_labels = []\n",
        "    new_frames = []\n",
        "    blocks = []\n",
        "    \n",
        "    test_frames = read_xyz(data_path + test_file[0])[0]\n",
        "    label = test_file[1]\n",
        "    slice_len = chonk_len * int(len(test_frames)/chonk_len)\n",
        "\n",
        "\n",
        "    for index in range(len(test_frames[:slice_len])):\n",
        "        frame_counter += 1\n",
        "        new_frames.append(test_frames[index].flatten())\n",
        "        if frame_counter == chonk_len:\n",
        "            frame_counter = 0\n",
        "            blocks.append(np.array(new_frames))\n",
        "            new_labels = new_labels + [label]\n",
        "            new_frames = []\n",
        "       \n",
        "            \n",
        "    return blocks, new_labels"
      ],
      "execution_count": null,
      "outputs": []
    },
    {
      "cell_type": "code",
      "metadata": {
        "colab": {
          "base_uri": "https://localhost:8080/"
        },
        "id": "Wtg4U-1SubU1",
        "outputId": "8e9dcd56-8fe4-46d4-f17a-381b426f5c9f"
      },
      "source": [
        "##### список файлов с лейблами на каждый файл \n",
        "working_files_with_labels, action_classes = read_data(data_path, broken_files_path)"
      ],
      "execution_count": null,
      "outputs": [
        {
          "output_type": "stream",
          "text": [
            "action classes:  {44: 0, 14: 1, 34: 2, 40: 3, 10: 4, 50: 5, 5: 6, 24: 7}\n",
            "action files:  {44: 120, 14: 120, 34: 120, 40: 120, 10: 120, 50: 120, 5: 120, 24: 120}\n"
          ],
          "name": "stdout"
        }
      ]
    },
    {
      "cell_type": "code",
      "metadata": {
        "colab": {
          "base_uri": "https://localhost:8080/"
        },
        "id": "agveMr59wkWn",
        "outputId": "d6001234-8dab-421a-864d-579f546d7247"
      },
      "source": [
        "LABELS = {v: k for k, v in action_classes.items()}\n",
        "print(LABELS)"
      ],
      "execution_count": null,
      "outputs": [
        {
          "output_type": "stream",
          "text": [
            "{0: 44, 1: 14, 2: 34, 3: 40, 4: 10, 5: 50, 6: 5, 7: 24}\n"
          ],
          "name": "stdout"
        }
      ]
    },
    {
      "cell_type": "code",
      "metadata": {
        "colab": {
          "base_uri": "https://localhost:8080/"
        },
        "id": "lmNd6QT-wtDq",
        "outputId": "944bdad2-30fd-4f61-e236-e14d606f7148"
      },
      "source": [
        "len(working_files_with_labels)"
      ],
      "execution_count": null,
      "outputs": [
        {
          "output_type": "execute_result",
          "data": {
            "text/plain": [
              "960"
            ]
          },
          "metadata": {
            "tags": []
          },
          "execution_count": 32
        }
      ]
    },
    {
      "cell_type": "code",
      "metadata": {
        "colab": {
          "base_uri": "https://localhost:8080/"
        },
        "id": "eMGq_J25zVJG",
        "outputId": "3dadeda0-84af-4842-9dc8-7bd58c900795"
      },
      "source": [
        "print(working_files_with_labels)"
      ],
      "execution_count": null,
      "outputs": [
        {
          "output_type": "stream",
          "text": [
            "[['S014C002P037R001A044.skeleton', 0], ['S008C001P030R001A014.skeleton', 1], ['S009C003P019R002A044.skeleton', 0], ['S011C002P017R002A034.skeleton', 2], ['S013C002P015R002A044.skeleton', 0], ['S008C003P030R002A014.skeleton', 1], ['S014C003P039R002A034.skeleton', 2], ['S006C001P007R002A014.skeleton', 1], ['S002C003P013R001A044.skeleton', 0], ['S003C001P016R001A034.skeleton', 2], ['S011C003P017R002A040.skeleton', 3], ['S013C001P027R001A044.skeleton', 0], ['S007C002P027R002A010.skeleton', 4], ['S007C001P017R002A050.skeleton', 5], ['S006C003P017R002A044.skeleton', 0], ['S013C003P008R001A044.skeleton', 0], ['S011C002P016R002A034.skeleton', 2], ['S007C002P008R002A014.skeleton', 1], ['S010C002P015R002A050.skeleton', 5], ['S010C002P025R001A005.skeleton', 6], ['S002C003P012R002A014.skeleton', 1], ['S012C003P016R002A005.skeleton', 6], ['S011C003P017R002A014.skeleton', 1], ['S013C003P016R002A050.skeleton', 5], ['S009C001P015R002A044.skeleton', 0], ['S010C001P025R001A005.skeleton', 6], ['S010C002P021R002A050.skeleton', 5], ['S013C002P019R002A010.skeleton', 4], ['S002C001P008R002A034.skeleton', 2], ['S007C001P001R001A044.skeleton', 0], ['S004C003P008R002A050.skeleton', 5], ['S015C002P008R002A044.skeleton', 0], ['S005C001P017R002A005.skeleton', 6], ['S014C003P017R002A050.skeleton', 5], ['S006C003P008R002A044.skeleton', 0], ['S007C003P016R002A050.skeleton', 5], ['S003C003P016R002A044.skeleton', 0], ['S003C001P019R002A014.skeleton', 1], ['S014C002P025R001A024.skeleton', 7], ['S010C003P019R002A024.skeleton', 7], ['S013C001P015R002A014.skeleton', 1], ['S012C001P025R002A050.skeleton', 5], ['S013C002P007R002A040.skeleton', 3], ['S002C003P010R001A050.skeleton', 5], ['S010C001P013R002A005.skeleton', 6], ['S002C003P014R002A005.skeleton', 6], ['S002C003P014R001A044.skeleton', 0], ['S012C003P016R001A014.skeleton', 1], ['S005C003P010R002A040.skeleton', 3], ['S011C002P027R001A034.skeleton', 2], ['S011C001P017R002A050.skeleton', 5], ['S008C003P015R001A024.skeleton', 7], ['S004C003P003R002A040.skeleton', 3], ['S012C002P018R002A034.skeleton', 2], ['S013C003P016R001A050.skeleton', 5], ['S002C002P008R002A034.skeleton', 2], ['S007C002P028R001A010.skeleton', 4], ['S010C002P019R002A034.skeleton', 2], ['S008C001P033R001A034.skeleton', 2], ['S013C003P028R002A005.skeleton', 6], ['S008C003P015R002A024.skeleton', 7], ['S010C002P017R002A044.skeleton', 0], ['S016C001P039R002A040.skeleton', 3], ['S012C003P007R001A044.skeleton', 0], ['S010C001P008R001A040.skeleton', 3], ['S002C003P013R002A034.skeleton', 2], ['S011C002P018R002A014.skeleton', 1], ['S017C002P009R002A010.skeleton', 4], ['S016C001P025R001A005.skeleton', 6], ['S007C002P019R001A040.skeleton', 3], ['S011C003P038R002A014.skeleton', 1], ['S017C001P009R001A010.skeleton', 4], ['S011C002P015R001A005.skeleton', 6], ['S011C001P015R002A014.skeleton', 1], ['S016C002P039R002A044.skeleton', 0], ['S001C002P008R001A034.skeleton', 2], ['S010C003P017R002A044.skeleton', 0], ['S016C001P008R002A050.skeleton', 5], ['S003C001P008R002A040.skeleton', 3], ['S012C003P015R002A010.skeleton', 4], ['S013C001P027R001A005.skeleton', 6], ['S008C001P036R002A044.skeleton', 0], ['S011C002P002R002A014.skeleton', 1], ['S003C003P018R002A024.skeleton', 7], ['S012C003P027R002A005.skeleton', 6], ['S010C002P007R001A014.skeleton', 1], ['S007C001P019R001A014.skeleton', 1], ['S005C002P010R001A050.skeleton', 5], ['S007C001P007R002A014.skeleton', 1], ['S006C003P024R002A044.skeleton', 0], ['S014C003P008R002A005.skeleton', 6], ['S012C002P028R002A014.skeleton', 1], ['S010C003P021R002A044.skeleton', 0], ['S008C001P036R001A005.skeleton', 6], ['S007C003P026R001A014.skeleton', 1], ['S011C002P016R001A014.skeleton', 1], ['S008C002P008R002A040.skeleton', 3], ['S008C001P029R002A010.skeleton', 4], ['S015C002P025R002A005.skeleton', 6], ['S011C003P001R002A034.skeleton', 2], ['S005C001P004R001A050.skeleton', 5], ['S012C003P018R001A014.skeleton', 1], ['S012C002P008R001A044.skeleton', 0], ['S012C002P007R002A040.skeleton', 3], ['S006C003P016R001A034.skeleton', 2], ['S014C002P025R001A040.skeleton', 3], ['S007C003P015R002A040.skeleton', 3], ['S011C001P001R002A040.skeleton', 3], ['S007C002P008R002A010.skeleton', 4], ['S012C002P008R002A034.skeleton', 2], ['S012C002P037R002A040.skeleton', 3], ['S013C001P025R001A040.skeleton', 3], ['S002C002P003R001A005.skeleton', 6], ['S011C003P016R002A050.skeleton', 5], ['S002C003P009R001A034.skeleton', 2], ['S007C001P027R002A034.skeleton', 2], ['S010C003P017R001A034.skeleton', 2], ['S009C001P025R001A014.skeleton', 1], ['S016C003P025R001A010.skeleton', 4], ['S008C001P025R002A040.skeleton', 3], ['S008C003P007R002A014.skeleton', 1], ['S004C002P020R001A010.skeleton', 4], ['S014C002P039R001A010.skeleton', 4], ['S003C003P008R002A005.skeleton', 6], ['S002C001P014R001A010.skeleton', 4], ['S006C003P019R001A040.skeleton', 3], ['S012C001P008R001A040.skeleton', 3], ['S008C001P029R002A024.skeleton', 7], ['S010C001P015R002A040.skeleton', 3], ['S005C001P021R002A005.skeleton', 6], ['S013C001P019R002A044.skeleton', 0], ['S012C002P015R002A044.skeleton', 0], ['S016C002P007R001A014.skeleton', 1], ['S012C003P037R001A010.skeleton', 4], ['S017C001P016R001A044.skeleton', 0], ['S003C001P019R001A050.skeleton', 5], ['S015C001P025R001A024.skeleton', 7], ['S011C001P016R001A044.skeleton', 0], ['S011C002P027R002A040.skeleton', 3], ['S017C003P016R001A024.skeleton', 7], ['S013C003P007R001A034.skeleton', 2], ['S010C003P025R002A044.skeleton', 0], ['S011C001P016R002A040.skeleton', 3], ['S003C002P018R002A024.skeleton', 7], ['S013C002P016R002A024.skeleton', 7], ['S013C002P018R002A014.skeleton', 1], ['S001C001P005R001A005.skeleton', 6], ['S013C002P025R001A050.skeleton', 5], ['S013C002P008R001A010.skeleton', 4], ['S014C001P039R002A024.skeleton', 7], ['S002C001P012R001A040.skeleton', 3], ['S003C001P017R002A010.skeleton', 4], ['S008C003P015R001A010.skeleton', 4], ['S007C001P018R002A010.skeleton', 4], ['S016C003P021R001A010.skeleton', 4], ['S013C002P016R002A014.skeleton', 1], ['S002C001P003R002A034.skeleton', 2], ['S012C002P017R002A044.skeleton', 0], ['S015C003P019R001A050.skeleton', 5], ['S006C002P015R002A010.skeleton', 4], ['S001C002P006R001A034.skeleton', 2], ['S017C002P003R001A005.skeleton', 6], ['S006C002P019R002A010.skeleton', 4], ['S010C003P025R002A005.skeleton', 6], ['S007C001P008R002A014.skeleton', 1], ['S003C001P017R002A005.skeleton', 6], ['S017C003P016R002A050.skeleton', 5], ['S017C003P008R002A034.skeleton', 2], ['S002C001P009R002A014.skeleton', 1], ['S002C003P007R002A005.skeleton', 6], ['S005C003P021R002A005.skeleton', 6], ['S015C001P019R002A040.skeleton', 3], ['S005C003P018R002A024.skeleton', 7], ['S012C003P037R002A024.skeleton', 7], ['S002C003P014R002A044.skeleton', 0], ['S002C002P003R002A010.skeleton', 4], ['S006C003P024R001A005.skeleton', 6], ['S001C003P001R002A005.skeleton', 6], ['S005C001P017R002A014.skeleton', 1], ['S017C003P007R002A010.skeleton', 4], ['S009C002P015R001A040.skeleton', 3], ['S007C002P016R001A010.skeleton', 4], ['S008C002P035R001A014.skeleton', 1], ['S006C001P023R002A034.skeleton', 2], ['S008C002P008R002A024.skeleton', 7], ['S002C001P012R002A024.skeleton', 7], ['S005C001P015R002A024.skeleton', 7], ['S016C002P039R002A024.skeleton', 7], ['S013C002P008R001A014.skeleton', 1], ['S017C002P008R002A010.skeleton', 4], ['S007C003P019R001A024.skeleton', 7], ['S010C003P016R001A014.skeleton', 1], ['S001C002P002R001A010.skeleton', 4], ['S007C001P017R001A010.skeleton', 4], ['S007C003P017R002A024.skeleton', 7], ['S008C002P019R001A050.skeleton', 5], ['S014C002P025R002A050.skeleton', 5], ['S007C003P008R002A034.skeleton', 2], ['S013C001P037R002A050.skeleton', 5], ['S014C001P017R002A044.skeleton', 0], ['S002C002P007R001A024.skeleton', 7], ['S011C003P002R001A034.skeleton', 2], ['S002C001P008R002A024.skeleton', 7], ['S002C003P009R002A034.skeleton', 2], ['S017C003P015R001A010.skeleton', 4], ['S005C001P016R002A034.skeleton', 2], ['S001C003P002R001A010.skeleton', 4], ['S011C002P028R001A024.skeleton', 7], ['S010C002P008R002A034.skeleton', 2], ['S014C002P007R001A014.skeleton', 1], ['S001C002P004R002A034.skeleton', 2], ['S002C003P008R002A040.skeleton', 3], ['S005C001P021R001A024.skeleton', 7], ['S011C002P001R002A005.skeleton', 6], ['S012C003P016R001A050.skeleton', 5], ['S016C002P008R001A044.skeleton', 0], ['S005C003P015R001A014.skeleton', 1], ['S001C003P002R001A044.skeleton', 0], ['S005C003P017R002A014.skeleton', 1], ['S011C001P018R002A010.skeleton', 4], ['S010C001P025R001A014.skeleton', 1], ['S005C003P004R001A024.skeleton', 7], ['S017C003P009R001A044.skeleton', 0], ['S003C002P007R002A010.skeleton', 4], ['S016C001P008R001A044.skeleton', 0], ['S011C001P028R002A005.skeleton', 6], ['S005C003P013R002A014.skeleton', 1], ['S012C003P008R002A044.skeleton', 0], ['S004C001P020R002A010.skeleton', 4], ['S009C002P019R001A005.skeleton', 6], ['S013C002P007R002A024.skeleton', 7], ['S017C003P008R002A050.skeleton', 5], ['S009C001P016R001A024.skeleton', 7], ['S001C001P006R002A044.skeleton', 0], ['S002C003P010R002A044.skeleton', 0], ['S003C001P001R002A040.skeleton', 3], ['S012C002P028R002A010.skeleton', 4], ['S015C002P017R001A044.skeleton', 0], ['S014C003P025R002A040.skeleton', 3], ['S009C003P025R001A005.skeleton', 6], ['S015C002P017R001A034.skeleton', 2], ['S003C002P001R002A010.skeleton', 4], ['S014C003P008R001A010.skeleton', 4], ['S010C002P008R001A014.skeleton', 1], ['S011C001P027R001A024.skeleton', 7], ['S014C001P008R001A040.skeleton', 3], ['S007C003P008R002A044.skeleton', 0], ['S005C001P015R001A014.skeleton', 1], ['S016C002P007R001A010.skeleton', 4], ['S016C003P019R001A050.skeleton', 5], ['S001C002P002R002A014.skeleton', 1], ['S010C001P015R001A044.skeleton', 0], ['S015C003P017R002A050.skeleton', 5], ['S006C002P015R001A034.skeleton', 2], ['S011C001P007R002A010.skeleton', 4], ['S014C003P025R002A024.skeleton', 7], ['S012C003P016R002A014.skeleton', 1], ['S016C003P019R002A005.skeleton', 6], ['S014C001P025R001A014.skeleton', 1], ['S002C003P010R002A050.skeleton', 5], ['S002C003P013R001A024.skeleton', 7], ['S014C003P007R002A034.skeleton', 2], ['S017C003P020R001A005.skeleton', 6], ['S010C001P021R001A024.skeleton', 7], ['S008C002P035R001A034.skeleton', 2], ['S010C002P008R001A044.skeleton', 0], ['S010C002P016R002A034.skeleton', 2], ['S003C001P007R001A014.skeleton', 1], ['S006C003P015R001A050.skeleton', 5], ['S009C003P025R001A050.skeleton', 5], ['S007C003P027R001A044.skeleton', 0], ['S012C003P027R002A050.skeleton', 5], ['S007C003P008R001A005.skeleton', 6], ['S017C003P020R002A040.skeleton', 3], ['S012C001P008R002A005.skeleton', 6], ['S012C001P007R001A050.skeleton', 5], ['S014C003P007R001A040.skeleton', 3], ['S011C001P017R002A044.skeleton', 0], ['S005C003P018R002A010.skeleton', 4], ['S016C002P021R001A040.skeleton', 3], ['S005C001P021R002A050.skeleton', 5], ['S017C002P003R002A034.skeleton', 2], ['S009C001P017R001A040.skeleton', 3], ['S012C002P037R002A034.skeleton', 2], ['S011C002P015R002A024.skeleton', 7], ['S003C003P002R002A014.skeleton', 1], ['S011C003P018R002A044.skeleton', 0], ['S014C002P027R002A005.skeleton', 6], ['S003C001P018R001A024.skeleton', 7], ['S015C002P037R001A040.skeleton', 3], ['S006C001P023R001A010.skeleton', 4], ['S008C001P015R001A044.skeleton', 0], ['S004C003P003R001A040.skeleton', 3], ['S005C001P013R001A005.skeleton', 6], ['S002C002P011R002A040.skeleton', 3], ['S008C002P007R002A014.skeleton', 1], ['S003C002P016R001A040.skeleton', 3], ['S006C002P022R001A040.skeleton', 3], ['S012C002P015R002A014.skeleton', 1], ['S001C003P004R002A040.skeleton', 3], ['S005C002P016R001A050.skeleton', 5], ['S007C002P016R001A005.skeleton', 6], ['S017C002P003R001A044.skeleton', 0], ['S002C001P011R001A050.skeleton', 5], ['S007C002P028R002A044.skeleton', 0], ['S017C002P017R001A044.skeleton', 0], ['S002C003P009R001A040.skeleton', 3], ['S010C001P021R001A005.skeleton', 6], ['S008C003P015R001A050.skeleton', 5], ['S004C003P020R001A040.skeleton', 3], ['S007C002P028R001A040.skeleton', 3], ['S005C002P018R001A050.skeleton', 5], ['S004C001P003R002A040.skeleton', 3], ['S007C002P007R001A005.skeleton', 6], ['S016C003P040R001A040.skeleton', 3], ['S017C001P008R002A034.skeleton', 2], ['S003C003P019R001A034.skeleton', 2], ['S006C001P024R002A024.skeleton', 7], ['S016C001P019R002A034.skeleton', 2], ['S003C003P018R001A040.skeleton', 3], ['S004C002P007R002A034.skeleton', 2], ['S006C003P024R002A005.skeleton', 6], ['S017C002P007R002A010.skeleton', 4], ['S011C002P002R002A024.skeleton', 7], ['S008C002P033R002A044.skeleton', 0], ['S008C003P031R001A040.skeleton', 3], ['S008C001P007R002A044.skeleton', 0], ['S010C003P025R001A050.skeleton', 5], ['S010C002P015R002A034.skeleton', 2], ['S006C003P016R001A005.skeleton', 6], ['S002C002P007R001A050.skeleton', 5], ['S013C001P008R002A005.skeleton', 6], ['S006C003P008R002A034.skeleton', 2], ['S006C003P019R002A024.skeleton', 7], ['S003C003P018R002A040.skeleton', 3], ['S009C003P025R001A014.skeleton', 1], ['S011C003P017R002A044.skeleton', 0], ['S005C002P018R002A044.skeleton', 0], ['S013C002P025R002A034.skeleton', 2], ['S010C001P016R002A044.skeleton', 0], ['S002C002P012R001A050.skeleton', 5], ['S007C003P015R001A005.skeleton', 6], ['S011C003P038R002A024.skeleton', 7], ['S009C002P007R002A050.skeleton', 5], ['S012C001P018R001A005.skeleton', 6], ['S006C002P001R001A034.skeleton', 2], ['S014C002P008R001A040.skeleton', 3], ['S007C003P017R002A014.skeleton', 1], ['S006C001P019R001A005.skeleton', 6], ['S011C003P002R002A044.skeleton', 0], ['S002C003P010R002A024.skeleton', 7], ['S006C002P008R002A040.skeleton', 3], ['S008C003P036R001A005.skeleton', 6], ['S015C001P017R001A010.skeleton', 4], ['S006C003P015R002A034.skeleton', 2], ['S007C002P007R001A014.skeleton', 1], ['S012C001P027R002A034.skeleton', 2], ['S003C003P002R001A050.skeleton', 5], ['S002C002P013R002A014.skeleton', 1], ['S001C003P007R001A014.skeleton', 1], ['S001C003P003R001A044.skeleton', 0], ['S016C002P008R001A005.skeleton', 6], ['S010C001P025R001A010.skeleton', 4], ['S013C003P016R002A040.skeleton', 3], ['S014C002P025R002A034.skeleton', 2], ['S005C003P016R002A040.skeleton', 3], ['S016C001P021R002A014.skeleton', 1], ['S008C001P007R002A034.skeleton', 2], ['S002C003P011R001A010.skeleton', 4], ['S012C002P018R001A010.skeleton', 4], ['S017C001P003R002A010.skeleton', 4], ['S007C003P017R002A010.skeleton', 4], ['S014C001P017R002A050.skeleton', 5], ['S017C001P003R001A050.skeleton', 5], ['S007C003P025R002A024.skeleton', 7], ['S013C001P016R001A010.skeleton', 4], ['S010C002P016R001A034.skeleton', 2], ['S007C001P015R001A040.skeleton', 3], ['S007C003P028R002A014.skeleton', 1], ['S006C002P001R002A050.skeleton', 5], ['S007C003P001R001A050.skeleton', 5], ['S017C002P008R002A014.skeleton', 1], ['S006C001P016R001A005.skeleton', 6], ['S007C001P016R002A044.skeleton', 0], ['S015C001P007R001A034.skeleton', 2], ['S011C002P038R002A040.skeleton', 3], ['S015C003P008R002A034.skeleton', 2], ['S014C001P037R001A010.skeleton', 4], ['S012C001P037R001A005.skeleton', 6], ['S011C003P028R002A040.skeleton', 3], ['S015C003P019R002A050.skeleton', 5], ['S002C001P010R001A040.skeleton', 3], ['S014C003P027R001A005.skeleton', 6], ['S008C002P029R002A050.skeleton', 5], ['S002C002P007R001A040.skeleton', 3], ['S011C001P008R002A040.skeleton', 3], ['S016C001P040R002A040.skeleton', 3], ['S006C001P015R001A005.skeleton', 6], ['S007C001P028R001A014.skeleton', 1], ['S007C002P007R002A024.skeleton', 7], ['S017C003P009R002A044.skeleton', 0], ['S010C003P008R001A010.skeleton', 4], ['S007C003P007R002A034.skeleton', 2], ['S002C001P011R002A010.skeleton', 4], ['S017C003P020R001A040.skeleton', 3], ['S013C002P027R001A034.skeleton', 2], ['S006C003P022R002A010.skeleton', 4], ['S002C001P014R002A050.skeleton', 5], ['S010C003P017R002A010.skeleton', 4], ['S016C001P039R001A050.skeleton', 5], ['S002C002P007R001A014.skeleton', 1], ['S017C003P007R002A044.skeleton', 0], ['S001C001P001R001A040.skeleton', 3], ['S003C002P007R002A005.skeleton', 6], ['S006C002P007R001A024.skeleton', 7], ['S001C002P008R002A050.skeleton', 5], ['S005C001P016R002A005.skeleton', 6], ['S017C002P007R002A024.skeleton', 7], ['S011C001P008R001A024.skeleton', 7], ['S006C001P023R002A050.skeleton', 5], ['S017C001P008R001A005.skeleton', 6], ['S004C001P007R002A005.skeleton', 6], ['S009C001P017R002A034.skeleton', 2], ['S010C002P007R001A005.skeleton', 6], ['S001C003P006R001A040.skeleton', 3], ['S005C003P017R001A005.skeleton', 6], ['S011C002P002R001A014.skeleton', 1], ['S012C002P007R001A040.skeleton', 3], ['S006C003P023R001A014.skeleton', 1], ['S001C002P003R002A010.skeleton', 4], ['S013C003P007R001A005.skeleton', 6], ['S014C003P027R001A034.skeleton', 2], ['S001C002P007R002A024.skeleton', 7], ['S002C002P011R001A044.skeleton', 0], ['S003C001P019R001A040.skeleton', 3], ['S011C002P025R001A044.skeleton', 0], ['S007C002P027R001A005.skeleton', 6], ['S005C003P015R001A005.skeleton', 6], ['S016C001P025R001A014.skeleton', 1], ['S009C003P017R002A044.skeleton', 0], ['S010C001P008R001A014.skeleton', 1], ['S009C003P015R001A034.skeleton', 2], ['S007C001P025R002A050.skeleton', 5], ['S014C003P027R002A040.skeleton', 3], ['S004C001P003R001A014.skeleton', 1], ['S015C001P015R002A044.skeleton', 0], ['S008C002P031R002A005.skeleton', 6], ['S008C003P032R002A010.skeleton', 4], ['S015C003P037R002A044.skeleton', 0], ['S014C002P039R002A040.skeleton', 3], ['S008C003P034R001A010.skeleton', 4], ['S015C003P025R002A044.skeleton', 0], ['S014C002P015R002A010.skeleton', 4], ['S005C001P017R002A050.skeleton', 5], ['S015C001P015R002A014.skeleton', 1], ['S003C003P019R002A044.skeleton', 0], ['S010C002P017R002A024.skeleton', 7], ['S013C003P016R001A014.skeleton', 1], ['S017C002P003R001A024.skeleton', 7], ['S002C003P012R001A034.skeleton', 2], ['S017C003P008R001A005.skeleton', 6], ['S002C003P011R002A024.skeleton', 7], ['S016C002P021R002A014.skeleton', 1], ['S001C001P001R001A005.skeleton', 6], ['S011C001P025R001A040.skeleton', 3], ['S009C002P008R001A010.skeleton', 4], ['S008C001P036R001A044.skeleton', 0], ['S003C001P015R002A034.skeleton', 2], ['S001C001P004R001A014.skeleton', 1], ['S009C003P019R001A050.skeleton', 5], ['S006C003P023R001A010.skeleton', 4], ['S007C001P025R001A005.skeleton', 6], ['S006C003P007R001A050.skeleton', 5], ['S010C003P017R001A010.skeleton', 4], ['S013C001P037R002A040.skeleton', 3], ['S010C001P017R002A040.skeleton', 3], ['S008C001P034R002A044.skeleton', 0], ['S017C002P017R001A014.skeleton', 1], ['S011C003P028R001A010.skeleton', 4], ['S016C001P007R002A034.skeleton', 2], ['S016C003P040R002A024.skeleton', 7], ['S016C003P040R001A034.skeleton', 2], ['S009C002P017R001A034.skeleton', 2], ['S007C001P018R001A010.skeleton', 4], ['S007C003P018R002A010.skeleton', 4], ['S002C001P003R001A044.skeleton', 0], ['S002C001P010R001A044.skeleton', 0], ['S007C001P028R001A044.skeleton', 0], ['S015C002P008R001A010.skeleton', 4], ['S012C003P007R001A024.skeleton', 7], ['S016C002P019R002A034.skeleton', 2], ['S015C001P008R002A010.skeleton', 4], ['S008C002P031R001A044.skeleton', 0], ['S015C003P037R001A005.skeleton', 6], ['S015C001P019R001A010.skeleton', 4], ['S008C002P030R002A050.skeleton', 5], ['S017C003P015R001A005.skeleton', 6], ['S013C001P019R001A034.skeleton', 2], ['S013C001P019R002A005.skeleton', 6], ['S014C002P039R001A044.skeleton', 0], ['S001C002P003R001A005.skeleton', 6], ['S002C003P009R002A005.skeleton', 6], ['S001C003P003R002A014.skeleton', 1], ['S006C001P017R001A024.skeleton', 7], ['S005C003P016R002A044.skeleton', 0], ['S013C003P027R001A050.skeleton', 5], ['S005C001P018R001A044.skeleton', 0], ['S003C001P016R001A050.skeleton', 5], ['S013C003P008R002A005.skeleton', 6], ['S002C002P007R002A044.skeleton', 0], ['S007C002P017R002A050.skeleton', 5], ['S006C001P016R001A010.skeleton', 4], ['S017C003P015R001A050.skeleton', 5], ['S009C001P007R001A040.skeleton', 3], ['S004C002P008R002A040.skeleton', 3], ['S017C001P003R001A005.skeleton', 6], ['S003C001P007R001A010.skeleton', 4], ['S003C001P015R001A014.skeleton', 1], ['S003C003P008R002A014.skeleton', 1], ['S013C003P008R002A040.skeleton', 3], ['S002C002P011R001A010.skeleton', 4], ['S016C003P039R001A005.skeleton', 6], ['S015C003P007R001A005.skeleton', 6], ['S011C003P015R001A010.skeleton', 4], ['S017C002P009R001A044.skeleton', 0], ['S001C003P008R002A005.skeleton', 6], ['S011C002P019R002A040.skeleton', 3], ['S008C001P007R001A010.skeleton', 4], ['S009C002P017R002A040.skeleton', 3], ['S016C003P007R002A010.skeleton', 4], ['S011C002P008R002A024.skeleton', 7], ['S007C002P028R002A005.skeleton', 6], ['S003C003P002R001A005.skeleton', 6], ['S006C001P023R001A024.skeleton', 7], ['S014C002P027R002A034.skeleton', 2], ['S011C003P025R002A040.skeleton', 3], ['S011C002P008R001A014.skeleton', 1], ['S008C001P001R001A040.skeleton', 3], ['S013C002P018R002A050.skeleton', 5], ['S012C003P037R002A034.skeleton', 2], ['S012C003P018R002A040.skeleton', 3], ['S016C003P007R002A050.skeleton', 5], ['S007C002P027R002A044.skeleton', 0], ['S013C002P015R002A010.skeleton', 4], ['S007C003P007R002A050.skeleton', 5], ['S007C002P017R001A034.skeleton', 2], ['S011C003P016R001A014.skeleton', 1], ['S009C002P008R002A040.skeleton', 3], ['S017C002P008R002A005.skeleton', 6], ['S006C003P001R001A010.skeleton', 4], ['S010C002P018R002A005.skeleton', 6], ['S012C003P019R001A024.skeleton', 7], ['S013C002P027R002A040.skeleton', 3], ['S001C002P003R001A040.skeleton', 3], ['S007C003P028R002A034.skeleton', 2], ['S008C001P030R001A005.skeleton', 6], ['S009C003P008R002A024.skeleton', 7], ['S016C002P025R001A044.skeleton', 0], ['S009C002P016R001A050.skeleton', 5], ['S008C002P001R002A050.skeleton', 5], ['S011C001P028R001A044.skeleton', 0], ['S012C003P025R002A034.skeleton', 2], ['S004C003P003R001A050.skeleton', 5], ['S004C003P003R001A024.skeleton', 7], ['S002C001P009R002A040.skeleton', 3], ['S012C003P015R002A024.skeleton', 7], ['S016C001P007R001A005.skeleton', 6], ['S017C001P009R002A044.skeleton', 0], ['S001C002P005R002A010.skeleton', 4], ['S005C002P015R002A044.skeleton', 0], ['S017C001P020R001A050.skeleton', 5], ['S009C003P015R001A044.skeleton', 0], ['S013C003P015R001A014.skeleton', 1], ['S011C001P027R002A044.skeleton', 0], ['S007C003P017R002A044.skeleton', 0], ['S005C003P018R001A044.skeleton', 0], ['S005C001P016R001A044.skeleton', 0], ['S012C002P027R002A014.skeleton', 1], ['S010C002P008R002A005.skeleton', 6], ['S001C002P003R001A010.skeleton', 4], ['S016C003P039R001A044.skeleton', 0], ['S012C002P007R002A050.skeleton', 5], ['S013C002P019R002A024.skeleton', 7], ['S015C003P019R001A044.skeleton', 0], ['S013C003P028R002A044.skeleton', 0], ['S009C003P025R001A024.skeleton', 7], ['S007C002P018R002A044.skeleton', 0], ['S003C002P002R002A040.skeleton', 3], ['S017C002P020R001A014.skeleton', 1], ['S005C001P016R001A034.skeleton', 2], ['S008C001P008R001A010.skeleton', 4], ['S005C001P018R001A034.skeleton', 2], ['S017C001P017R001A024.skeleton', 7], ['S017C001P015R001A044.skeleton', 0], ['S001C003P003R001A014.skeleton', 1], ['S011C002P027R001A044.skeleton', 0], ['S012C003P027R001A050.skeleton', 5], ['S007C003P025R001A050.skeleton', 5], ['S003C002P015R001A014.skeleton', 1], ['S006C003P022R002A024.skeleton', 7], ['S008C001P035R002A024.skeleton', 7], ['S007C001P018R002A014.skeleton', 1], ['S008C002P019R002A044.skeleton', 0], ['S014C003P007R001A014.skeleton', 1], ['S010C001P016R002A040.skeleton', 3], ['S016C003P008R002A014.skeleton', 1], ['S017C002P009R001A050.skeleton', 5], ['S012C003P007R001A040.skeleton', 3], ['S009C001P017R002A044.skeleton', 0], ['S012C001P018R001A024.skeleton', 7], ['S008C001P033R002A014.skeleton', 1], ['S007C001P016R002A034.skeleton', 2], ['S012C002P008R001A050.skeleton', 5], ['S016C003P021R001A005.skeleton', 6], ['S006C001P015R001A034.skeleton', 2], ['S005C003P016R001A044.skeleton', 0], ['S015C001P019R001A024.skeleton', 7], ['S011C003P027R002A040.skeleton', 3], ['S016C003P007R002A034.skeleton', 2], ['S013C002P019R002A040.skeleton', 3], ['S010C002P017R001A005.skeleton', 6], ['S007C003P001R002A010.skeleton', 4], ['S003C001P018R002A014.skeleton', 1], ['S001C001P006R001A024.skeleton', 7], ['S008C003P032R001A050.skeleton', 5], ['S008C001P015R001A005.skeleton', 6], ['S008C001P031R001A024.skeleton', 7], ['S013C003P008R001A014.skeleton', 1], ['S002C003P014R002A010.skeleton', 4], ['S010C003P019R002A010.skeleton', 4], ['S002C002P012R002A005.skeleton', 6], ['S016C003P039R002A034.skeleton', 2], ['S015C002P008R001A005.skeleton', 6], ['S008C003P001R002A040.skeleton', 3], ['S012C003P008R001A024.skeleton', 7], ['S013C003P017R002A034.skeleton', 2], ['S009C002P016R002A024.skeleton', 7], ['S013C003P016R002A014.skeleton', 1], ['S016C001P040R002A005.skeleton', 6], ['S008C002P031R002A010.skeleton', 4], ['S011C003P002R002A040.skeleton', 3], ['S013C002P017R002A010.skeleton', 4], ['S002C003P010R002A034.skeleton', 2], ['S016C003P007R001A005.skeleton', 6], ['S013C003P028R002A050.skeleton', 5], ['S005C001P013R002A005.skeleton', 6], ['S017C001P015R001A010.skeleton', 4], ['S007C003P007R001A010.skeleton', 4], ['S001C001P001R001A014.skeleton', 1], ['S002C003P011R002A040.skeleton', 3], ['S010C003P013R002A034.skeleton', 2], ['S009C003P008R001A024.skeleton', 7], ['S010C001P015R002A044.skeleton', 0], ['S010C003P016R002A034.skeleton', 2], ['S009C001P025R001A044.skeleton', 0], ['S014C002P015R001A024.skeleton', 7], ['S003C001P002R002A040.skeleton', 3], ['S013C001P016R001A040.skeleton', 3], ['S008C003P031R001A044.skeleton', 0], ['S011C003P008R002A040.skeleton', 3], ['S012C002P028R001A024.skeleton', 7], ['S002C002P014R002A024.skeleton', 7], ['S012C002P027R002A040.skeleton', 3], ['S010C002P018R002A024.skeleton', 7], ['S008C003P031R002A010.skeleton', 4], ['S015C002P008R001A034.skeleton', 2], ['S011C002P015R001A044.skeleton', 0], ['S002C001P008R002A040.skeleton', 3], ['S006C003P023R002A005.skeleton', 6], ['S011C002P019R001A040.skeleton', 3], ['S001C003P005R002A024.skeleton', 7], ['S010C003P007R002A040.skeleton', 3], ['S013C002P018R001A034.skeleton', 2], ['S002C003P008R002A044.skeleton', 0], ['S013C001P008R002A024.skeleton', 7], ['S015C001P019R001A044.skeleton', 0], ['S003C003P008R002A024.skeleton', 7], ['S011C001P007R001A040.skeleton', 3], ['S016C001P039R001A044.skeleton', 0], ['S001C003P001R002A034.skeleton', 2], ['S006C003P022R001A040.skeleton', 3], ['S009C001P015R001A010.skeleton', 4], ['S008C002P029R001A040.skeleton', 3], ['S005C003P013R002A044.skeleton', 0], ['S010C001P018R002A044.skeleton', 0], ['S009C003P015R002A005.skeleton', 6], ['S003C001P017R002A024.skeleton', 7], ['S004C003P020R001A010.skeleton', 4], ['S003C002P018R002A014.skeleton', 1], ['S015C003P008R001A034.skeleton', 2], ['S017C002P008R001A050.skeleton', 5], ['S003C002P019R002A050.skeleton', 5], ['S008C001P019R001A024.skeleton', 7], ['S010C001P013R001A024.skeleton', 7], ['S006C003P001R001A040.skeleton', 3], ['S005C003P010R002A010.skeleton', 4], ['S008C002P015R002A040.skeleton', 3], ['S007C003P028R001A034.skeleton', 2], ['S016C001P039R002A034.skeleton', 2], ['S010C002P007R002A005.skeleton', 6], ['S017C001P003R001A010.skeleton', 4], ['S002C003P012R001A024.skeleton', 7], ['S006C002P015R002A050.skeleton', 5], ['S011C002P038R001A005.skeleton', 6], ['S010C001P015R002A005.skeleton', 6], ['S011C003P025R001A014.skeleton', 1], ['S008C003P001R002A010.skeleton', 4], ['S012C003P008R001A014.skeleton', 1], ['S008C003P025R002A024.skeleton', 7], ['S017C001P009R001A034.skeleton', 2], ['S008C001P032R002A014.skeleton', 1], ['S017C002P003R002A024.skeleton', 7], ['S012C003P027R001A014.skeleton', 1], ['S004C002P003R002A034.skeleton', 2], ['S006C001P015R001A050.skeleton', 5], ['S014C002P027R001A050.skeleton', 5], ['S003C002P019R002A010.skeleton', 4], ['S012C001P008R002A044.skeleton', 0], ['S010C001P018R001A040.skeleton', 3], ['S004C002P008R002A034.skeleton', 2], ['S001C001P003R002A040.skeleton', 3], ['S012C002P007R002A024.skeleton', 7], ['S008C003P035R001A010.skeleton', 4], ['S010C001P016R002A050.skeleton', 5], ['S007C002P025R001A024.skeleton', 7], ['S006C001P015R001A024.skeleton', 7], ['S005C003P018R001A010.skeleton', 4], ['S011C002P008R001A034.skeleton', 2], ['S017C001P009R001A005.skeleton', 6], ['S015C001P008R001A010.skeleton', 4], ['S007C002P017R001A024.skeleton', 7], ['S010C002P019R002A050.skeleton', 5], ['S006C001P023R001A034.skeleton', 2], ['S012C002P028R001A010.skeleton', 4], ['S008C003P019R002A010.skeleton', 4], ['S017C001P003R002A034.skeleton', 2], ['S016C002P008R001A014.skeleton', 1], ['S017C003P017R001A014.skeleton', 1], ['S002C003P009R001A044.skeleton', 0], ['S003C003P017R001A040.skeleton', 3], ['S013C001P037R001A005.skeleton', 6], ['S015C003P008R002A050.skeleton', 5], ['S007C003P007R002A014.skeleton', 1], ['S004C002P020R002A005.skeleton', 6], ['S005C001P018R001A040.skeleton', 3], ['S011C003P016R001A040.skeleton', 3], ['S001C002P005R002A040.skeleton', 3], ['S012C001P018R002A010.skeleton', 4], ['S014C002P017R002A050.skeleton', 5], ['S010C001P018R002A040.skeleton', 3], ['S010C001P025R002A040.skeleton', 3], ['S013C001P016R002A010.skeleton', 4], ['S008C002P008R001A040.skeleton', 3], ['S010C003P016R001A005.skeleton', 6], ['S001C001P004R002A010.skeleton', 4], ['S001C001P003R002A014.skeleton', 1], ['S007C002P019R001A024.skeleton', 7], ['S014C002P037R002A040.skeleton', 3], ['S008C003P019R002A014.skeleton', 1], ['S003C003P018R002A010.skeleton', 4], ['S003C003P007R001A034.skeleton', 2], ['S009C003P019R001A024.skeleton', 7], ['S005C001P013R001A040.skeleton', 3], ['S009C001P025R001A010.skeleton', 4], ['S007C001P001R002A050.skeleton', 5], ['S006C002P023R002A014.skeleton', 1], ['S002C002P014R001A010.skeleton', 4], ['S013C002P027R001A005.skeleton', 6], ['S014C001P025R001A044.skeleton', 0], ['S010C003P025R001A044.skeleton', 0], ['S007C002P027R002A040.skeleton', 3], ['S017C002P017R002A024.skeleton', 7], ['S012C002P018R002A014.skeleton', 1], ['S014C001P037R002A005.skeleton', 6], ['S010C003P018R002A005.skeleton', 6], ['S013C002P028R001A040.skeleton', 3], ['S011C001P027R002A034.skeleton', 2], ['S010C001P013R001A005.skeleton', 6], ['S007C003P017R002A034.skeleton', 2], ['S012C001P027R002A014.skeleton', 1], ['S006C001P017R001A014.skeleton', 1], ['S015C003P015R001A040.skeleton', 3], ['S006C001P019R001A040.skeleton', 3], ['S003C003P015R001A014.skeleton', 1], ['S008C001P001R002A010.skeleton', 4], ['S011C002P025R001A010.skeleton', 4], ['S007C003P008R001A014.skeleton', 1], ['S009C003P016R002A005.skeleton', 6], ['S005C003P015R002A024.skeleton', 7], ['S014C002P017R001A024.skeleton', 7], ['S010C001P013R001A034.skeleton', 2], ['S014C001P039R002A050.skeleton', 5], ['S014C003P019R001A050.skeleton', 5], ['S007C002P017R002A040.skeleton', 3], ['S013C003P028R002A034.skeleton', 2], ['S003C001P017R002A014.skeleton', 1], ['S009C001P015R001A040.skeleton', 3], ['S017C003P008R002A040.skeleton', 3], ['S002C002P012R002A044.skeleton', 0], ['S008C001P029R002A034.skeleton', 2], ['S013C002P025R001A005.skeleton', 6], ['S006C002P001R002A010.skeleton', 4], ['S005C001P010R001A010.skeleton', 4], ['S012C002P017R001A010.skeleton', 4], ['S013C003P037R002A044.skeleton', 0], ['S003C002P017R001A034.skeleton', 2], ['S008C003P025R001A024.skeleton', 7], ['S002C003P007R001A014.skeleton', 1], ['S011C002P025R002A034.skeleton', 2], ['S007C003P019R002A024.skeleton', 7], ['S017C001P015R001A024.skeleton', 7], ['S012C003P008R002A005.skeleton', 6], ['S015C003P025R001A005.skeleton', 6], ['S004C002P020R002A034.skeleton', 2], ['S013C001P027R001A024.skeleton', 7], ['S013C001P008R001A005.skeleton', 6], ['S003C002P002R002A024.skeleton', 7], ['S012C002P037R001A044.skeleton', 0], ['S006C002P015R001A010.skeleton', 4], ['S010C001P016R002A010.skeleton', 4], ['S016C003P007R001A014.skeleton', 1], ['S001C003P006R002A034.skeleton', 2], ['S015C002P008R002A040.skeleton', 3], ['S010C001P017R002A005.skeleton', 6], ['S011C003P001R001A040.skeleton', 3], ['S012C001P017R002A024.skeleton', 7], ['S001C003P004R001A040.skeleton', 3], ['S009C002P019R001A024.skeleton', 7], ['S003C002P007R001A034.skeleton', 2], ['S007C001P001R001A034.skeleton', 2], ['S013C001P016R002A050.skeleton', 5], ['S011C002P015R002A014.skeleton', 1], ['S014C002P007R002A044.skeleton', 0], ['S012C002P007R001A010.skeleton', 4], ['S002C002P013R001A005.skeleton', 6], ['S016C003P025R001A050.skeleton', 5], ['S012C001P015R001A005.skeleton', 6], ['S010C003P019R001A034.skeleton', 2], ['S015C001P037R001A005.skeleton', 6], ['S012C001P017R001A044.skeleton', 0], ['S013C003P028R001A034.skeleton', 2], ['S008C002P025R002A014.skeleton', 1], ['S005C003P018R002A034.skeleton', 2], ['S008C001P033R002A044.skeleton', 0], ['S003C003P001R001A034.skeleton', 2], ['S009C003P017R001A010.skeleton', 4], ['S003C003P007R002A010.skeleton', 4], ['S009C002P025R002A024.skeleton', 7], ['S017C001P020R001A024.skeleton', 7], ['S004C003P003R001A010.skeleton', 4], ['S002C003P011R002A034.skeleton', 2], ['S010C001P015R002A024.skeleton', 7], ['S016C002P008R002A034.skeleton', 2], ['S017C001P015R002A034.skeleton', 2], ['S002C002P009R002A024.skeleton', 7], ['S013C003P027R001A005.skeleton', 6], ['S014C002P019R001A034.skeleton', 2], ['S015C003P015R002A050.skeleton', 5], ['S002C002P013R001A050.skeleton', 5], ['S013C003P008R001A005.skeleton', 6], ['S014C001P019R001A014.skeleton', 1], ['S007C002P017R002A010.skeleton', 4], ['S006C003P019R001A024.skeleton', 7], ['S013C002P025R002A044.skeleton', 0], ['S016C003P025R002A034.skeleton', 2], ['S013C001P018R002A050.skeleton', 5], ['S003C002P007R001A010.skeleton', 4], ['S005C003P004R001A014.skeleton', 1], ['S016C002P039R001A050.skeleton', 5], ['S007C003P016R001A014.skeleton', 1], ['S004C003P007R001A010.skeleton', 4], ['S014C002P039R001A050.skeleton', 5], ['S008C003P025R002A044.skeleton', 0], ['S011C001P018R001A044.skeleton', 0], ['S012C003P037R001A034.skeleton', 2], ['S008C003P029R002A050.skeleton', 5], ['S012C001P037R002A005.skeleton', 6], ['S015C002P015R001A050.skeleton', 5], ['S007C001P019R001A034.skeleton', 2], ['S013C003P017R001A050.skeleton', 5], ['S014C001P027R002A024.skeleton', 7], ['S001C001P005R001A014.skeleton', 1], ['S016C001P008R001A010.skeleton', 4], ['S012C003P037R002A014.skeleton', 1], ['S015C001P017R002A044.skeleton', 0], ['S007C002P008R002A044.skeleton', 0], ['S011C001P038R001A050.skeleton', 5], ['S014C001P037R001A044.skeleton', 0], ['S001C001P003R002A005.skeleton', 6], ['S004C003P020R002A034.skeleton', 2], ['S015C001P017R001A050.skeleton', 5], ['S003C001P002R001A034.skeleton', 2], ['S006C001P022R002A024.skeleton', 7], ['S011C002P001R001A034.skeleton', 2], ['S017C002P017R002A005.skeleton', 6], ['S013C003P018R002A014.skeleton', 1], ['S011C002P015R002A010.skeleton', 4], ['S011C002P016R002A010.skeleton', 4], ['S007C002P017R001A005.skeleton', 6], ['S011C001P018R001A010.skeleton', 4], ['S003C001P002R001A024.skeleton', 7], ['S012C003P007R002A050.skeleton', 5], ['S005C003P015R001A050.skeleton', 5], ['S010C002P018R002A010.skeleton', 4], ['S012C001P028R001A005.skeleton', 6], ['S017C002P008R001A010.skeleton', 4], ['S007C002P019R001A044.skeleton', 0], ['S008C001P032R001A034.skeleton', 2], ['S009C002P019R001A050.skeleton', 5], ['S003C003P008R001A005.skeleton', 6], ['S013C001P028R001A014.skeleton', 1], ['S011C003P019R002A024.skeleton', 7], ['S013C001P037R002A034.skeleton', 2], ['S003C001P015R002A050.skeleton', 5], ['S008C002P034R001A050.skeleton', 5], ['S009C001P025R002A014.skeleton', 1], ['S002C003P014R001A014.skeleton', 1], ['S007C001P016R002A014.skeleton', 1], ['S016C002P025R001A050.skeleton', 5], ['S011C002P025R001A014.skeleton', 1], ['S009C002P008R002A005.skeleton', 6], ['S004C003P020R001A050.skeleton', 5], ['S012C001P025R001A014.skeleton', 1], ['S016C003P007R002A024.skeleton', 7], ['S014C001P019R002A014.skeleton', 1], ['S006C001P015R001A014.skeleton', 1], ['S006C001P019R001A050.skeleton', 5], ['S003C002P019R002A005.skeleton', 6], ['S007C001P019R002A014.skeleton', 1], ['S001C001P005R002A014.skeleton', 1], ['S011C002P015R002A034.skeleton', 2], ['S011C003P007R001A024.skeleton', 7], ['S013C001P016R002A034.skeleton', 2], ['S006C002P016R002A024.skeleton', 7], ['S002C003P007R001A024.skeleton', 7], ['S016C003P008R002A024.skeleton', 7], ['S003C003P016R002A050.skeleton', 5], ['S008C001P007R002A024.skeleton', 7], ['S014C001P007R001A024.skeleton', 7], ['S012C002P015R002A050.skeleton', 5], ['S017C003P003R002A050.skeleton', 5], ['S005C001P017R002A024.skeleton', 7], ['S012C003P037R001A050.skeleton', 5], ['S001C002P003R002A050.skeleton', 5], ['S006C003P019R002A050.skeleton', 5], ['S001C003P004R002A024.skeleton', 7], ['S009C002P017R001A050.skeleton', 5], ['S011C003P025R001A050.skeleton', 5], ['S007C002P015R002A024.skeleton', 7], ['S011C002P008R001A050.skeleton', 5], ['S005C001P018R001A050.skeleton', 5], ['S002C001P003R001A050.skeleton', 5], ['S001C001P008R001A024.skeleton', 7], ['S001C002P008R001A050.skeleton', 5], ['S006C002P008R001A050.skeleton', 5], ['S003C001P015R001A050.skeleton', 5], ['S007C002P028R002A024.skeleton', 7], ['S005C001P016R002A024.skeleton', 7], ['S007C003P026R001A024.skeleton', 7], ['S014C001P017R001A024.skeleton', 7]]\n"
          ],
          "name": "stdout"
        }
      ]
    },
    {
      "cell_type": "code",
      "metadata": {
        "id": "BKx93rf2wtgk"
      },
      "source": [
        "data = []\n",
        "labels = []\n",
        "##########################################################################\n",
        "numbers = {x: 0 for x in range(len(action_classes))} #####\n",
        "##################################################################\n",
        "for file in working_files_with_labels:\n",
        "    frames_blocks, label = create_coords_blocks(file)\n",
        "    if label != [] and numbers[label[0]] <= 150:\n",
        "        numbers[label[0]] = numbers[label[0]] + len(label)\n",
        "        data = data + frames_blocks\n",
        "        labels = labels + label\n",
        "data_np = np.asarray(data)\n",
        "labels_np = np.asarray(labels)\n",
        "\n",
        "data_sq = data_np.reshape(len(data_np), -1)\n",
        "test_data = pd.DataFrame(data_sq)\n",
        "test_labels = pd.DataFrame(labels_np)\n",
        "test_data['labels'] = test_labels"
      ],
      "execution_count": null,
      "outputs": []
    },
    {
      "cell_type": "markdown",
      "metadata": {
        "id": "DDXWvzR7w0aa"
      },
      "source": [
        "Итоговый файл для загрузки"
      ]
    },
    {
      "cell_type": "code",
      "metadata": {
        "id": "aKzvR3vzwvyv",
        "colab": {
          "base_uri": "https://localhost:8080/",
          "height": 163
        },
        "outputId": "324b4a13-cd8c-48f0-ca48-04c98800773a"
      },
      "source": [
        "test_data.to_csv(\"skeletons_classes_35.csv\", index = False)"
      ],
      "execution_count": null,
      "outputs": [
        {
          "output_type": "error",
          "ename": "NameError",
          "evalue": "ignored",
          "traceback": [
            "\u001b[0;31m---------------------------------------------------------------------------\u001b[0m",
            "\u001b[0;31mNameError\u001b[0m                                 Traceback (most recent call last)",
            "\u001b[0;32m<ipython-input-2-49f6679ab58c>\u001b[0m in \u001b[0;36m<module>\u001b[0;34m()\u001b[0m\n\u001b[0;32m----> 1\u001b[0;31m \u001b[0mtest_data\u001b[0m\u001b[0;34m.\u001b[0m\u001b[0mto_csv\u001b[0m\u001b[0;34m(\u001b[0m\u001b[0;34m\"skeletons_classes_35.csv\"\u001b[0m\u001b[0;34m,\u001b[0m \u001b[0mindex\u001b[0m \u001b[0;34m=\u001b[0m \u001b[0;32mFalse\u001b[0m\u001b[0;34m)\u001b[0m\u001b[0;34m\u001b[0m\u001b[0;34m\u001b[0m\u001b[0m\n\u001b[0m",
            "\u001b[0;31mNameError\u001b[0m: name 'test_data' is not defined"
          ]
        }
      ]
    },
    {
      "cell_type": "code",
      "metadata": {
        "id": "XB86Q26NJz3v"
      },
      "source": [
        "from torchvision import transforms"
      ],
      "execution_count": null,
      "outputs": []
    },
    {
      "cell_type": "code",
      "metadata": {
        "id": "l8YkOs9IJ1BC"
      },
      "source": [
        "from PIL import Image\n",
        "import matplotlib.pyplot as plt\n",
        "%matplotlib inline"
      ],
      "execution_count": null,
      "outputs": []
    },
    {
      "cell_type": "code",
      "metadata": {
        "colab": {
          "base_uri": "https://localhost:8080/"
        },
        "id": "ErtCukpu1-xP",
        "outputId": "bd0f9eb2-0e0d-446b-9977-9748552c81da"
      },
      "source": [
        "import torch\n",
        "from torch import nn\n",
        "import numpy as np\n",
        "import matplotlib.pyplot as plt\n",
        "import pandas as pd\n",
        "import torch\n",
        "import matplotlib.pyplot as plt\n",
        "import torchvision\n",
        "from torchvision import datasets\n",
        "from torch.utils.data import DataLoader, Dataset\n",
        "from torch import optim\n",
        "import time\n",
        "import math\n",
        "\n",
        "use_cuda = torch.cuda.is_available()\n",
        "# device = torch.device(\"cpu\")\n",
        "device = torch.device('cuda') if torch.cuda.is_available() else torch.device('cpu')\n",
        "print(device)"
      ],
      "execution_count": null,
      "outputs": [
        {
          "output_type": "stream",
          "text": [
            "cpu\n"
          ],
          "name": "stdout"
        }
      ]
    },
    {
      "cell_type": "code",
      "metadata": {
        "id": "wXBFB6Ky25Mh"
      },
      "source": [
        "skeletons = pd.read_csv(\"skeletons_classes_35.csv\")"
      ],
      "execution_count": null,
      "outputs": []
    },
    {
      "cell_type": "code",
      "metadata": {
        "id": "B86pkFLA3C01"
      },
      "source": [
        "LABELS = {0: \"headache\", 1: \"wear jacket\", 2:  \"rub two hands together\", 3: \"cross hands in front\", 4: \"clapping\", 5: \"slapping other person\", 6: \"drop\", 7:  \"kicking something\"}"
      ],
      "execution_count": null,
      "outputs": []
    },
    {
      "cell_type": "code",
      "metadata": {
        "colab": {
          "base_uri": "https://localhost:8080/",
          "height": 255
        },
        "id": "GfRvFPYe7qMM",
        "outputId": "7eff345a-2d51-4ae5-a9fb-663ae9745722"
      },
      "source": [
        "skeletons.head()"
      ],
      "execution_count": null,
      "outputs": [
        {
          "output_type": "execute_result",
          "data": {
            "text/html": [
              "<div>\n",
              "<style scoped>\n",
              "    .dataframe tbody tr th:only-of-type {\n",
              "        vertical-align: middle;\n",
              "    }\n",
              "\n",
              "    .dataframe tbody tr th {\n",
              "        vertical-align: top;\n",
              "    }\n",
              "\n",
              "    .dataframe thead th {\n",
              "        text-align: right;\n",
              "    }\n",
              "</style>\n",
              "<table border=\"1\" class=\"dataframe\">\n",
              "  <thead>\n",
              "    <tr style=\"text-align: right;\">\n",
              "      <th></th>\n",
              "      <th>0</th>\n",
              "      <th>1</th>\n",
              "      <th>2</th>\n",
              "      <th>3</th>\n",
              "      <th>4</th>\n",
              "      <th>5</th>\n",
              "      <th>6</th>\n",
              "      <th>7</th>\n",
              "      <th>8</th>\n",
              "      <th>9</th>\n",
              "      <th>10</th>\n",
              "      <th>11</th>\n",
              "      <th>12</th>\n",
              "      <th>13</th>\n",
              "      <th>14</th>\n",
              "      <th>15</th>\n",
              "      <th>16</th>\n",
              "      <th>17</th>\n",
              "      <th>18</th>\n",
              "      <th>19</th>\n",
              "      <th>20</th>\n",
              "      <th>21</th>\n",
              "      <th>22</th>\n",
              "      <th>23</th>\n",
              "      <th>24</th>\n",
              "      <th>25</th>\n",
              "      <th>26</th>\n",
              "      <th>27</th>\n",
              "      <th>28</th>\n",
              "      <th>29</th>\n",
              "      <th>30</th>\n",
              "      <th>31</th>\n",
              "      <th>32</th>\n",
              "      <th>33</th>\n",
              "      <th>34</th>\n",
              "      <th>35</th>\n",
              "      <th>36</th>\n",
              "      <th>37</th>\n",
              "      <th>38</th>\n",
              "      <th>39</th>\n",
              "      <th>...</th>\n",
              "      <th>2586</th>\n",
              "      <th>2587</th>\n",
              "      <th>2588</th>\n",
              "      <th>2589</th>\n",
              "      <th>2590</th>\n",
              "      <th>2591</th>\n",
              "      <th>2592</th>\n",
              "      <th>2593</th>\n",
              "      <th>2594</th>\n",
              "      <th>2595</th>\n",
              "      <th>2596</th>\n",
              "      <th>2597</th>\n",
              "      <th>2598</th>\n",
              "      <th>2599</th>\n",
              "      <th>2600</th>\n",
              "      <th>2601</th>\n",
              "      <th>2602</th>\n",
              "      <th>2603</th>\n",
              "      <th>2604</th>\n",
              "      <th>2605</th>\n",
              "      <th>2606</th>\n",
              "      <th>2607</th>\n",
              "      <th>2608</th>\n",
              "      <th>2609</th>\n",
              "      <th>2610</th>\n",
              "      <th>2611</th>\n",
              "      <th>2612</th>\n",
              "      <th>2613</th>\n",
              "      <th>2614</th>\n",
              "      <th>2615</th>\n",
              "      <th>2616</th>\n",
              "      <th>2617</th>\n",
              "      <th>2618</th>\n",
              "      <th>2619</th>\n",
              "      <th>2620</th>\n",
              "      <th>2621</th>\n",
              "      <th>2622</th>\n",
              "      <th>2623</th>\n",
              "      <th>2624</th>\n",
              "      <th>labels</th>\n",
              "    </tr>\n",
              "  </thead>\n",
              "  <tbody>\n",
              "    <tr>\n",
              "      <th>0</th>\n",
              "      <td>-0.110578</td>\n",
              "      <td>0.165554</td>\n",
              "      <td>3.742496</td>\n",
              "      <td>-0.160390</td>\n",
              "      <td>0.456740</td>\n",
              "      <td>3.629033</td>\n",
              "      <td>-0.191902</td>\n",
              "      <td>0.745907</td>\n",
              "      <td>3.517724</td>\n",
              "      <td>-0.233563</td>\n",
              "      <td>0.841947</td>\n",
              "      <td>3.546097</td>\n",
              "      <td>-0.255945</td>\n",
              "      <td>0.586194</td>\n",
              "      <td>3.428878</td>\n",
              "      <td>-0.231815</td>\n",
              "      <td>0.392934</td>\n",
              "      <td>3.479745</td>\n",
              "      <td>-0.177386</td>\n",
              "      <td>0.203693</td>\n",
              "      <td>3.539481</td>\n",
              "      <td>-0.171919</td>\n",
              "      <td>0.169102</td>\n",
              "      <td>3.591995</td>\n",
              "      <td>-0.170232</td>\n",
              "      <td>0.605299</td>\n",
              "      <td>3.460537</td>\n",
              "      <td>-0.183199</td>\n",
              "      <td>0.332012</td>\n",
              "      <td>3.493649</td>\n",
              "      <td>-0.245992</td>\n",
              "      <td>0.088710</td>\n",
              "      <td>3.593519</td>\n",
              "      <td>-0.261579</td>\n",
              "      <td>0.029400</td>\n",
              "      <td>3.633067</td>\n",
              "      <td>-0.167048</td>\n",
              "      <td>0.158798</td>\n",
              "      <td>3.734176</td>\n",
              "      <td>-0.117432</td>\n",
              "      <td>...</td>\n",
              "      <td>-0.282623</td>\n",
              "      <td>0.151462</td>\n",
              "      <td>3.726731</td>\n",
              "      <td>-0.139473</td>\n",
              "      <td>-0.128355</td>\n",
              "      <td>3.905732</td>\n",
              "      <td>-0.128918</td>\n",
              "      <td>-0.495479</td>\n",
              "      <td>4.011112</td>\n",
              "      <td>-0.158818</td>\n",
              "      <td>-0.544631</td>\n",
              "      <td>3.918616</td>\n",
              "      <td>-0.171226</td>\n",
              "      <td>0.146795</td>\n",
              "      <td>3.679225</td>\n",
              "      <td>-0.224953</td>\n",
              "      <td>-0.158432</td>\n",
              "      <td>3.794661</td>\n",
              "      <td>-0.162005</td>\n",
              "      <td>-0.535874</td>\n",
              "      <td>3.961334</td>\n",
              "      <td>-0.205520</td>\n",
              "      <td>-0.602862</td>\n",
              "      <td>3.922297</td>\n",
              "      <td>-0.192592</td>\n",
              "      <td>0.661955</td>\n",
              "      <td>3.529910</td>\n",
              "      <td>-0.320168</td>\n",
              "      <td>0.780955</td>\n",
              "      <td>3.401313</td>\n",
              "      <td>-0.299214</td>\n",
              "      <td>0.695292</td>\n",
              "      <td>3.376007</td>\n",
              "      <td>-0.353337</td>\n",
              "      <td>0.777761</td>\n",
              "      <td>3.401335</td>\n",
              "      <td>-0.319847</td>\n",
              "      <td>0.697825</td>\n",
              "      <td>3.378924</td>\n",
              "      <td>0.0</td>\n",
              "    </tr>\n",
              "    <tr>\n",
              "      <th>1</th>\n",
              "      <td>-0.227082</td>\n",
              "      <td>0.153707</td>\n",
              "      <td>3.737444</td>\n",
              "      <td>-0.205563</td>\n",
              "      <td>0.448503</td>\n",
              "      <td>3.621592</td>\n",
              "      <td>-0.188903</td>\n",
              "      <td>0.731287</td>\n",
              "      <td>3.494673</td>\n",
              "      <td>-0.248611</td>\n",
              "      <td>0.802914</td>\n",
              "      <td>3.497801</td>\n",
              "      <td>-0.255655</td>\n",
              "      <td>0.585055</td>\n",
              "      <td>3.406049</td>\n",
              "      <td>-0.398257</td>\n",
              "      <td>0.439023</td>\n",
              "      <td>3.373261</td>\n",
              "      <td>-0.361457</td>\n",
              "      <td>0.635650</td>\n",
              "      <td>3.386219</td>\n",
              "      <td>-0.336959</td>\n",
              "      <td>0.698129</td>\n",
              "      <td>3.399756</td>\n",
              "      <td>-0.127427</td>\n",
              "      <td>0.593246</td>\n",
              "      <td>3.453730</td>\n",
              "      <td>-0.307924</td>\n",
              "      <td>0.460749</td>\n",
              "      <td>3.359283</td>\n",
              "      <td>-0.389783</td>\n",
              "      <td>0.640786</td>\n",
              "      <td>3.382567</td>\n",
              "      <td>-0.348760</td>\n",
              "      <td>0.662373</td>\n",
              "      <td>3.394476</td>\n",
              "      <td>-0.280004</td>\n",
              "      <td>0.150356</td>\n",
              "      <td>3.714141</td>\n",
              "      <td>-0.137217</td>\n",
              "      <td>...</td>\n",
              "      <td>-0.281747</td>\n",
              "      <td>0.149119</td>\n",
              "      <td>3.708046</td>\n",
              "      <td>-0.136884</td>\n",
              "      <td>-0.125617</td>\n",
              "      <td>3.925501</td>\n",
              "      <td>-0.097572</td>\n",
              "      <td>-0.492971</td>\n",
              "      <td>4.058024</td>\n",
              "      <td>-0.119666</td>\n",
              "      <td>-0.557340</td>\n",
              "      <td>3.979377</td>\n",
              "      <td>-0.165434</td>\n",
              "      <td>0.142456</td>\n",
              "      <td>3.676856</td>\n",
              "      <td>-0.221257</td>\n",
              "      <td>-0.158451</td>\n",
              "      <td>3.794039</td>\n",
              "      <td>-0.183672</td>\n",
              "      <td>-0.498453</td>\n",
              "      <td>3.925175</td>\n",
              "      <td>-0.159300</td>\n",
              "      <td>-0.565721</td>\n",
              "      <td>3.825293</td>\n",
              "      <td>-0.201968</td>\n",
              "      <td>0.659269</td>\n",
              "      <td>3.520385</td>\n",
              "      <td>-0.311360</td>\n",
              "      <td>0.754687</td>\n",
              "      <td>3.410310</td>\n",
              "      <td>-0.287400</td>\n",
              "      <td>0.672756</td>\n",
              "      <td>3.393917</td>\n",
              "      <td>-0.467357</td>\n",
              "      <td>0.738297</td>\n",
              "      <td>3.439263</td>\n",
              "      <td>-0.430465</td>\n",
              "      <td>0.669900</td>\n",
              "      <td>3.428097</td>\n",
              "      <td>0.0</td>\n",
              "    </tr>\n",
              "    <tr>\n",
              "      <th>2</th>\n",
              "      <td>-0.037120</td>\n",
              "      <td>-0.529844</td>\n",
              "      <td>3.196127</td>\n",
              "      <td>-0.020126</td>\n",
              "      <td>-0.212045</td>\n",
              "      <td>3.229157</td>\n",
              "      <td>-0.002146</td>\n",
              "      <td>0.100497</td>\n",
              "      <td>3.249228</td>\n",
              "      <td>-0.023377</td>\n",
              "      <td>0.244549</td>\n",
              "      <td>3.261299</td>\n",
              "      <td>-0.151932</td>\n",
              "      <td>-0.043944</td>\n",
              "      <td>3.373470</td>\n",
              "      <td>-0.195765</td>\n",
              "      <td>-0.269656</td>\n",
              "      <td>3.386152</td>\n",
              "      <td>-0.165338</td>\n",
              "      <td>-0.427568</td>\n",
              "      <td>3.139122</td>\n",
              "      <td>-0.190415</td>\n",
              "      <td>-0.453155</td>\n",
              "      <td>3.108771</td>\n",
              "      <td>0.114692</td>\n",
              "      <td>-0.029478</td>\n",
              "      <td>3.124918</td>\n",
              "      <td>0.152207</td>\n",
              "      <td>-0.239422</td>\n",
              "      <td>3.055003</td>\n",
              "      <td>-0.093875</td>\n",
              "      <td>-0.362889</td>\n",
              "      <td>3.067510</td>\n",
              "      <td>-0.154414</td>\n",
              "      <td>-0.407446</td>\n",
              "      <td>3.073234</td>\n",
              "      <td>-0.087593</td>\n",
              "      <td>-0.532938</td>\n",
              "      <td>3.206358</td>\n",
              "      <td>-0.116667</td>\n",
              "      <td>...</td>\n",
              "      <td>-0.093742</td>\n",
              "      <td>-0.505647</td>\n",
              "      <td>2.907959</td>\n",
              "      <td>-0.030305</td>\n",
              "      <td>-0.754397</td>\n",
              "      <td>2.738103</td>\n",
              "      <td>-0.425534</td>\n",
              "      <td>-0.864420</td>\n",
              "      <td>2.797002</td>\n",
              "      <td>-0.375337</td>\n",
              "      <td>-0.798370</td>\n",
              "      <td>2.733720</td>\n",
              "      <td>0.003470</td>\n",
              "      <td>-0.508971</td>\n",
              "      <td>3.157621</td>\n",
              "      <td>0.095714</td>\n",
              "      <td>-0.846280</td>\n",
              "      <td>3.164288</td>\n",
              "      <td>0.118228</td>\n",
              "      <td>-1.157324</td>\n",
              "      <td>3.228918</td>\n",
              "      <td>0.087679</td>\n",
              "      <td>-1.242242</td>\n",
              "      <td>3.176007</td>\n",
              "      <td>-0.046793</td>\n",
              "      <td>-0.088979</td>\n",
              "      <td>2.950454</td>\n",
              "      <td>-0.126086</td>\n",
              "      <td>-0.638089</td>\n",
              "      <td>2.697150</td>\n",
              "      <td>-0.173787</td>\n",
              "      <td>-0.568889</td>\n",
              "      <td>2.696800</td>\n",
              "      <td>-0.078281</td>\n",
              "      <td>-0.157559</td>\n",
              "      <td>2.984520</td>\n",
              "      <td>-0.074679</td>\n",
              "      <td>-0.147777</td>\n",
              "      <td>2.980950</td>\n",
              "      <td>1.0</td>\n",
              "    </tr>\n",
              "    <tr>\n",
              "      <th>3</th>\n",
              "      <td>-0.012773</td>\n",
              "      <td>-0.529072</td>\n",
              "      <td>3.048971</td>\n",
              "      <td>-0.020578</td>\n",
              "      <td>-0.259930</td>\n",
              "      <td>3.002631</td>\n",
              "      <td>-0.014458</td>\n",
              "      <td>0.012057</td>\n",
              "      <td>2.940946</td>\n",
              "      <td>-0.052329</td>\n",
              "      <td>0.156459</td>\n",
              "      <td>3.074113</td>\n",
              "      <td>-0.114020</td>\n",
              "      <td>-0.029522</td>\n",
              "      <td>2.919169</td>\n",
              "      <td>-0.204991</td>\n",
              "      <td>-0.294295</td>\n",
              "      <td>2.836905</td>\n",
              "      <td>-0.163657</td>\n",
              "      <td>-0.494003</td>\n",
              "      <td>2.771952</td>\n",
              "      <td>-0.139357</td>\n",
              "      <td>-0.541682</td>\n",
              "      <td>2.725013</td>\n",
              "      <td>0.195544</td>\n",
              "      <td>-0.000660</td>\n",
              "      <td>3.186731</td>\n",
              "      <td>0.170660</td>\n",
              "      <td>-0.204811</td>\n",
              "      <td>3.113867</td>\n",
              "      <td>0.010598</td>\n",
              "      <td>-0.338275</td>\n",
              "      <td>3.136864</td>\n",
              "      <td>-0.042519</td>\n",
              "      <td>-0.383029</td>\n",
              "      <td>3.148690</td>\n",
              "      <td>-0.072842</td>\n",
              "      <td>-0.532007</td>\n",
              "      <td>3.003581</td>\n",
              "      <td>0.033429</td>\n",
              "      <td>...</td>\n",
              "      <td>-0.055170</td>\n",
              "      <td>-0.418629</td>\n",
              "      <td>3.240206</td>\n",
              "      <td>-0.112634</td>\n",
              "      <td>-0.778570</td>\n",
              "      <td>3.333710</td>\n",
              "      <td>-0.054087</td>\n",
              "      <td>-1.188009</td>\n",
              "      <td>3.483277</td>\n",
              "      <td>-0.086162</td>\n",
              "      <td>-1.245032</td>\n",
              "      <td>3.447848</td>\n",
              "      <td>-0.038671</td>\n",
              "      <td>-0.394736</td>\n",
              "      <td>3.156002</td>\n",
              "      <td>0.024223</td>\n",
              "      <td>-0.779089</td>\n",
              "      <td>3.141109</td>\n",
              "      <td>0.112975</td>\n",
              "      <td>-1.176088</td>\n",
              "      <td>3.220782</td>\n",
              "      <td>0.079176</td>\n",
              "      <td>-1.256636</td>\n",
              "      <td>3.163659</td>\n",
              "      <td>-0.033425</td>\n",
              "      <td>0.180406</td>\n",
              "      <td>3.322398</td>\n",
              "      <td>0.066803</td>\n",
              "      <td>0.164190</td>\n",
              "      <td>2.400077</td>\n",
              "      <td>0.045451</td>\n",
              "      <td>0.203535</td>\n",
              "      <td>2.437390</td>\n",
              "      <td>0.001310</td>\n",
              "      <td>0.380204</td>\n",
              "      <td>3.162894</td>\n",
              "      <td>0.037250</td>\n",
              "      <td>0.354001</td>\n",
              "      <td>3.062800</td>\n",
              "      <td>1.0</td>\n",
              "    </tr>\n",
              "    <tr>\n",
              "      <th>4</th>\n",
              "      <td>-0.047106</td>\n",
              "      <td>-0.412445</td>\n",
              "      <td>3.235339</td>\n",
              "      <td>-0.038191</td>\n",
              "      <td>-0.071661</td>\n",
              "      <td>3.290411</td>\n",
              "      <td>-0.031392</td>\n",
              "      <td>0.257797</td>\n",
              "      <td>3.327315</td>\n",
              "      <td>-0.093013</td>\n",
              "      <td>0.370868</td>\n",
              "      <td>3.380670</td>\n",
              "      <td>0.110116</td>\n",
              "      <td>0.197215</td>\n",
              "      <td>3.059568</td>\n",
              "      <td>0.067655</td>\n",
              "      <td>0.167216</td>\n",
              "      <td>2.761608</td>\n",
              "      <td>0.076868</td>\n",
              "      <td>0.161195</td>\n",
              "      <td>2.524500</td>\n",
              "      <td>0.080048</td>\n",
              "      <td>0.159445</td>\n",
              "      <td>2.449652</td>\n",
              "      <td>0.116586</td>\n",
              "      <td>0.114643</td>\n",
              "      <td>3.433924</td>\n",
              "      <td>0.093295</td>\n",
              "      <td>0.198710</td>\n",
              "      <td>3.144887</td>\n",
              "      <td>0.014961</td>\n",
              "      <td>0.393039</td>\n",
              "      <td>3.108371</td>\n",
              "      <td>-0.008873</td>\n",
              "      <td>0.444485</td>\n",
              "      <td>3.158270</td>\n",
              "      <td>-0.054637</td>\n",
              "      <td>-0.418274</td>\n",
              "      <td>3.240051</td>\n",
              "      <td>-0.115073</td>\n",
              "      <td>...</td>\n",
              "      <td>-0.075021</td>\n",
              "      <td>-0.500951</td>\n",
              "      <td>3.216806</td>\n",
              "      <td>-0.062404</td>\n",
              "      <td>-0.858851</td>\n",
              "      <td>3.323531</td>\n",
              "      <td>-0.050386</td>\n",
              "      <td>-1.191924</td>\n",
              "      <td>3.473920</td>\n",
              "      <td>-0.089267</td>\n",
              "      <td>-1.246076</td>\n",
              "      <td>3.445071</td>\n",
              "      <td>0.050032</td>\n",
              "      <td>-0.498513</td>\n",
              "      <td>3.125206</td>\n",
              "      <td>0.080986</td>\n",
              "      <td>-0.792042</td>\n",
              "      <td>3.103729</td>\n",
              "      <td>0.122053</td>\n",
              "      <td>-1.179171</td>\n",
              "      <td>3.211416</td>\n",
              "      <td>0.083150</td>\n",
              "      <td>-1.254722</td>\n",
              "      <td>3.160029</td>\n",
              "      <td>-0.014735</td>\n",
              "      <td>0.034849</td>\n",
              "      <td>3.196696</td>\n",
              "      <td>-0.188944</td>\n",
              "      <td>-0.051541</td>\n",
              "      <td>3.764974</td>\n",
              "      <td>-0.216877</td>\n",
              "      <td>0.031624</td>\n",
              "      <td>3.657333</td>\n",
              "      <td>0.303725</td>\n",
              "      <td>0.271560</td>\n",
              "      <td>2.753092</td>\n",
              "      <td>0.271065</td>\n",
              "      <td>0.249541</td>\n",
              "      <td>2.792111</td>\n",
              "      <td>1.0</td>\n",
              "    </tr>\n",
              "  </tbody>\n",
              "</table>\n",
              "<p>5 rows × 2626 columns</p>\n",
              "</div>"
            ],
            "text/plain": [
              "          0         1         2         3  ...      2622      2623      2624  labels\n",
              "0 -0.110578  0.165554  3.742496 -0.160390  ... -0.319847  0.697825  3.378924     0.0\n",
              "1 -0.227082  0.153707  3.737444 -0.205563  ... -0.430465  0.669900  3.428097     0.0\n",
              "2 -0.037120 -0.529844  3.196127 -0.020126  ... -0.074679 -0.147777  2.980950     1.0\n",
              "3 -0.012773 -0.529072  3.048971 -0.020578  ...  0.037250  0.354001  3.062800     1.0\n",
              "4 -0.047106 -0.412445  3.235339 -0.038191  ...  0.271065  0.249541  2.792111     1.0\n",
              "\n",
              "[5 rows x 2626 columns]"
            ]
          },
          "metadata": {
            "tags": []
          },
          "execution_count": 27
        }
      ]
    },
    {
      "cell_type": "code",
      "metadata": {
        "colab": {
          "base_uri": "https://localhost:8080/"
        },
        "id": "3DbNOFi77rkb",
        "outputId": "7b1c671d-b6a2-4d79-f000-bc0b936b745a"
      },
      "source": [
        "skeletons.shape"
      ],
      "execution_count": null,
      "outputs": [
        {
          "output_type": "execute_result",
          "data": {
            "text/plain": [
              "(759, 2626)"
            ]
          },
          "metadata": {
            "tags": []
          },
          "execution_count": 28
        }
      ]
    },
    {
      "cell_type": "markdown",
      "metadata": {
        "id": "OJxKC31u7wkg"
      },
      "source": [
        "## **Dataloader**"
      ]
    },
    {
      "cell_type": "code",
      "metadata": {
        "id": "ahKrK9dK7ygS"
      },
      "source": [
        "class Skeleton_Dataset(Dataset):\n",
        "    def __init__(self, file_path, transform=None):\n",
        "        self.data = pd.read_csv(file_path)\n",
        "        self.transform = transform\n",
        "        self.labels = self.data.iloc[:,-1]\n",
        "\n",
        "\n",
        "    def __len__(self):\n",
        "        return len(self.data) \n",
        "    \n",
        "    \n",
        "    def __getitem__(self, idx):\n",
        "        item = np.asarray(self.data.iloc[idx,:-1]).reshape(35,25*3)\n",
        "        label = self.labels[idx]\n",
        "        if self.transform != None:\n",
        "            item = transform(item)\n",
        "            \n",
        "        \n",
        "\n",
        "        return (item, label) "
      ],
      "execution_count": null,
      "outputs": []
    },
    {
      "cell_type": "code",
      "metadata": {
        "id": "bLD7WYHf7ulj"
      },
      "source": [
        "dataset = Skeleton_Dataset(file_path = \"skeletons_classes_35.csv\", transform=None)"
      ],
      "execution_count": null,
      "outputs": []
    },
    {
      "cell_type": "code",
      "metadata": {
        "id": "a4pZEVKZ8AOQ"
      },
      "source": [
        "skel, lab = dataset.__getitem__(41)\n",
        "skel, lab = dataset[41]"
      ],
      "execution_count": null,
      "outputs": []
    },
    {
      "cell_type": "code",
      "metadata": {
        "colab": {
          "base_uri": "https://localhost:8080/",
          "height": 35
        },
        "id": "S0hcEDm18DW6",
        "outputId": "fd45b5c5-b2fb-4409-e578-7161cc29187d"
      },
      "source": [
        "LABELS[lab]"
      ],
      "execution_count": null,
      "outputs": [
        {
          "output_type": "execute_result",
          "data": {
            "application/vnd.google.colaboratory.intrinsic+json": {
              "type": "string"
            },
            "text/plain": [
              "'wear jacket'"
            ]
          },
          "metadata": {
            "tags": []
          },
          "execution_count": 32
        }
      ]
    },
    {
      "cell_type": "code",
      "metadata": {
        "colab": {
          "base_uri": "https://localhost:8080/"
        },
        "id": "TL8p3boO8IEb",
        "outputId": "7f2c20e4-cced-4521-ecec-086f32e5bfa8"
      },
      "source": [
        "skel.shape"
      ],
      "execution_count": null,
      "outputs": [
        {
          "output_type": "execute_result",
          "data": {
            "text/plain": [
              "(35, 75)"
            ]
          },
          "metadata": {
            "tags": []
          },
          "execution_count": 33
        }
      ]
    },
    {
      "cell_type": "code",
      "metadata": {
        "id": "u7P9uMzY8VzP"
      },
      "source": [
        "skels_for_draw = skel.reshape(-1,25,3)"
      ],
      "execution_count": null,
      "outputs": []
    },
    {
      "cell_type": "code",
      "metadata": {
        "colab": {
          "base_uri": "https://localhost:8080/",
          "height": 248
        },
        "id": "3la5Prr88Zr5",
        "outputId": "55c6c4b8-d6f8-4aba-883f-e563cb15e0cc"
      },
      "source": [
        "from mpl_toolkits.mplot3d import Axes3D  \n",
        "import mpl_toolkits.mplot3d as plt3d\n",
        "import matplotlib.animation as animation\n",
        "\n",
        "import matplotlib.pyplot as plt\n",
        "import numpy as np\n",
        "from time import sleep\n",
        "\n",
        "\n",
        "\n",
        "import matplotlib.pyplot as plt\n",
        "%matplotlib inline\n",
        "#%matplotlib notebook\n",
        "\n",
        "bone_pairs = (\n",
        "    (1, 2), (2, 21), (3, 21), (4, 3), (5, 21), (6, 5),\n",
        "    (7, 6), (8, 7), (9, 21), (10, 9), (11, 10), (12, 11),\n",
        "    (13, 1), (14, 13), (15, 14), (16, 15), (17, 1), (18, 17),\n",
        "    (19, 18), (20, 19), (22, 23), (21, 21), (23, 8), (24, 25),(25, 12)\n",
        ")\n",
        "\n",
        "i = 0\n",
        "# for for_draw in skels_for_draw:\n",
        "i = i + 1\n",
        "fig = plt.figure()\n",
        "ax = fig.add_subplot(111, projection='3d')\n",
        "for_draw = skels_for_draw[10]\n",
        "\n",
        "for pair in bone_pairs:\n",
        "    xs = for_draw[pair[0]-1][0], for_draw[pair[1]-1][0]\n",
        "    ys = for_draw[pair[0]-1][1], for_draw[pair[1]-1][1]\n",
        "    zs = for_draw[pair[0]-1][2], for_draw[pair[1]-1][2]\n",
        "\n",
        "    line = plt3d.art3d.Line3D(zs, xs, ys)\n",
        "    ax.add_line(line)\n",
        "\n",
        "\n",
        "for x,y,z in for_draw:\n",
        "    ax.scatter(z, x, y, color='black', marker='s')\n",
        "\n",
        "    ax.set_ylim((-0.3, 0.3))\n",
        "    ax.set_zlim((-1.0, 0.25))\n",
        "    ax.set_xlim((3.0, 4.0))\n",
        "\n",
        "\n",
        "    ax.set_xlabel('X Label')\n",
        "    ax.set_ylabel('Y Label')\n",
        "    ax.set_zlabel('Z Label')\n",
        "\n",
        "\n",
        "    #plt.show()"
      ],
      "execution_count": null,
      "outputs": [
        {
          "output_type": "display_data",
          "data": {
            "image/png": "[encoded data removed]",
            "text/plain": [
              "<Figure size 432x288 with 1 Axes>"
            ]
          },
          "metadata": {
            "tags": [],
            "needs_background": "light"
          }
        }
      ]
    },
    {
      "cell_type": "markdown",
      "metadata": {
        "id": "4iTyBpvu8l5D"
      },
      "source": [
        "## **Оборачиваем в Даталоадер:**"
      ]
    },
    {
      "cell_type": "code",
      "metadata": {
        "id": "Tvnk11wX9CLN"
      },
      "source": [
        "train_dataset, test_dataset = torch.utils.data.random_split(dataset, [int(0.75*len(dataset)),int(0.25*len(dataset))])\n",
        "train_loader = DataLoader(train_dataset, batch_size = 16, shuffle=True)\n",
        "test_loader = DataLoader(test_dataset, batch_size = 1, shuffle=True)"
      ],
      "execution_count": null,
      "outputs": []
    },
    {
      "cell_type": "markdown",
      "metadata": {
        "id": "2bpj161_9S47"
      },
      "source": [
        "### Инициализируем наши переменные и модель"
      ]
    },
    {
      "cell_type": "code",
      "metadata": {
        "id": "wY7a7i169l3G"
      },
      "source": [
        "class LSTM_net(nn.Module):\n",
        "    # Для того, что бы инициализировать LSTM нам нужно указать:\n",
        "    # input_dim - размерность входного тензора. тензор входит в формате (seq_len, batch, input_dim)\n",
        "    # (batch_size, seq, inp_dim) - if batch_first=True\n",
        "    # hidden_dim - размерность вектора состояния h\n",
        "    # output_dim - размерность выхода\n",
        "    # layer_num - количество скрытых слоев в сети\n",
        "    def __init__(self,input_dim,hidden_dim,output_dim,layer_num):\n",
        "        super().__init__()\n",
        "        self.hidden_dim = hidden_dim\n",
        "        self.output_dim = output_dim\n",
        "        self.lstm = torch.nn.LSTM(input_dim, hidden_dim,layer_num,batch_first=True)\n",
        "        self.dr = torch.nn.Dropout2d(0.1)\n",
        "        self.fc = torch.nn.Linear(hidden_dim,output_dim)\n",
        "        \n",
        "        \n",
        "    def forward(self,inputs):\n",
        "        x = inputs\n",
        "        lstm_out,(hn,cn) = self.lstm(x)\n",
        "        out = self.fc(lstm_out[:,-1,:])\n",
        "        return out"
      ],
      "execution_count": null,
      "outputs": []
    },
    {
      "cell_type": "code",
      "metadata": {
        "colab": {
          "base_uri": "https://localhost:8080/"
        },
        "id": "bC05_Xre9SFx",
        "outputId": "7113c0e2-6e03-4570-94f4-f95daf40da98"
      },
      "source": [
        "n_hidden = 128\n",
        "n_joints = 25*3\n",
        "n_categories = len(LABELS)\n",
        "n_layer = 4\n",
        "rnn = LSTM_net(n_joints,n_hidden,n_categories,n_layer)\n",
        "rnn.to(device)"
      ],
      "execution_count": null,
      "outputs": [
        {
          "output_type": "execute_result",
          "data": {
            "text/plain": [
              "LSTM_net(\n",
              "  (lstm): LSTM(75, 128, num_layers=4, batch_first=True)\n",
              "  (dr): Dropout2d(p=0.1, inplace=False)\n",
              "  (fc): Linear(in_features=128, out_features=8, bias=True)\n",
              ")"
            ]
          },
          "metadata": {
            "tags": []
          },
          "execution_count": 45
        }
      ]
    },
    {
      "cell_type": "code",
      "metadata": {
        "id": "m4Q0TNYL-I29"
      },
      "source": [
        "def categoryFromOutput(output):\n",
        "    top_n, top_i = output.topk(1)\n",
        "    category_i = top_i[0].item()\n",
        "#     print(output.topk(5))\n",
        "    return LABELS[category_i], category_i\n",
        "\n",
        "def timeSince(since):\n",
        "    now = time.time()\n",
        "    s = now - since\n",
        "    m = math.floor(s / 60)\n",
        "    s -= m * 60\n",
        "    return '%dm %ds' % (m, s)"
      ],
      "execution_count": null,
      "outputs": []
    },
    {
      "cell_type": "markdown",
      "metadata": {
        "id": "F0Q3Ny6uKmWt"
      },
      "source": [
        "\n",
        "\n",
        "# **35** **кадров**"
      ]
    },
    {
      "cell_type": "code",
      "metadata": {
        "colab": {
          "base_uri": "https://localhost:8080/"
        },
        "id": "t1Ed32b--OPx",
        "outputId": "e6dcbc74-dfec-4d11-c991-cd97753f44f5"
      },
      "source": [
        "criterion = nn.CrossEntropyLoss()\n",
        "learning_rate = 0.0007\n",
        "optimizer = optim.SGD(rnn.parameters(),lr=learning_rate,momentum=0.9)\n",
        "\n",
        "all_losses = []\n",
        "start = time.time()\n",
        "counter = 0\n",
        "for epoch in range(600):  \n",
        "    current_loss = 0\n",
        "    running_loss = 0.0\n",
        "    for i, data in enumerate(train_loader, 0):\n",
        "        \n",
        "        inputs, labels = data[0].to(device), data[1].to(device)\n",
        "        optimizer.zero_grad()\n",
        "    \n",
        "        output = rnn(inputs.float())\n",
        "        loss = criterion(output, labels)\n",
        "        loss.backward()\n",
        "        optimizer.step() \n",
        "\n",
        "\n",
        "        current_loss += loss.item()\n",
        "        category = LABELS[int(labels[0])]\n",
        "\n",
        "        if counter % 500 == 0:\n",
        "            guess, guess_i = categoryFromOutput(output)\n",
        "            correct = '✓' if guess == category else '✗ (%s)' % category\n",
        "            print('epoch : %d iter : %d (%s) %.4f  / %s %s' % (epoch, i, timeSince(start), loss, guess, correct))\n",
        "\n",
        "        \n",
        "        counter = counter + 1\n",
        "    if counter % 100 == 0:\n",
        "        all_losses.append(current_loss / 25)\n",
        "        current_loss = 0"
      ],
      "execution_count": null,
      "outputs": [
        {
          "output_type": "stream",
          "text": [
            "epoch : 0 iter : 0 (0m 0s) 2.0870  / headache ✓\n",
            "epoch : 9 iter : 5 (0m 57s) 2.0657  / headache ✗ (wear jacket)\n",
            "epoch : 18 iter : 10 (1m 56s) 2.0903  / rub two hands together ✗ (kicking something)\n",
            "epoch : 27 iter : 15 (2m 54s) 2.0598  / rub two hands together ✗ (drop)\n",
            "epoch : 36 iter : 20 (3m 52s) 2.0574  / rub two hands together ✓\n",
            "epoch : 45 iter : 25 (4m 51s) 2.0760  / rub two hands together ✗ (slapping other person)\n",
            "epoch : 54 iter : 30 (5m 50s) 2.1194  / rub two hands together ✗ (headache)\n",
            "epoch : 63 iter : 35 (6m 49s) 2.0522  / rub two hands together ✗ (wear jacket)\n",
            "epoch : 72 iter : 40 (7m 47s) 2.1079  / rub two hands together ✗ (kicking something)\n",
            "epoch : 81 iter : 45 (8m 43s) 2.0743  / rub two hands together ✓\n",
            "epoch : 90 iter : 50 (9m 39s) 2.0840  / rub two hands together ✗ (kicking something)\n",
            "epoch : 100 iter : 0 (10m 35s) 2.0716  / rub two hands together ✗ (drop)\n",
            "epoch : 109 iter : 5 (11m 30s) 2.0970  / rub two hands together ✗ (slapping other person)\n",
            "epoch : 118 iter : 10 (12m 26s) 2.0729  / rub two hands together ✗ (headache)\n",
            "epoch : 127 iter : 15 (13m 22s) 2.0801  / rub two hands together ✗ (kicking something)\n",
            "epoch : 136 iter : 20 (14m 17s) 2.0803  / rub two hands together ✗ (kicking something)\n",
            "epoch : 145 iter : 25 (15m 13s) 2.0756  / rub two hands together ✗ (cross hands in front)\n",
            "epoch : 154 iter : 30 (16m 10s) 2.0499  / rub two hands together ✗ (headache)\n",
            "epoch : 163 iter : 35 (17m 8s) 2.0560  / rub two hands together ✗ (headache)\n",
            "epoch : 172 iter : 40 (18m 6s) 2.0835  / rub two hands together ✗ (cross hands in front)\n",
            "epoch : 181 iter : 45 (19m 4s) 2.0905  / rub two hands together ✗ (slapping other person)\n",
            "epoch : 190 iter : 50 (20m 2s) 2.0726  / rub two hands together ✗ (clapping)\n",
            "epoch : 200 iter : 0 (21m 0s) 2.0684  / rub two hands together ✗ (cross hands in front)\n",
            "epoch : 209 iter : 5 (21m 59s) 1.9815  / rub two hands together ✗ (cross hands in front)\n",
            "epoch : 218 iter : 10 (22m 57s) 1.7916  / rub two hands together ✗ (wear jacket)\n",
            "epoch : 227 iter : 15 (23m 55s) 1.6290  / kicking something ✗ (slapping other person)\n",
            "epoch : 236 iter : 20 (24m 53s) 1.6158  / drop ✗ (wear jacket)\n",
            "epoch : 245 iter : 25 (25m 52s) 1.6838  / drop ✗ (kicking something)\n",
            "epoch : 254 iter : 30 (26m 50s) 1.7707  / rub two hands together ✓\n",
            "epoch : 263 iter : 35 (27m 44s) 1.6769  / drop ✗ (slapping other person)\n",
            "epoch : 272 iter : 40 (28m 38s) 1.7338  / rub two hands together ✗ (headache)\n",
            "epoch : 281 iter : 45 (29m 37s) 1.7336  / kicking something ✗ (slapping other person)\n",
            "epoch : 290 iter : 50 (30m 35s) 1.6561  / rub two hands together ✗ (wear jacket)\n",
            "epoch : 300 iter : 0 (31m 34s) 1.5866  / cross hands in front ✗ (clapping)\n",
            "epoch : 309 iter : 5 (32m 33s) 1.6849  / rub two hands together ✗ (slapping other person)\n",
            "epoch : 318 iter : 10 (33m 31s) 1.6144  / kicking something ✗ (slapping other person)\n",
            "epoch : 327 iter : 15 (34m 30s) 1.5099  / cross hands in front ✓\n",
            "epoch : 336 iter : 20 (35m 28s) 1.9037  / clapping ✗ (rub two hands together)\n",
            "epoch : 345 iter : 25 (36m 27s) 1.8381  / rub two hands together ✗ (clapping)\n",
            "epoch : 354 iter : 30 (37m 26s) 1.6137  / kicking something ✗ (drop)\n",
            "epoch : 363 iter : 35 (38m 24s) 1.7532  / slapping other person ✗ (kicking something)\n",
            "epoch : 372 iter : 40 (39m 23s) 1.5842  / kicking something ✗ (drop)\n",
            "epoch : 381 iter : 45 (40m 21s) 1.8204  / wear jacket ✗ (drop)\n",
            "epoch : 390 iter : 50 (41m 20s) 1.4668  / headache ✓\n",
            "epoch : 400 iter : 0 (42m 19s) 1.6139  / clapping ✗ (headache)\n",
            "epoch : 409 iter : 5 (43m 17s) 1.3722  / rub two hands together ✓\n",
            "epoch : 418 iter : 10 (44m 16s) 1.4476  / clapping ✗ (cross hands in front)\n",
            "epoch : 427 iter : 15 (45m 15s) 1.1302  / slapping other person ✓\n",
            "epoch : 436 iter : 20 (46m 14s) 1.4826  / cross hands in front ✗ (headache)\n",
            "epoch : 445 iter : 25 (47m 12s) 1.0600  / clapping ✗ (rub two hands together)\n",
            "epoch : 454 iter : 30 (48m 11s) 1.2178  / kicking something ✗ (drop)\n",
            "epoch : 463 iter : 35 (49m 9s) 1.0622  / wear jacket ✗ (drop)\n",
            "epoch : 472 iter : 40 (50m 8s) 1.4056  / rub two hands together ✗ (clapping)\n",
            "epoch : 481 iter : 45 (51m 6s) 1.5264  / rub two hands together ✗ (headache)\n",
            "epoch : 490 iter : 50 (52m 5s) 0.9306  / slapping other person ✓\n",
            "epoch : 500 iter : 0 (53m 3s) 1.5244  / rub two hands together ✓\n",
            "epoch : 509 iter : 5 (54m 2s) 1.4191  / rub two hands together ✗ (headache)\n",
            "epoch : 518 iter : 10 (55m 0s) 1.1259  / slapping other person ✓\n",
            "epoch : 527 iter : 15 (55m 58s) 1.4040  / cross hands in front ✗ (clapping)\n",
            "epoch : 536 iter : 20 (56m 55s) 0.9121  / rub two hands together ✗ (headache)\n",
            "epoch : 545 iter : 25 (57m 48s) 1.0549  / rub two hands together ✓\n",
            "epoch : 554 iter : 30 (58m 41s) 1.0173  / rub two hands together ✗ (clapping)\n",
            "epoch : 563 iter : 35 (59m 35s) 0.8675  / headache ✗ (slapping other person)\n",
            "epoch : 572 iter : 40 (60m 28s) 1.2486  / wear jacket ✗ (drop)\n",
            "epoch : 581 iter : 45 (61m 24s) 1.5962  / slapping other person ✓\n",
            "epoch : 590 iter : 50 (62m 21s) 1.0114  / headache ✓\n"
          ],
          "name": "stdout"
        }
      ]
    },
    {
      "cell_type": "markdown",
      "metadata": {
        "id": "gpGqAx44W5-8"
      },
      "source": [
        "При кол-ве lstm модулей 4, кадров 35 Accuracy of the network: 45.51724137931034"
      ]
    },
    {
      "cell_type": "code",
      "metadata": {
        "colab": {
          "base_uri": "https://localhost:8080/",
          "height": 283
        },
        "id": "afb1JeyaWcLQ",
        "outputId": "cf39e38e-878d-4c1b-b9c1-c696d71c2f99"
      },
      "source": [
        "import matplotlib.pyplot as plt\n",
        "%matplotlib inline\n",
        "plt.plot(list(range(0,len(all_losses))),all_losses)"
      ],
      "execution_count": null,
      "outputs": [
        {
          "output_type": "execute_result",
          "data": {
            "text/plain": [
              "[<matplotlib.lines.Line2D at 0x7f93ee2a3fd0>]"
            ]
          },
          "metadata": {
            "tags": []
          },
          "execution_count": 48
        },
        {
          "output_type": "display_data",
          "data": {
            "image/png": "[encoded data removed]",
            "text/plain": [
              "<Figure size 432x288 with 1 Axes>"
            ]
          },
          "metadata": {
            "tags": [],
            "needs_background": "light"
          }
        }
      ]
    },
    {
      "cell_type": "code",
      "metadata": {
        "colab": {
          "base_uri": "https://localhost:8080/"
        },
        "id": "b6oZGeNuWkTI",
        "outputId": "1e00bd8f-4ade-4bb8-cf81-06f8abcd81bc"
      },
      "source": [
        "total = 0\n",
        "right = 0\n",
        "counter = 0\n",
        "\n",
        "rnn.eval()\n",
        "with torch.no_grad():\n",
        "    for i, data in enumerate(test_loader, 0):\n",
        "        counter = counter + 1\n",
        "        inputs, labels = data[0].to(device), data[1].to(device)  \n",
        "        output = rnn(inputs.float())\n",
        "        guess, guess_i = categoryFromOutput(output)\n",
        "        category = LABELS[int(labels[0])]\n",
        "        \n",
        "        if guess == category:\n",
        "            right = right + 1\n",
        "\n",
        "\n",
        "print('Accuracy of the network:  ',  (100 * right / counter))"
      ],
      "execution_count": null,
      "outputs": [
        {
          "output_type": "stream",
          "text": [
            "Accuracy of the network:   45.51724137931034\n"
          ],
          "name": "stdout"
        }
      ]
    },
    {
      "cell_type": "markdown",
      "metadata": {
        "id": "rAh_aHx-pUpL"
      },
      "source": [
        "При кол-ве lstm модулей 2, кадров 35\n",
        "Accuracy of the network:   55.51724137931034 "
      ]
    },
    {
      "cell_type": "code",
      "metadata": {
        "colab": {
          "base_uri": "https://localhost:8080/"
        },
        "id": "BRpB2IRPKEr_",
        "outputId": "5c2f48d5-5c3f-46eb-ae52-6ed6b6c0cf57"
      },
      "source": [
        "total = 0\n",
        "right = 0\n",
        "counter = 0\n",
        "\n",
        "rnn.eval()\n",
        "with torch.no_grad():\n",
        "    for i, data in enumerate(test_loader, 0):\n",
        "        counter = counter + 1\n",
        "        inputs, labels = data[0].to(device), data[1].to(device)  \n",
        "        output = rnn(inputs.float())\n",
        "        guess, guess_i = categoryFromOutput(output)\n",
        "        category = LABELS[int(labels[0])]\n",
        "        \n",
        "        if guess == category:\n",
        "            right = right + 1\n",
        "\n",
        "\n",
        "print('Accuracy of the network:  ',  (100 * right / counter))"
      ],
      "execution_count": null,
      "outputs": [
        {
          "output_type": "stream",
          "text": [
            "Accuracy of the network:   55.51724137931034\n"
          ],
          "name": "stdout"
        }
      ]
    },
    {
      "cell_type": "markdown",
      "metadata": {
        "id": "Kge67bwwIRmh"
      },
      "source": [
        "При кол-ве lstm модулей 10, кадров 35 Accuracy of the network:   10.0"
      ]
    },
    {
      "cell_type": "code",
      "metadata": {
        "colab": {
          "base_uri": "https://localhost:8080/",
          "height": 283
        },
        "id": "ruUhrU7sJdKr",
        "outputId": "9c8bea16-ac62-49e8-d313-eaefd5034c12"
      },
      "source": [
        "import matplotlib.pyplot as plt\n",
        "%matplotlib inline\n",
        "plt.plot(list(range(0,len(all_losses))),all_losses)\n",
        "#plt.show()"
      ],
      "execution_count": null,
      "outputs": [
        {
          "output_type": "execute_result",
          "data": {
            "text/plain": [
              "[<matplotlib.lines.Line2D at 0x7f93e5c7cad0>]"
            ]
          },
          "metadata": {
            "tags": []
          },
          "execution_count": 43
        },
        {
          "output_type": "display_data",
          "data": {
            "image/png": "[encoded data removed]",
            "text/plain": [
              "<Figure size 432x288 with 1 Axes>"
            ]
          },
          "metadata": {
            "tags": [],
            "needs_background": "light"
          }
        }
      ]
    },
    {
      "cell_type": "code",
      "metadata": {
        "colab": {
          "base_uri": "https://localhost:8080/"
        },
        "id": "GM2ByLe8Hqtn",
        "outputId": "72199c55-eec9-431b-a356-1fb8eba2938d"
      },
      "source": [
        "total = 0\n",
        "right = 0\n",
        "counter = 0\n",
        "\n",
        "rnn.eval()\n",
        "with torch.no_grad():\n",
        "    for i, data in enumerate(test_loader, 0):\n",
        "        counter = counter + 1\n",
        "        inputs, labels = data[0].to(device), data[1].to(device)  \n",
        "        output = rnn(inputs.float())\n",
        "        guess, guess_i = categoryFromOutput(output)\n",
        "        category = LABELS[int(labels[0])]\n",
        "        \n",
        "        if guess == category:\n",
        "            right = right + 1\n",
        "\n",
        "\n",
        "print('Accuracy of the network:  ',  (100 * right / counter))"
      ],
      "execution_count": null,
      "outputs": [
        {
          "output_type": "stream",
          "text": [
            "Accuracy of the network:   10.0\n"
          ],
          "name": "stdout"
        }
      ]
    }
  ]
}